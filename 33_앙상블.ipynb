{
 "cells": [
  {
   "cell_type": "markdown",
   "id": "ed0f2d93",
   "metadata": {},
   "source": [
    "https://archive.ics.uci.edu/dataset/240/human+activity+recognition+using+smartphones"
   ]
  },
  {
   "cell_type": "code",
   "execution_count": 1,
   "id": "35e96d11",
   "metadata": {},
   "outputs": [],
   "source": [
    "import pandas as pd\n",
    "\n",
    "def get_new_feature_name_df(old_feature_name_df):\n",
    "    # 중복된 feature 이름 처리: 이름 뒤에 _0, _1, ... 등의 suffix 추가\n",
    "    feature_dup_df = old_feature_name_df.groupby('column_name').cumcount()\n",
    "    new_feature_name_df = old_feature_name_df.copy()\n",
    "    new_feature_name_df['column_name'] = new_feature_name_df['column_name'] + \"_\" + feature_dup_df.astype(str)\n",
    "    return new_feature_name_df\n",
    "\n",
    "def get_human_dataset(base_path='./data/UCI-HAR_Dataset/'):\n",
    "    # 피처 이름 로딩\n",
    "    feature_path = base_path + 'features.txt'\n",
    "    feature_name_df = pd.read_csv(feature_path, sep='\\s+', header=None, names=['column_index', 'column_name'])\n",
    "\n",
    "    # 중복 피처명 처리\n",
    "    new_feature_name_df = get_new_feature_name_df(feature_name_df)\n",
    "    feature_names = new_feature_name_df['column_name'].tolist()\n",
    "\n",
    "    # 학습/테스트 데이터 로딩\n",
    "    X_train = pd.read_csv(base_path + 'train/X_train.txt', sep='\\s+', names=feature_names)\n",
    "    X_test = pd.read_csv(base_path + 'test/X_test.txt', sep='\\s+', names=feature_names)\n",
    "\n",
    "    y_train = pd.read_csv(base_path + 'train/y_train.txt', sep='\\s+', header=None, names=['action'])\n",
    "    y_test = pd.read_csv(base_path + 'test/y_test.txt', sep='\\s+', header=None, names=['action'])\n",
    "\n",
    "    return X_train, X_test, y_train, y_test\n"
   ]
  },
  {
   "cell_type": "code",
   "execution_count": 2,
   "id": "d01e65d1",
   "metadata": {},
   "outputs": [
    {
     "name": "stdout",
     "output_type": "stream",
     "text": [
      "(7352, 561) (2947, 561)\n",
      "action\n",
      "6    1407\n",
      "5    1374\n",
      "4    1286\n",
      "1    1226\n",
      "2    1073\n",
      "3     986\n",
      "Name: count, dtype: int64\n"
     ]
    }
   ],
   "source": [
    "X_train, X_test, y_train, y_test = get_human_dataset()\n",
    "\n",
    "print(X_train.shape, X_test.shape)\n",
    "print(y_train['action'].value_counts())\n"
   ]
  }
 ],
 "metadata": {
  "kernelspec": {
   "display_name": "hi_ml_env",
   "language": "python",
   "name": "python3"
  },
  "language_info": {
   "codemirror_mode": {
    "name": "ipython",
    "version": 3
   },
   "file_extension": ".py",
   "mimetype": "text/x-python",
   "name": "python",
   "nbconvert_exporter": "python",
   "pygments_lexer": "ipython3",
   "version": "3.10.16"
  }
 },
 "nbformat": 4,
 "nbformat_minor": 5
}
