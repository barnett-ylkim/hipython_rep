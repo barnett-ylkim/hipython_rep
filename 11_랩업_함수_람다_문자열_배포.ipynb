{
 "cells": [
  {
   "cell_type": "markdown",
   "metadata": {
    "colab_type": "text",
    "id": "view-in-github"
   },
   "source": [
    "<a href=\"https://colab.research.google.com/github/zzhining/python_basic/blob/master/exercise/%ED%95%A8%EC%88%98_%EB%9E%8C%EB%8B%A4_%EB%AC%B8%EC%9E%90%EC%97%B4.ipynb\" target=\"_parent\"><img src=\"https://colab.research.google.com/assets/colab-badge.svg\" alt=\"Open In Colab\"/></a>"
   ]
  },
  {
   "cell_type": "markdown",
   "metadata": {
    "id": "gbEnq1KDtnFO"
   },
   "source": [
    "1. 두 수를 입력 받아 그 곱을 반환하는 함수를 작성하세요."
   ]
  },
  {
   "cell_type": "code",
   "execution_count": null,
   "metadata": {
    "id": "m9muCNmUtSZP"
   },
   "outputs": [],
   "source": [
    "#답을 작성하세요.\n",
    "def multiply_numbers(a, b):\n"
   ]
  },
  {
   "cell_type": "code",
   "execution_count": null,
   "metadata": {
    "id": "9AYm4gg_vJ6o"
   },
   "outputs": [],
   "source": [
    "#테스트\n",
    "print(multiply_numbers(3, 5))  #15"
   ]
  },
  {
   "cell_type": "markdown",
   "metadata": {
    "id": "FoHkPi26vPFE"
   },
   "source": [
    "2. 숫자 리스트를 입력 받아 평균을 반환하는 함수를 작성하세요."
   ]
  },
  {
   "cell_type": "code",
   "execution_count": null,
   "metadata": {
    "id": "4J86UASJvMT2"
   },
   "outputs": [],
   "source": [
    "#답을 작성하세요.\n",
    "def calc_average(numbers):\n"
   ]
  },
  {
   "cell_type": "code",
   "execution_count": null,
   "metadata": {},
   "outputs": [],
   "source": [
    "#람다로 정의"
   ]
  },
  {
   "cell_type": "code",
   "execution_count": null,
   "metadata": {
    "id": "767sASqYvSnv"
   },
   "outputs": [],
   "source": [
    "#테스트\n",
    "print(calc_average([10, 20, 30, 40, 50])) #30"
   ]
  },
  {
   "cell_type": "markdown",
   "metadata": {
    "id": "L0FUMKO8voRt"
   },
   "source": [
    "3. 주어진 숫자가 짝수이면 True, 홀수이면 False를 반환하는 함수를 작성하세요."
   ]
  },
  {
   "cell_type": "code",
   "execution_count": null,
   "metadata": {
    "id": "esi6bwKfvoBs"
   },
   "outputs": [],
   "source": [
    "#답을 작성하세요.\n",
    "def is_even(n):\n"
   ]
  },
  {
   "cell_type": "code",
   "execution_count": null,
   "metadata": {},
   "outputs": [],
   "source": [
    "#람다버전"
   ]
  },
  {
   "cell_type": "code",
   "execution_count": null,
   "metadata": {
    "id": "AblSJD5uwBbJ"
   },
   "outputs": [],
   "source": [
    "# 테스트\n",
    "print(is_even(14))  # True\n",
    "print(is_even(20))  # False"
   ]
  },
  {
   "cell_type": "markdown",
   "metadata": {
    "id": "ZqVepWtkz1Iz"
   },
   "source": [
    "4. 주어진 리스트의 모든 요소를 문자열로 변환하여 반환하는 함수와, 람다 함수를 작성하세요."
   ]
  },
  {
   "cell_type": "code",
   "execution_count": null,
   "metadata": {},
   "outputs": [],
   "source": [
    "#함수\n",
    "def to_string_list(lst):\n",
    "  pass"
   ]
  },
  {
   "cell_type": "code",
   "execution_count": null,
   "metadata": {
    "id": "g2L27h9jz6A_"
   },
   "outputs": [],
   "source": [
    "#답을 작성하세요.\n",
    "to_string_list = None"
   ]
  },
  {
   "cell_type": "code",
   "execution_count": null,
   "metadata": {
    "id": "ZDTYekgTz9Ku"
   },
   "outputs": [],
   "source": [
    "# 테스트\n",
    "print(to_string_list([1, 2, 3, 4, 5]))  # ['1', '2', '3', '4', '5']"
   ]
  },
  {
   "cell_type": "markdown",
   "metadata": {
    "id": "MFXA7Tap04cg"
   },
   "source": [
    "5. 두 문자열을 입력받아 합친 문자열을 반환하는 함수와 람다 함수를 작성하세요."
   ]
  },
  {
   "cell_type": "code",
   "execution_count": null,
   "metadata": {},
   "outputs": [],
   "source": [
    "def concat_strings(s1, s2):\n",
    "  pass"
   ]
  },
  {
   "cell_type": "code",
   "execution_count": null,
   "metadata": {
    "id": "ceS_yflW1Qqq"
   },
   "outputs": [],
   "source": [
    "#답을 작성하세요.\n",
    "concat_strings = None"
   ]
  },
  {
   "cell_type": "code",
   "execution_count": null,
   "metadata": {
    "id": "kMITrCoF06mT"
   },
   "outputs": [],
   "source": [
    "# 테스트\n",
    "print(concat_strings(\"Hello, \", \"World!\"))  # \"Hello, World!\""
   ]
  },
  {
   "cell_type": "markdown",
   "metadata": {
    "id": "FnlTdfBk2EHU"
   },
   "source": [
    "6. 주어진 문자열에서 모든 모음(a,e,i,o,u)을 제거한 문자열을 반환하는 함수를 작성하세요."
   ]
  },
  {
   "cell_type": "code",
   "execution_count": null,
   "metadata": {
    "id": "tjgXB28u19lk"
   },
   "outputs": [],
   "source": [
    "#답을 작성하세요.\n",
    "def remove_vowels(s):\n",
    "  pass\n"
   ]
  },
  {
   "cell_type": "code",
   "execution_count": null,
   "metadata": {},
   "outputs": [],
   "source": [
    "remove_vowels = None"
   ]
  },
  {
   "cell_type": "code",
   "execution_count": null,
   "metadata": {
    "id": "f3Hl9mG62hN0"
   },
   "outputs": [],
   "source": [
    "# 테스트\n",
    "print(remove_vowels(\"abcdefghijklmnopqrstuvwxyz\"))  # \"bcdfghjklmnpqrstvwxyz\""
   ]
  },
  {
   "cell_type": "markdown",
   "metadata": {
    "id": "mznE_wth4t11"
   },
   "source": [
    "7. 문자열을 입력 받아, 해당 문자열에서 가장 긴 단어와 길이를 반환하는 함수를 작성하세요.\n"
   ]
  },
  {
   "cell_type": "code",
   "execution_count": null,
   "metadata": {
    "id": "TJjrzqzu5EGp"
   },
   "outputs": [],
   "source": [
    "#답을 작성하세요.\n",
    "def find_longest_word(s):\n",
    "  pass"
   ]
  },
  {
   "cell_type": "code",
   "execution_count": null,
   "metadata": {},
   "outputs": [],
   "source": [
    "find_longest_word = None"
   ]
  },
  {
   "cell_type": "code",
   "execution_count": null,
   "metadata": {
    "id": "4g7-JncB5HHB"
   },
   "outputs": [],
   "source": [
    "# 테스트\n",
    "print(find_longest_word(\"Life is for one generation a good name is forever.\"))  # \"generation\", 10"
   ]
  },
  {
   "cell_type": "markdown",
   "metadata": {
    "id": "ZoGzLeG93sVd"
   },
   "source": [
    "8. 주어진 문자열에서 숫자와 문자를 분리하는 함수를 작성하세요."
   ]
  },
  {
   "cell_type": "code",
   "execution_count": null,
   "metadata": {
    "id": "wmtg3HI93sDF"
   },
   "outputs": [],
   "source": [
    "#답을 작성하세요.\n",
    "def split_numbers_letters(s):\n",
    "    # 1. 숫자를 담을 리스트, 문자를 담을 리스트를 만든다.\n",
    "    numbers = []\n",
    "    letters = []\n",
    "    return numbers, letters"
   ]
  },
  {
   "cell_type": "code",
   "execution_count": null,
   "metadata": {
    "id": "oqB4LNRd30Jg"
   },
   "outputs": [],
   "source": [
    "# 테스트\n",
    "print(split_numbers_letters(\"a1b2c3d4\")) # [\"a\", \"b\", \"c\", \"d\"], [1, 2, 3, 4]"
   ]
  },
  {
   "cell_type": "markdown",
   "metadata": {
    "id": "y7OEHrgG3GeB"
   },
   "source": [
    "9. 주어진 문자열(알파벳)을 입력 받아, 각 알파벳의 종류와 개수를 dict형으로 반환하는 함수를 만드세요."
   ]
  },
  {
   "cell_type": "code",
   "execution_count": null,
   "metadata": {
    "id": "-gqBttTm3OpN"
   },
   "outputs": [],
   "source": [
    "#답을 작성하세요.\n",
    "def count_alphabets(s):\n",
    "  pass"
   ]
  },
  {
   "cell_type": "code",
   "execution_count": null,
   "metadata": {
    "id": "zUcFL0fR3Vln"
   },
   "outputs": [],
   "source": [
    "# 테스트\n",
    "print(count_alphabets(\"hello\"))  # {\"h\": 1, \"e\": 1, \"l\": 2, \"o\": \"1\"}"
   ]
  }
 ],
 "metadata": {
  "colab": {
   "include_colab_link": true,
   "provenance": []
  },
  "kernelspec": {
   "display_name": "Python 3 (ipykernel)",
   "language": "python",
   "name": "python3"
  },
  "language_info": {
   "codemirror_mode": {
    "name": "ipython",
    "version": 3
   },
   "file_extension": ".py",
   "mimetype": "text/x-python",
   "name": "python",
   "nbconvert_exporter": "python",
   "pygments_lexer": "ipython3",
   "version": "3.11.4"
  }
 },
 "nbformat": 4,
 "nbformat_minor": 4
}
