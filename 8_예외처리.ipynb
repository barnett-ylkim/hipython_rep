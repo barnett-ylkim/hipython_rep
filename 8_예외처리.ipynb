{
 "cells": [
  {
   "cell_type": "markdown",
   "id": "1ac5fddc-81a1-44d0-9fef-d6fe1ae70630",
   "metadata": {},
   "source": [
    "# 예외의 종류\n",
    "\n",
    "1. 문법오류 : SyntaxError, NameError, TypeError\n",
    "https://docs.python.org/ko/3/library/exceptions.html#bltin-exceptions\n",
    "3. 논리오류\n",
    "4. 예외상황"
   ]
  },
  {
   "cell_type": "code",
   "execution_count": 1,
   "id": "1aec6c2c-1632-44d1-86de-13a9bcee5ed0",
   "metadata": {},
   "outputs": [
    {
     "ename": "SyntaxError",
     "evalue": "expected ':' (1034960825.py, line 1)",
     "output_type": "error",
     "traceback": [
      "  \u001b[36mCell\u001b[39m\u001b[36m \u001b[39m\u001b[32mIn[1]\u001b[39m\u001b[32m, line 1\u001b[39m\n\u001b[31m    \u001b[39m\u001b[31mwhile True\u001b[39m\n              ^\n\u001b[31mSyntaxError\u001b[39m\u001b[31m:\u001b[39m expected ':'\n"
     ]
    }
   ],
   "source": [
    "while True\n",
    "    print('hello')"
   ]
  },
  {
   "cell_type": "code",
   "execution_count": 2,
   "id": "6d457e38-1433-4706-bc3b-4de8f5a42bb0",
   "metadata": {},
   "outputs": [
    {
     "ename": "NameError",
     "evalue": "name 'am' is not defined",
     "output_type": "error",
     "traceback": [
      "\u001b[31m---------------------------------------------------------------------------\u001b[39m",
      "\u001b[31mNameError\u001b[39m                                 Traceback (most recent call last)",
      "\u001b[36mCell\u001b[39m\u001b[36m \u001b[39m\u001b[32mIn[2]\u001b[39m\u001b[32m, line 1\u001b[39m\n\u001b[32m----> \u001b[39m\u001b[32m1\u001b[39m \u001b[32m4\u001b[39m + \u001b[32m2\u001b[39m*am\n",
      "\u001b[31mNameError\u001b[39m: name 'am' is not defined"
     ]
    }
   ],
   "source": [
    "4 + 2*am"
   ]
  },
  {
   "cell_type": "code",
   "execution_count": 3,
   "id": "f8e54af4-f588-4b6e-8340-5883cfb99b07",
   "metadata": {},
   "outputs": [
    {
     "ename": "TypeError",
     "evalue": "unsupported operand type(s) for +: 'int' and 'str'",
     "output_type": "error",
     "traceback": [
      "\u001b[31m---------------------------------------------------------------------------\u001b[39m",
      "\u001b[31mTypeError\u001b[39m                                 Traceback (most recent call last)",
      "\u001b[36mCell\u001b[39m\u001b[36m \u001b[39m\u001b[32mIn[3]\u001b[39m\u001b[32m, line 1\u001b[39m\n\u001b[32m----> \u001b[39m\u001b[32m1\u001b[39m \u001b[32m2\u001b[39m + \u001b[33m'\u001b[39m\u001b[33m2\u001b[39m\u001b[33m'\u001b[39m\n",
      "\u001b[31mTypeError\u001b[39m: unsupported operand type(s) for +: 'int' and 'str'"
     ]
    }
   ],
   "source": [
    "2 + '2'"
   ]
  },
  {
   "cell_type": "markdown",
   "id": "4152b3cf-9c42-4302-9f90-51fd9464ea6a",
   "metadata": {},
   "source": [
    "# try :\n",
    "except\n"
   ]
  },
  {
   "cell_type": "code",
   "execution_count": 5,
   "id": "ca745689-cbde-4556-8456-cc6faaa0c5f9",
   "metadata": {},
   "outputs": [],
   "source": [
    "#10/0 #ZeroDivisionError                         "
   ]
  },
  {
   "cell_type": "code",
   "execution_count": 6,
   "id": "4cfe81db-279e-4ee8-8c43-5548ddb4fbcf",
   "metadata": {},
   "outputs": [],
   "source": [
    "def divide(m, n):\n",
    "    return m/n"
   ]
  },
  {
   "cell_type": "code",
   "execution_count": 7,
   "id": "8962dbf6-a7cb-42a0-b573-beb52c2e97d2",
   "metadata": {},
   "outputs": [
    {
     "data": {
      "text/plain": [
       "1.5"
      ]
     },
     "execution_count": 7,
     "metadata": {},
     "output_type": "execute_result"
    }
   ],
   "source": [
    "result = divide(3,2)\n",
    "result"
   ]
  },
  {
   "cell_type": "code",
   "execution_count": 8,
   "id": "48655408-9a09-47f6-9343-4798cf432920",
   "metadata": {},
   "outputs": [
    {
     "ename": "ZeroDivisionError",
     "evalue": "division by zero",
     "output_type": "error",
     "traceback": [
      "\u001b[31m---------------------------------------------------------------------------\u001b[39m",
      "\u001b[31mZeroDivisionError\u001b[39m                         Traceback (most recent call last)",
      "\u001b[36mCell\u001b[39m\u001b[36m \u001b[39m\u001b[32mIn[8]\u001b[39m\u001b[32m, line 1\u001b[39m\n\u001b[32m----> \u001b[39m\u001b[32m1\u001b[39m result = divide(\u001b[32m3\u001b[39m,\u001b[32m0\u001b[39m)\n\u001b[32m      2\u001b[39m result\n",
      "\u001b[36mCell\u001b[39m\u001b[36m \u001b[39m\u001b[32mIn[6]\u001b[39m\u001b[32m, line 2\u001b[39m, in \u001b[36mdivide\u001b[39m\u001b[34m(m, n)\u001b[39m\n\u001b[32m      1\u001b[39m \u001b[38;5;28;01mdef\u001b[39;00m\u001b[38;5;250m \u001b[39m\u001b[34mdivide\u001b[39m(m, n):\n\u001b[32m----> \u001b[39m\u001b[32m2\u001b[39m     \u001b[38;5;28;01mreturn\u001b[39;00m m/n\n",
      "\u001b[31mZeroDivisionError\u001b[39m: division by zero"
     ]
    }
   ],
   "source": [
    "result = divide(3,0)\n",
    "result"
   ]
  },
  {
   "cell_type": "code",
   "execution_count": 30,
   "id": "3cffa456-f374-44f0-9967-8f1cc6114d76",
   "metadata": {},
   "outputs": [],
   "source": [
    "def divide(m, n, s):\n",
    "    try:\n",
    "        result = m/n\n",
    "        result += int(s)\n",
    "        return result\n",
    "    except (ValueError, ZeroDivisionError):\n",
    "        print('0으로 나눌수 없습니다')\n",
    "        return None\n",
    "    except : #나머지 모든 에러 받기\n",
    "        print('다른 에러가 발생했습니다.')\n",
    "        return None\n",
    "    finally:\n",
    "        print(\"항상 실행되는 코드입니다.\")\n",
    "    "
   ]
  },
  {
   "cell_type": "code",
   "execution_count": 21,
   "id": "4325f42d-405e-4540-adaa-6d03d4aeacbe",
   "metadata": {},
   "outputs": [
    {
     "name": "stdout",
     "output_type": "stream",
     "text": [
      "0으로 나눌수 없습니다\n"
     ]
    }
   ],
   "source": [
    "result = divide(3,0)\n",
    "result"
   ]
  },
  {
   "cell_type": "code",
   "execution_count": 31,
   "id": "dcb750b6-9b86-49b2-803c-a4dc79724a7b",
   "metadata": {},
   "outputs": [
    {
     "name": "stdout",
     "output_type": "stream",
     "text": [
      "0으로 나눌수 없습니다\n",
      "항상 실행되는 코드입니다.\n"
     ]
    }
   ],
   "source": [
    "divide(3,2,'a')"
   ]
  },
  {
   "cell_type": "markdown",
   "id": "6a238983-21d6-40db-9955-294726ad94a8",
   "metadata": {},
   "source": [
    "# 예외 발생시키기"
   ]
  },
  {
   "cell_type": "code",
   "execution_count": 33,
   "id": "66b599b9-8eb8-4ae3-9d43-6b3ecfe6cb65",
   "metadata": {},
   "outputs": [
    {
     "ename": "TypeError",
     "evalue": "입력값오류",
     "output_type": "error",
     "traceback": [
      "\u001b[31m---------------------------------------------------------------------------\u001b[39m",
      "\u001b[31mTypeError\u001b[39m                                 Traceback (most recent call last)",
      "\u001b[36mCell\u001b[39m\u001b[36m \u001b[39m\u001b[32mIn[33]\u001b[39m\u001b[32m, line 1\u001b[39m\n\u001b[32m----> \u001b[39m\u001b[32m1\u001b[39m \u001b[38;5;28;01mraise\u001b[39;00m \u001b[38;5;167;01mTypeError\u001b[39;00m(\u001b[33m'\u001b[39m\u001b[33m입력값오류\u001b[39m\u001b[33m'\u001b[39m)\n",
      "\u001b[31mTypeError\u001b[39m: 입력값오류"
     ]
    }
   ],
   "source": [
    "raise TypeError('입력값오류')"
   ]
  },
  {
   "cell_type": "code",
   "execution_count": 34,
   "id": "2c92dcd0-e1bc-4f09-bdc9-1453ce4b3509",
   "metadata": {},
   "outputs": [
    {
     "name": "stdout",
     "output_type": "stream",
     "text": [
      "('입력값오류',)\n"
     ]
    }
   ],
   "source": [
    "try:\n",
    "    raise TypeError('입력값오류')\n",
    "except TypeError as e :\n",
    "    print(e.args)"
   ]
  },
  {
   "cell_type": "markdown",
   "id": "1e798e0d-53f3-47c7-b846-fd1c411888fc",
   "metadata": {},
   "source": [
    "# 내가 정의하는 예외\n",
    "\n",
    "1. 예외 클래스 작성 : 각 예외상황에 맞는 메시지를 작성\n",
    "2. 호출할 때 try: except 로 받아줍니다."
   ]
  },
  {
   "cell_type": "code",
   "execution_count": 36,
   "id": "a1ae08a9-da50-4b4b-b098-5f5ad5e63a18",
   "metadata": {},
   "outputs": [],
   "source": [
    "class AgeException(Exception):\n",
    "    def __init__(self, msg):\n",
    "        self._message = msg\n",
    "\n",
    "def input_age():\n",
    "    age = int(input('나이를 입력하세요 : '))\n",
    "\n",
    "    if age < 0 :\n",
    "        raise AgeException('나이는 양수입니다.')\n",
    "    elif age > 150:\n",
    "        raise AgeException('150세 이상??')\n",
    "    else :\n",
    "        return age"
   ]
  },
  {
   "cell_type": "code",
   "execution_count": 41,
   "id": "9141b0b3-3676-41cf-b703-cda3493a71ac",
   "metadata": {},
   "outputs": [
    {
     "name": "stdin",
     "output_type": "stream",
     "text": [
      "나이를 입력하세요 :  20\n"
     ]
    },
    {
     "name": "stdout",
     "output_type": "stream",
     "text": [
      "입력하신 나이는 20입니다.\n"
     ]
    }
   ],
   "source": [
    "try:\n",
    "    age = input_age()\n",
    "except AgeException as e:\n",
    "    print(e.args[0])\n",
    "else:\n",
    "    print(f'입력하신 나이는 {age}세입니다.')"
   ]
  }
 ],
 "metadata": {
  "kernelspec": {
   "display_name": "Python 3 (ipykernel)",
   "language": "python",
   "name": "python3"
  },
  "language_info": {
   "codemirror_mode": {
    "name": "ipython",
    "version": 3
   },
   "file_extension": ".py",
   "mimetype": "text/x-python",
   "name": "python",
   "nbconvert_exporter": "python",
   "pygments_lexer": "ipython3",
   "version": "3.12.9"
  }
 },
 "nbformat": 4,
 "nbformat_minor": 5
}
