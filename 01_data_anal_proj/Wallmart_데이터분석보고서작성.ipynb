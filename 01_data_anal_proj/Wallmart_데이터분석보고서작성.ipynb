{
 "cells": [
  {
   "cell_type": "markdown",
   "id": "39a90d73",
   "metadata": {},
   "source": [
    "# Wallmart 데이터 분석\n",
    "\n",
    "## 프로젝트 개요\n",
    "[Kaggle의 Wallmart 데이터 셋](https://www.kaggle.com/datasets/devarajv88/walmart-sales-dataset) 분석 프로젝트입니다. 데이터 전처리, 탐색적 데이터 분석(EDA)을 통한 데이터의 분포를 확인하고, VIP 고객 도출 및 지역별 구매 고객 특징을 파악하여 마케팅 전략을 도출합니다.\n",
    "이 프로젝트의 목표는 주어진 데이터의 분포를 분석하여 주요 특징을 도출하고, 이를 바탕으로 마케팅 전략을 제시하는 것입니다."
   ]
  },
  {
   "cell_type": "markdown",
   "id": "9e880015",
   "metadata": {},
   "source": [
    "## 데이터 설명\n",
    "- 데이터 출처: [Kaggle의 Wallmart 데이터 셋](https://www.kaggle.com/datasets/devarajv88/walmart-sales-dataset) \n",
    "- 데이터 상세: 약 55만개의 사용자 거래 내역과 10개의 특징(550068, 10)\n",
    "  - `User_ID`: User ID\n",
    "  - `Product_ID`: Product ID\n",
    "  - `Gender`: Sex of User\n",
    "  - `Age`: Age in bins\n",
    "  - `Occupation`: Occupation(Masked)\n",
    "  - `City_Category`: Category of the City (A,B,C)\n",
    "  - `StayInCurrentCityYears`: Number of years stay in current city\n",
    "  - `Marital_Status`: Marital Status\n",
    "  - `ProductCategory`: Product Category (Masked)\n",
    "  - `Purchase`: Purchase Amount\n"
   ]
  },
  {
   "cell_type": "code",
   "execution_count": null,
   "id": "e6362409",
   "metadata": {},
   "outputs": [],
   "source": []
  },
  {
   "cell_type": "markdown",
   "id": "cb5438f7",
   "metadata": {},
   "source": [
    "# 데이터 불러오기"
   ]
  },
  {
   "cell_type": "code",
   "execution_count": 6,
   "id": "453757f5",
   "metadata": {},
   "outputs": [],
   "source": [
    "import matplotlib.pyplot as plt\n"
   ]
  },
  {
   "cell_type": "code",
   "execution_count": 1,
   "id": "d09862d6",
   "metadata": {},
   "outputs": [
    {
     "data": {
      "text/html": [
       "<div>\n",
       "<style scoped>\n",
       "    .dataframe tbody tr th:only-of-type {\n",
       "        vertical-align: middle;\n",
       "    }\n",
       "\n",
       "    .dataframe tbody tr th {\n",
       "        vertical-align: top;\n",
       "    }\n",
       "\n",
       "    .dataframe thead th {\n",
       "        text-align: right;\n",
       "    }\n",
       "</style>\n",
       "<table border=\"1\" class=\"dataframe\">\n",
       "  <thead>\n",
       "    <tr style=\"text-align: right;\">\n",
       "      <th></th>\n",
       "      <th>User_ID</th>\n",
       "      <th>Product_ID</th>\n",
       "      <th>Gender</th>\n",
       "      <th>Age</th>\n",
       "      <th>Occupation</th>\n",
       "      <th>City_Category</th>\n",
       "      <th>Stay_In_Current_City_Years</th>\n",
       "      <th>Marital_Status</th>\n",
       "      <th>Product_Category</th>\n",
       "      <th>Purchase</th>\n",
       "    </tr>\n",
       "  </thead>\n",
       "  <tbody>\n",
       "    <tr>\n",
       "      <th>0</th>\n",
       "      <td>1000001</td>\n",
       "      <td>P00069042</td>\n",
       "      <td>F</td>\n",
       "      <td>0-17</td>\n",
       "      <td>10</td>\n",
       "      <td>A</td>\n",
       "      <td>2</td>\n",
       "      <td>0</td>\n",
       "      <td>3</td>\n",
       "      <td>8370</td>\n",
       "    </tr>\n",
       "    <tr>\n",
       "      <th>1</th>\n",
       "      <td>1000001</td>\n",
       "      <td>P00248942</td>\n",
       "      <td>F</td>\n",
       "      <td>0-17</td>\n",
       "      <td>10</td>\n",
       "      <td>A</td>\n",
       "      <td>2</td>\n",
       "      <td>0</td>\n",
       "      <td>1</td>\n",
       "      <td>15200</td>\n",
       "    </tr>\n",
       "    <tr>\n",
       "      <th>2</th>\n",
       "      <td>1000001</td>\n",
       "      <td>P00087842</td>\n",
       "      <td>F</td>\n",
       "      <td>0-17</td>\n",
       "      <td>10</td>\n",
       "      <td>A</td>\n",
       "      <td>2</td>\n",
       "      <td>0</td>\n",
       "      <td>12</td>\n",
       "      <td>1422</td>\n",
       "    </tr>\n",
       "    <tr>\n",
       "      <th>3</th>\n",
       "      <td>1000001</td>\n",
       "      <td>P00085442</td>\n",
       "      <td>F</td>\n",
       "      <td>0-17</td>\n",
       "      <td>10</td>\n",
       "      <td>A</td>\n",
       "      <td>2</td>\n",
       "      <td>0</td>\n",
       "      <td>12</td>\n",
       "      <td>1057</td>\n",
       "    </tr>\n",
       "    <tr>\n",
       "      <th>4</th>\n",
       "      <td>1000002</td>\n",
       "      <td>P00285442</td>\n",
       "      <td>M</td>\n",
       "      <td>55+</td>\n",
       "      <td>16</td>\n",
       "      <td>C</td>\n",
       "      <td>4+</td>\n",
       "      <td>0</td>\n",
       "      <td>8</td>\n",
       "      <td>7969</td>\n",
       "    </tr>\n",
       "  </tbody>\n",
       "</table>\n",
       "</div>"
      ],
      "text/plain": [
       "   User_ID Product_ID Gender   Age  Occupation City_Category  \\\n",
       "0  1000001  P00069042      F  0-17          10             A   \n",
       "1  1000001  P00248942      F  0-17          10             A   \n",
       "2  1000001  P00087842      F  0-17          10             A   \n",
       "3  1000001  P00085442      F  0-17          10             A   \n",
       "4  1000002  P00285442      M   55+          16             C   \n",
       "\n",
       "  Stay_In_Current_City_Years  Marital_Status  Product_Category  Purchase  \n",
       "0                          2               0                 3      8370  \n",
       "1                          2               0                 1     15200  \n",
       "2                          2               0                12      1422  \n",
       "3                          2               0                12      1057  \n",
       "4                         4+               0                 8      7969  "
      ]
     },
     "execution_count": 1,
     "metadata": {},
     "output_type": "execute_result"
    }
   ],
   "source": [
    "import pandas as pd\n",
    "\n",
    "df = pd.read_csv('data/walmart.csv')\n",
    "df.head()"
   ]
  },
  {
   "cell_type": "markdown",
   "id": "40c282df",
   "metadata": {},
   "source": [
    "# EDA"
   ]
  },
  {
   "cell_type": "code",
   "execution_count": null,
   "id": "469f93e3",
   "metadata": {},
   "outputs": [
    {
     "data": {
      "text/plain": [
       "(550068, 10)"
      ]
     },
     "execution_count": 2,
     "metadata": {},
     "output_type": "execute_result"
    }
   ],
   "source": [
    "# 전체 데이터가 몇 개 있는것인가?  \n",
    "df.shape"
   ]
  },
  {
   "cell_type": "code",
   "execution_count": 10,
   "id": "9379acfd",
   "metadata": {},
   "outputs": [
    {
     "name": "stdout",
     "output_type": "stream",
     "text": [
      "<class 'pandas.core.frame.DataFrame'>\n",
      "RangeIndex: 550068 entries, 0 to 550067\n",
      "Data columns (total 10 columns):\n",
      " #   Column                      Non-Null Count   Dtype \n",
      "---  ------                      --------------   ----- \n",
      " 0   User_ID                     550068 non-null  int64 \n",
      " 1   Product_ID                  550068 non-null  object\n",
      " 2   Gender                      550068 non-null  object\n",
      " 3   Age                         550068 non-null  object\n",
      " 4   Occupation                  550068 non-null  int64 \n",
      " 5   City_Category               550068 non-null  object\n",
      " 6   Stay_In_Current_City_Years  550068 non-null  object\n",
      " 7   Marital_Status              550068 non-null  int64 \n",
      " 8   Product_Category            550068 non-null  int64 \n",
      " 9   Purchase                    550068 non-null  int64 \n",
      "dtypes: int64(5), object(5)\n",
      "memory usage: 42.0+ MB\n"
     ]
    }
   ],
   "source": [
    "df.info()"
   ]
  },
  {
   "cell_type": "markdown",
   "id": "b8269614",
   "metadata": {},
   "source": [
    "결측치는 확인되지 않았습니다."
   ]
  },
  {
   "cell_type": "markdown",
   "id": "e0403d36",
   "metadata": {},
   "source": [
    "총 550,068 건의 데이터를 대상으로 분석을 수행했습니다."
   ]
  },
  {
   "cell_type": "code",
   "execution_count": 3,
   "id": "9d0c357c",
   "metadata": {},
   "outputs": [
    {
     "data": {
      "text/plain": [
       "5891"
      ]
     },
     "execution_count": 3,
     "metadata": {},
     "output_type": "execute_result"
    }
   ],
   "source": [
    "# 몇명의 고객 정보인가?\n",
    "# User-id 갯수\n",
    "df['User_ID'].nunique()"
   ]
  },
  {
   "cell_type": "markdown",
   "id": "fa6ba544",
   "metadata": {},
   "source": [
    "총 5,891명의 사용자 거래 내역이 담겨 있습니다."
   ]
  },
  {
   "cell_type": "code",
   "execution_count": 4,
   "id": "4ad658cf",
   "metadata": {},
   "outputs": [
    {
     "data": {
      "text/plain": [
       "Age\n",
       "26-35    219587\n",
       "36-45    110013\n",
       "18-25     99660\n",
       "46-50     45701\n",
       "51-55     38501\n",
       "55+       21504\n",
       "0-17      15102\n",
       "Name: count, dtype: int64"
      ]
     },
     "execution_count": 4,
     "metadata": {},
     "output_type": "execute_result"
    }
   ],
   "source": [
    "# 고객의 분포\n",
    "df['Age'].value_counts()"
   ]
  },
  {
   "cell_type": "markdown",
   "id": "e8bf1ae6",
   "metadata": {},
   "source": [
    "26~35세 연령대의 고객이 가장 많이 방문했습니다."
   ]
  },
  {
   "cell_type": "code",
   "execution_count": null,
   "id": "97faa423",
   "metadata": {},
   "outputs": [
    {
     "data": {
      "text/plain": [
       "Age\n",
       "0-17      15102\n",
       "18-25     99660\n",
       "26-35    219587\n",
       "36-45    110013\n",
       "46-50     45701\n",
       "51-55     38501\n",
       "55+       21504\n",
       "Name: count, dtype: int64"
      ]
     },
     "execution_count": 13,
     "metadata": {},
     "output_type": "execute_result"
    }
   ],
   "source": [
    "age_group = ['0-17', '18-25', '26-35', '36-45', '46-50', '51-55', '55+']\n",
    "t_feature = df['Age'].value_counts().reindex(age_group)\n",
    "t_feature"
   ]
  },
  {
   "cell_type": "code",
   "execution_count": null,
   "id": "7762fbce",
   "metadata": {},
   "outputs": [
    {
     "data": {
      "text/plain": [
       "<BarContainer object of 7 artists>"
      ]
     },
     "execution_count": 14,
     "metadata": {},
     "output_type": "execute_result"
    },
    {
     "data": {
      "image/png": "[encoded data removed]",
      "text/plain": [
       "<Figure size 640x480 with 1 Axes>"
      ]
     },
     "metadata": {},
     "output_type": "display_data"
    }
   ],
   "source": [
    "\n",
    "plt.bar(t_feature.index,t_feature.values)"
   ]
  },
  {
   "cell_type": "markdown",
   "id": "4b4d76c6",
   "metadata": {},
   "source": [
    "26~35세 연령대가 22만명 이상으로 경제활동이 활발한 소비 주도층이 주요 타깃 고객군일 가능성이 높습니다.<br>\n",
    "18~25세와 36~45세 연령대가 안정적인 고객군으로 판단됩니다.<br>\n",
    "10대의 경우 보호자 동반 방문으로 직접 방문하는 고객층의 패턴을 확인할 필요가 있습니다.<br>\n",
    "50대 이상의 경우 구매력에 비해 방문횟수가 적어, 마케팅 강화의 여지를 확인할 필요가 있습니다.<br>"
   ]
  },
  {
   "cell_type": "code",
   "execution_count": 16,
   "id": "a81bb9bf",
   "metadata": {},
   "outputs": [
    {
     "data": {
      "text/plain": [
       "(array([4.2130e+03, 7.1170e+03, 3.2500e+03, 1.1013e+04, 1.1251e+04,\n",
       "        4.0310e+03, 6.3480e+03, 2.1116e+04, 1.5957e+04, 1.0467e+04,\n",
       "        1.7035e+04, 2.5178e+04, 3.3914e+04, 1.8370e+03, 5.4311e+04,\n",
       "        5.6880e+03, 5.6779e+04, 1.5139e+04, 2.6374e+04, 9.3800e+02,\n",
       "        3.4995e+04, 2.0870e+03, 6.8650e+03, 8.0510e+03, 2.4786e+04,\n",
       "        1.1461e+04, 7.2560e+03, 7.9490e+03, 3.0450e+03, 4.6700e+02,\n",
       "        5.1200e+02, 1.1508e+04, 2.9743e+04, 1.3926e+04, 8.8690e+03,\n",
       "        2.1880e+03, 3.4400e+02, 2.0000e+01, 7.6000e+02, 9.3830e+03,\n",
       "        1.8225e+04, 3.9700e+03, 5.5140e+03, 2.9240e+03, 9.0600e+02,\n",
       "        8.0000e+00, 0.0000e+00, 3.5000e+01, 1.1540e+03, 1.1610e+03]),\n",
       " array([1.200000e+01, 4.909800e+02, 9.699600e+02, 1.448940e+03,\n",
       "        1.927920e+03, 2.406900e+03, 2.885880e+03, 3.364860e+03,\n",
       "        3.843840e+03, 4.322820e+03, 4.801800e+03, 5.280780e+03,\n",
       "        5.759760e+03, 6.238740e+03, 6.717720e+03, 7.196700e+03,\n",
       "        7.675680e+03, 8.154660e+03, 8.633640e+03, 9.112620e+03,\n",
       "        9.591600e+03, 1.007058e+04, 1.054956e+04, 1.102854e+04,\n",
       "        1.150752e+04, 1.198650e+04, 1.246548e+04, 1.294446e+04,\n",
       "        1.342344e+04, 1.390242e+04, 1.438140e+04, 1.486038e+04,\n",
       "        1.533936e+04, 1.581834e+04, 1.629732e+04, 1.677630e+04,\n",
       "        1.725528e+04, 1.773426e+04, 1.821324e+04, 1.869222e+04,\n",
       "        1.917120e+04, 1.965018e+04, 2.012916e+04, 2.060814e+04,\n",
       "        2.108712e+04, 2.156610e+04, 2.204508e+04, 2.252406e+04,\n",
       "        2.300304e+04, 2.348202e+04, 2.396100e+04]),\n",
       " <BarContainer object of 50 artists>)"
      ]
     },
     "execution_count": 16,
     "metadata": {},
     "output_type": "execute_result"
    },
    {
     "data": {
      "image/png": "[encoded data removed]",
      "text/plain": [
       "<Figure size 640x480 with 1 Axes>"
      ]
     },
     "metadata": {},
     "output_type": "display_data"
    }
   ],
   "source": [
    "#구매한 제품의 가격대를 분석\n",
    "plt.hist(df['Purchase'], bins=50)"
   ]
  },
  {
   "cell_type": "code",
   "execution_count": 17,
   "id": "8232b085",
   "metadata": {},
   "outputs": [
    {
     "data": {
      "text/plain": [
       "count    550068.000000\n",
       "mean       9263.968713\n",
       "std        5023.065394\n",
       "min          12.000000\n",
       "25%        5823.000000\n",
       "50%        8047.000000\n",
       "75%       12054.000000\n",
       "max       23961.000000\n",
       "Name: Purchase, dtype: float64"
      ]
     },
     "execution_count": 17,
     "metadata": {},
     "output_type": "execute_result"
    }
   ],
   "source": [
    "df['Purchase'].describe()"
   ]
  },
  {
   "cell_type": "code",
   "execution_count": null,
   "id": "46005064",
   "metadata": {},
   "outputs": [
    {
     "data": {
      "text/plain": [
       "(5492, 10)"
      ]
     },
     "execution_count": 20,
     "metadata": {},
     "output_type": "execute_result"
    }
   ],
   "source": [
    "#상위 1% 가격의 구매제품 목록 - 이상치 확인\n",
    "high_outlier = df['Purchase'].quantile(0.99)\n",
    "high_prc_prod = df[df['Purchase']>high_outlier]\n",
    "high_prc_prod.shape"
   ]
  },
  {
   "cell_type": "code",
   "execution_count": 21,
   "id": "2bad6669",
   "metadata": {},
   "outputs": [
    {
     "data": {
      "text/html": [
       "<div>\n",
       "<style scoped>\n",
       "    .dataframe tbody tr th:only-of-type {\n",
       "        vertical-align: middle;\n",
       "    }\n",
       "\n",
       "    .dataframe tbody tr th {\n",
       "        vertical-align: top;\n",
       "    }\n",
       "\n",
       "    .dataframe thead th {\n",
       "        text-align: right;\n",
       "    }\n",
       "</style>\n",
       "<table border=\"1\" class=\"dataframe\">\n",
       "  <thead>\n",
       "    <tr style=\"text-align: right;\">\n",
       "      <th></th>\n",
       "      <th>User_ID</th>\n",
       "      <th>Product_ID</th>\n",
       "      <th>Gender</th>\n",
       "      <th>Age</th>\n",
       "      <th>Occupation</th>\n",
       "      <th>City_Category</th>\n",
       "      <th>Stay_In_Current_City_Years</th>\n",
       "      <th>Marital_Status</th>\n",
       "      <th>Product_Category</th>\n",
       "      <th>Purchase</th>\n",
       "    </tr>\n",
       "  </thead>\n",
       "  <tbody>\n",
       "    <tr>\n",
       "      <th>234</th>\n",
       "      <td>1000043</td>\n",
       "      <td>P00255842</td>\n",
       "      <td>M</td>\n",
       "      <td>26-35</td>\n",
       "      <td>12</td>\n",
       "      <td>A</td>\n",
       "      <td>0</td>\n",
       "      <td>0</td>\n",
       "      <td>16</td>\n",
       "      <td>20961</td>\n",
       "    </tr>\n",
       "    <tr>\n",
       "      <th>343</th>\n",
       "      <td>1000058</td>\n",
       "      <td>P00117642</td>\n",
       "      <td>M</td>\n",
       "      <td>26-35</td>\n",
       "      <td>2</td>\n",
       "      <td>B</td>\n",
       "      <td>3</td>\n",
       "      <td>0</td>\n",
       "      <td>10</td>\n",
       "      <td>23603</td>\n",
       "    </tr>\n",
       "    <tr>\n",
       "      <th>375</th>\n",
       "      <td>1000062</td>\n",
       "      <td>P00119342</td>\n",
       "      <td>F</td>\n",
       "      <td>36-45</td>\n",
       "      <td>3</td>\n",
       "      <td>A</td>\n",
       "      <td>1</td>\n",
       "      <td>0</td>\n",
       "      <td>10</td>\n",
       "      <td>23792</td>\n",
       "    </tr>\n",
       "    <tr>\n",
       "      <th>652</th>\n",
       "      <td>1000126</td>\n",
       "      <td>P00087042</td>\n",
       "      <td>M</td>\n",
       "      <td>18-25</td>\n",
       "      <td>9</td>\n",
       "      <td>B</td>\n",
       "      <td>1</td>\n",
       "      <td>0</td>\n",
       "      <td>10</td>\n",
       "      <td>23233</td>\n",
       "    </tr>\n",
       "    <tr>\n",
       "      <th>731</th>\n",
       "      <td>1000139</td>\n",
       "      <td>P00020142</td>\n",
       "      <td>F</td>\n",
       "      <td>26-35</td>\n",
       "      <td>20</td>\n",
       "      <td>C</td>\n",
       "      <td>2</td>\n",
       "      <td>0</td>\n",
       "      <td>7</td>\n",
       "      <td>21002</td>\n",
       "    </tr>\n",
       "  </tbody>\n",
       "</table>\n",
       "</div>"
      ],
      "text/plain": [
       "     User_ID Product_ID Gender    Age  Occupation City_Category  \\\n",
       "234  1000043  P00255842      M  26-35          12             A   \n",
       "343  1000058  P00117642      M  26-35           2             B   \n",
       "375  1000062  P00119342      F  36-45           3             A   \n",
       "652  1000126  P00087042      M  18-25           9             B   \n",
       "731  1000139  P00020142      F  26-35          20             C   \n",
       "\n",
       "    Stay_In_Current_City_Years  Marital_Status  Product_Category  Purchase  \n",
       "234                          0               0                16     20961  \n",
       "343                          3               0                10     23603  \n",
       "375                          1               0                10     23792  \n",
       "652                          1               0                10     23233  \n",
       "731                          2               0                 7     21002  "
      ]
     },
     "execution_count": 21,
     "metadata": {},
     "output_type": "execute_result"
    }
   ],
   "source": [
    "high_prc_prod.head()"
   ]
  },
  {
   "cell_type": "code",
   "execution_count": 22,
   "id": "2e369b28",
   "metadata": {},
   "outputs": [
    {
     "data": {
      "text/plain": [
       "Product_Category\n",
       "10    2275\n",
       "15    1590\n",
       "16     694\n",
       "7      645\n",
       "6      213\n",
       "9       75\n",
       "Name: count, dtype: int64"
      ]
     },
     "execution_count": 22,
     "metadata": {},
     "output_type": "execute_result"
    }
   ],
   "source": [
    "# 고가 전략 제품으로 카테고리 분석\n",
    "high_prc_prod['Product_Category'].value_counts()"
   ]
  },
  {
   "cell_type": "markdown",
   "id": "a0bc6cbb",
   "metadata": {},
   "source": [
    "10, 15, 16, 7번 카테고리 순으로 구매가 집중되고 있습니다.<BR>\n",
    "해당 제품을 확인하여, 고부가가치 상품군이 존재할 가능성을 확인할 필요가 있습니다.<BR>"
   ]
  },
  {
   "cell_type": "code",
   "execution_count": null,
   "id": "08d912b0",
   "metadata": {},
   "outputs": [],
   "source": [
    "#저가 제품의 카테고리 집중도\n"
   ]
  }
 ],
 "metadata": {
  "kernelspec": {
   "display_name": "hipython",
   "language": "python",
   "name": "python3"
  },
  "language_info": {
   "codemirror_mode": {
    "name": "ipython",
    "version": 3
   },
   "file_extension": ".py",
   "mimetype": "text/x-python",
   "name": "python",
   "nbconvert_exporter": "python",
   "pygments_lexer": "ipython3",
   "version": "3.12.9"
  }
 },
 "nbformat": 4,
 "nbformat_minor": 5
}
