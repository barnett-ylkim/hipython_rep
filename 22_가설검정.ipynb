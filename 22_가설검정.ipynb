{
 "cells": [
  {
   "cell_type": "code",
   "execution_count": 3,
   "id": "faefb082",
   "metadata": {},
   "outputs": [],
   "source": [
    "import numpy as np\n",
    "import pandas as pd\n",
    "import matplotlib.pyplot as plt\n",
    "import scipy.stats as stats\n",
    "\n",
    "%matplotlib inline\n",
    "plt.rc('figure', figsize=(10, 6))\n",
    "from matplotlib import rcParams\n",
    "rcParams['font.family'] = 'New Gulim'\n",
    "rcParams['font.size'] = 10\n",
    "rcParams['axes.unicode_minus'] = False\n"
   ]
  },
  {
   "cell_type": "markdown",
   "id": "139691d0",
   "metadata": {},
   "source": [
    "# 가설검정 단계 "
   ]
  },
  {
   "cell_type": "markdown",
   "id": "4f62d98b",
   "metadata": {},
   "source": [
    "대한민국 남성의 평균 몸무게는 70킬로 그램이다."
   ]
  },
  {
   "cell_type": "code",
   "execution_count": 6,
   "id": "82c1d8a3",
   "metadata": {},
   "outputs": [
    {
     "name": "stdout",
     "output_type": "stream",
     "text": [
      "평균 : 70.08573280308887\n",
      "p-value : 0.953913826658112\n",
      "검정결과 : 귀무가설채택\n",
      "대한민국 남성의 평균 몸무게는 70kg이다\n"
     ]
    }
   ],
   "source": [
    "#1. 가설수립\n",
    "#H0: 대한민국 남성의 평균 몸무게는 70킬로그램이다(차이가없다)\n",
    "#H1: 대한민국 남성의 평균 몸무게는 70킬로그램이 아니다\n",
    "\n",
    "\n",
    "#2. 통계량 산출 - 데이터 수집\n",
    "\n",
    "np.random.seed(123)\n",
    "weight = np.random.uniform(40, 100, 100)\n",
    "#weight\n",
    "\n",
    "test_result = stats.ttest_1samp(weight, 70)\n",
    "print(f'평균 : {np.mean(weight)}')\n",
    "print(f'p-value : {test_result.pvalue}')\n",
    "\n",
    "#3. 기각/채택 여부 판단\n",
    "print(f'검정결과 : {'귀무가설 기각' if test_result.pvalue<0.05 else '귀무가설채택'}')\n",
    "\n",
    "#4. 결정\n",
    "if test_result.pvalue<0.05:\n",
    "  print('대한민국 남성의 평균 몸무게는 70kg이 아니다.')\n",
    "else :\n",
    "  print('대한민국 남성의 평균 몸무게는 70kg이다')"
   ]
  },
  {
   "cell_type": "code",
   "execution_count": 8,
   "id": "f3edacf1",
   "metadata": {},
   "outputs": [
    {
     "name": "stdout",
     "output_type": "stream",
     "text": [
      "t값 = 7.031, p값 = 0.0000000986\n"
     ]
    }
   ],
   "source": [
    "# 표본 데이터 (30명)\n",
    "coffee_data = [2.9, 2.4, 2.7, 3.0, 2.6, 2.8, 2.9, 3.1, 2.7, 2.6,\n",
    "               2.8, 2.5, 3.2, 3.0, 2.4, 2.6, 2.7, 3.1, 2.8, 2.7,\n",
    "               2.5, 2.9, 2.6, 2.8, 2.9, 2.5, 2.7, 2.8, 3.0, 2.9]\n",
    "\n",
    "# 단일표본 t-검정\n",
    "t_stat, p_value = stats.ttest_1samp(coffee_data, popmean=2.5)\n",
    "\n",
    "print(f\"t값 = {t_stat:.3f}, p값 = {p_value:.10f}\")"
   ]
  },
  {
   "cell_type": "markdown",
   "id": "bafba02c",
   "metadata": {},
   "source": [
    "t값=7.031은 표본과 모집단 평균 간 차이가 표준오차의 7배라는 통계량\n",
    "-> 표본의 평균이 모집단 평균 2.5에서 7*표준오차 만큼 떨어져 있다 -> 매우 큰 차이를 보인다.\n",
    "\n",
    "이 통계량은 p-value<0.05 이므로 통계적으로 유의한 차이가 있다고 할 수 있습니다. "
   ]
  },
  {
   "cell_type": "code",
   "execution_count": 10,
   "id": "334d9c73",
   "metadata": {},
   "outputs": [
    {
     "name": "stdout",
     "output_type": "stream",
     "text": [
      "t값 = 5.331, p값 = 0.0000604698\n"
     ]
    }
   ],
   "source": [
    "group_A = [78, 85, 82, 88, 76, 81, 79, 84, 82, 80]\n",
    "group_B = [72, 75, 78, 74, 71, 77, 70, 76, 75, 73]\n",
    "\n",
    "t_stat, p_value = stats.ttest_ind(group_A, group_B, equal_var=False)\n",
    "print(f\"t값 = {t_stat:.3f}, p값 = {p_value:.10f}\")"
   ]
  },
  {
   "cell_type": "markdown",
   "id": "b765018e",
   "metadata": {},
   "source": [
    "H0: group_A"
   ]
  }
 ],
 "metadata": {
  "kernelspec": {
   "display_name": "hipython",
   "language": "python",
   "name": "python3"
  },
  "language_info": {
   "codemirror_mode": {
    "name": "ipython",
    "version": 3
   },
   "file_extension": ".py",
   "mimetype": "text/x-python",
   "name": "python",
   "nbconvert_exporter": "python",
   "pygments_lexer": "ipython3",
   "version": "3.12.9"
  }
 },
 "nbformat": 4,
 "nbformat_minor": 5
}
