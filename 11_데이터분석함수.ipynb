{
 "cells": [
  {
   "cell_type": "code",
   "execution_count": 2,
   "id": "484977c0",
   "metadata": {},
   "outputs": [],
   "source": [
    "from collections import defaultdict\n"
   ]
  },
  {
   "cell_type": "code",
   "execution_count": 7,
   "id": "11669695",
   "metadata": {},
   "outputs": [
    {
     "name": "stdout",
     "output_type": "stream",
     "text": [
      "defaultdict(<class 'int'>, {'a': 1, 'b': 0, 'c': 2})\n"
     ]
    }
   ],
   "source": [
    "dd = defaultdict(int)\n",
    "dd['a'] = 1\n",
    "dd['b']\n",
    "dd['c'] = 2\n",
    "\n",
    "print(dd)"
   ]
  },
  {
   "cell_type": "code",
   "execution_count": 9,
   "id": "45fb2cbf",
   "metadata": {},
   "outputs": [
    {
     "data": {
      "text/plain": [
       "[('alice', 90), ('bob', 80), ('charlie', 70), ('alice', 80)]"
      ]
     },
     "execution_count": 9,
     "metadata": {},
     "output_type": "execute_result"
    }
   ],
   "source": [
    "scores = [ ('alice',90), ('bob',80), ('charlie',70), ('alice',80)]\n",
    "scores"
   ]
  },
  {
   "cell_type": "code",
   "execution_count": 14,
   "id": "20ff39ec",
   "metadata": {},
   "outputs": [
    {
     "data": {
      "text/plain": [
       "{'alice': [90, 80], 'bob': [80], 'charlie': [70]}"
      ]
     },
     "execution_count": 14,
     "metadata": {},
     "output_type": "execute_result"
    }
   ],
   "source": [
    "grouped = defaultdict(list)\n",
    "for name, score in scores:\n",
    "  grouped[name].append(score)\n",
    "  \n",
    "dict(grouped)"
   ]
  },
  {
   "cell_type": "code",
   "execution_count": 15,
   "id": "b0a49a20",
   "metadata": {},
   "outputs": [
    {
     "data": {
      "text/plain": [
       "{'b': 1, 'a': 3, 'n': 2}"
      ]
     },
     "execution_count": 15,
     "metadata": {},
     "output_type": "execute_result"
    }
   ],
   "source": [
    "s = 'banana'\n",
    "cnt = defaultdict(int)\n",
    "\n",
    "for char in s:\n",
    "  cnt[char] += 1\n",
    "dict(cnt)"
   ]
  }
 ],
 "metadata": {
  "kernelspec": {
   "display_name": "hipython",
   "language": "python",
   "name": "python3"
  },
  "language_info": {
   "codemirror_mode": {
    "name": "ipython",
    "version": 3
   },
   "file_extension": ".py",
   "mimetype": "text/x-python",
   "name": "python",
   "nbconvert_exporter": "python",
   "pygments_lexer": "ipython3",
   "version": "3.12.9"
  }
 },
 "nbformat": 4,
 "nbformat_minor": 5
}
