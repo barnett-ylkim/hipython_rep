{
 "cells": [
  {
   "cell_type": "markdown",
   "id": "62389e9f",
   "metadata": {},
   "source": [
    "# 넘파이의 사용 \n",
    "\n",
    "1. 데이터 분석 프로젝트 : 수치형 데이터의 요약, 통계, 시각화\n",
    "2. 이미지 처리 프로젝트 : 이미지 분석\n",
    "3. 게임, 시뮬레이션 프로그램 : 수치시뮬레이션 등을 구현\n",
    "4. 머신러닝/딥러닝 모델 프로젝트 : 금융데이터, 의료데이터, 실험데이터, 센서데이터"
   ]
  },
  {
   "cell_type": "code",
   "execution_count": 2,
   "id": "6f02da58",
   "metadata": {},
   "outputs": [
    {
     "data": {
      "text/plain": [
       "[[120, 135, 150, 145], [100, 110, 140, 130], [90, 100, 95, 105]]"
      ]
     },
     "execution_count": 2,
     "metadata": {},
     "output_type": "execute_result"
    }
   ],
   "source": [
    "import numpy as np \n",
    "\n",
    "data = [\n",
    "    [120, 135, 150, 145],  # 제품A\n",
    "    [100, 110, 140, 130],  # 제품B\n",
    "    [90, 100, 95, 105] ]\n",
    "\n",
    "data"
   ]
  },
  {
   "cell_type": "code",
   "execution_count": null,
   "id": "b349b883",
   "metadata": {},
   "outputs": [
    {
     "data": {
      "text/plain": [
       "array([550, 480, 390])"
      ]
     },
     "execution_count": 4,
     "metadata": {},
     "output_type": "execute_result"
    }
   ],
   "source": [
    "sales_data = np.array(data)\n",
    "np.sum(sales_data, axis=1) #총판매량"
   ]
  },
  {
   "cell_type": "code",
   "execution_count": 5,
   "id": "6686472f",
   "metadata": {},
   "outputs": [
    {
     "data": {
      "text/plain": [
       "array([7650, 8500, 9575, 9425])"
      ]
     },
     "execution_count": 5,
     "metadata": {},
     "output_type": "execute_result"
    }
   ],
   "source": [
    "profit_per_unit = np.array([20,30,25])\n",
    "total_sales = np.dot(profit_per_unit, sales_data)\n",
    "total_sales #총판매금액"
   ]
  },
  {
   "cell_type": "markdown",
   "id": "660fc6ac",
   "metadata": {},
   "source": [
    "# 이미지처리"
   ]
  },
  {
   "cell_type": "code",
   "execution_count": null,
   "id": "fb4b7866",
   "metadata": {},
   "outputs": [],
   "source": [
    "!conda install pillow"
   ]
  },
  {
   "cell_type": "code",
   "execution_count": 10,
   "id": "60fb3db2",
   "metadata": {},
   "outputs": [],
   "source": [
    "from PIL import Image\n",
    "img = Image.open('sample.jpg').convert('L')\n",
    "img_ary = np.array(img)\n",
    "new_img = np.clip(img_ary+10, 0, 255).astype(np.uint8)\n",
    "\n",
    "Image.fromarray(new_img).save('new_sample.jpg')"
   ]
  }
 ],
 "metadata": {
  "kernelspec": {
   "display_name": "hipython",
   "language": "python",
   "name": "python3"
  },
  "language_info": {
   "codemirror_mode": {
    "name": "ipython",
    "version": 3
   },
   "file_extension": ".py",
   "mimetype": "text/x-python",
   "name": "python",
   "nbconvert_exporter": "python",
   "pygments_lexer": "ipython3",
   "version": "3.12.9"
  }
 },
 "nbformat": 4,
 "nbformat_minor": 5
}
