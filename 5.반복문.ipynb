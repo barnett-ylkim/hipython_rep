{
 "cells": [
  {
   "cell_type": "markdown",
   "id": "7cc5ed0c-cce2-4c81-98cd-fabea75318e7",
   "metadata": {},
   "source": [
    "# 반복문 : for, while"
   ]
  },
  {
   "cell_type": "markdown",
   "id": "822dd988-f7fa-4257-8e6b-e7443f838a2a",
   "metadata": {},
   "source": [
    "# for 문\n",
    "\n",
    "for 변수 in 반복자 :\n",
    "\n",
    "반복자에는 리스트, 문자열, 튜플, 딕셔너리, 세트(집합)"
   ]
  },
  {
   "cell_type": "code",
   "execution_count": 1,
   "id": "54c6651b-26af-49ea-b819-456680df3c46",
   "metadata": {},
   "outputs": [
    {
     "name": "stdout",
     "output_type": "stream",
     "text": [
      "0\n",
      "1\n",
      "2\n",
      "3\n",
      "4\n"
     ]
    }
   ],
   "source": [
    "data = [0,1,2,3,4]\n",
    "\n",
    "for var in data :\n",
    "    print(var)"
   ]
  },
  {
   "cell_type": "code",
   "execution_count": 2,
   "id": "759f3bd4-e12e-4952-808b-0ebc006763d7",
   "metadata": {},
   "outputs": [
    {
     "data": {
      "text/plain": [
       "range(1, 10)"
      ]
     },
     "execution_count": 2,
     "metadata": {},
     "output_type": "execute_result"
    }
   ],
   "source": [
    "range(1,10)"
   ]
  },
  {
   "cell_type": "code",
   "execution_count": null,
   "id": "c3ad0ab3-a55e-423f-a390-81cf84fb345a",
   "metadata": {},
   "outputs": [],
   "source": [
    "for x in range(1,10):\n",
    "    print(x)"
   ]
  },
  {
   "cell_type": "code",
   "execution_count": null,
   "id": "078ce121-fa4b-4681-a12e-c25d97d073fc",
   "metadata": {},
   "outputs": [],
   "source": [
    "#tuple, dictionary, str"
   ]
  },
  {
   "cell_type": "code",
   "execution_count": 3,
   "id": "a438089e-1914-41ef-b880-64824d85569f",
   "metadata": {},
   "outputs": [],
   "source": [
    "numbers = (1,2,3,4)\n",
    "stu = {'name':'ylee', 'age':30}"
   ]
  },
  {
   "cell_type": "code",
   "execution_count": 6,
   "id": "db5f9dd8-a795-4396-a6ac-179d662d3507",
   "metadata": {},
   "outputs": [
    {
     "data": {
      "text/plain": [
       "10"
      ]
     },
     "execution_count": 6,
     "metadata": {},
     "output_type": "execute_result"
    }
   ],
   "source": [
    "sum=0\n",
    "for n in numbers:\n",
    "    sum += n\n",
    "sum"
   ]
  },
  {
   "cell_type": "code",
   "execution_count": 8,
   "id": "47888f80-2783-49e1-b23d-b40e2c59820d",
   "metadata": {},
   "outputs": [
    {
     "name": "stdout",
     "output_type": "stream",
     "text": [
      "name ylee\n",
      "age 30\n"
     ]
    }
   ],
   "source": [
    "for k,v in stu.items():\n",
    "    print(k,v)"
   ]
  },
  {
   "cell_type": "code",
   "execution_count": 9,
   "id": "dd6360be-6013-439d-94c6-69d440b4949d",
   "metadata": {},
   "outputs": [
    {
     "data": {
      "text/plain": [
       "range"
      ]
     },
     "execution_count": 9,
     "metadata": {},
     "output_type": "execute_result"
    }
   ],
   "source": [
    "ran = range(1,10)\n",
    "type(ran)"
   ]
  },
  {
   "cell_type": "code",
   "execution_count": 10,
   "id": "3c4b7b03-5352-48fd-9d96-e3308a779b26",
   "metadata": {
    "scrolled": true
   },
   "outputs": [
    {
     "name": "stdout",
     "output_type": "stream",
     "text": [
      "Help on class list in module builtins:\n",
      "\n",
      "class list(object)\n",
      " |  list(iterable=(), /)\n",
      " |\n",
      " |  Built-in mutable sequence.\n",
      " |\n",
      " |  If no argument is given, the constructor creates a new empty list.\n",
      " |  The argument must be an iterable if specified.\n",
      " |\n",
      " |  Methods defined here:\n",
      " |\n",
      " |  __add__(self, value, /)\n",
      " |      Return self+value.\n",
      " |\n",
      " |  __contains__(self, key, /)\n",
      " |      Return bool(key in self).\n",
      " |\n",
      " |  __delitem__(self, key, /)\n",
      " |      Delete self[key].\n",
      " |\n",
      " |  __eq__(self, value, /)\n",
      " |      Return self==value.\n",
      " |\n",
      " |  __ge__(self, value, /)\n",
      " |      Return self>=value.\n",
      " |\n",
      " |  __getattribute__(self, name, /)\n",
      " |      Return getattr(self, name).\n",
      " |\n",
      " |  __getitem__(self, index, /)\n",
      " |      Return self[index].\n",
      " |\n",
      " |  __gt__(self, value, /)\n",
      " |      Return self>value.\n",
      " |\n",
      " |  __iadd__(self, value, /)\n",
      " |      Implement self+=value.\n",
      " |\n",
      " |  __imul__(self, value, /)\n",
      " |      Implement self*=value.\n",
      " |\n",
      " |  __init__(self, /, *args, **kwargs)\n",
      " |      Initialize self.  See help(type(self)) for accurate signature.\n",
      " |\n",
      " |  __iter__(self, /)\n",
      " |      Implement iter(self).\n",
      " |\n",
      " |  __le__(self, value, /)\n",
      " |      Return self<=value.\n",
      " |\n",
      " |  __len__(self, /)\n",
      " |      Return len(self).\n",
      " |\n",
      " |  __lt__(self, value, /)\n",
      " |      Return self<value.\n",
      " |\n",
      " |  __mul__(self, value, /)\n",
      " |      Return self*value.\n",
      " |\n",
      " |  __ne__(self, value, /)\n",
      " |      Return self!=value.\n",
      " |\n",
      " |  __repr__(self, /)\n",
      " |      Return repr(self).\n",
      " |\n",
      " |  __reversed__(self, /)\n",
      " |      Return a reverse iterator over the list.\n",
      " |\n",
      " |  __rmul__(self, value, /)\n",
      " |      Return value*self.\n",
      " |\n",
      " |  __setitem__(self, key, value, /)\n",
      " |      Set self[key] to value.\n",
      " |\n",
      " |  __sizeof__(self, /)\n",
      " |      Return the size of the list in memory, in bytes.\n",
      " |\n",
      " |  append(self, object, /)\n",
      " |      Append object to the end of the list.\n",
      " |\n",
      " |  clear(self, /)\n",
      " |      Remove all items from list.\n",
      " |\n",
      " |  copy(self, /)\n",
      " |      Return a shallow copy of the list.\n",
      " |\n",
      " |  count(self, value, /)\n",
      " |      Return number of occurrences of value.\n",
      " |\n",
      " |  extend(self, iterable, /)\n",
      " |      Extend list by appending elements from the iterable.\n",
      " |\n",
      " |  index(self, value, start=0, stop=9223372036854775807, /)\n",
      " |      Return first index of value.\n",
      " |\n",
      " |      Raises ValueError if the value is not present.\n",
      " |\n",
      " |  insert(self, index, object, /)\n",
      " |      Insert object before index.\n",
      " |\n",
      " |  pop(self, index=-1, /)\n",
      " |      Remove and return item at index (default last).\n",
      " |\n",
      " |      Raises IndexError if list is empty or index is out of range.\n",
      " |\n",
      " |  remove(self, value, /)\n",
      " |      Remove first occurrence of value.\n",
      " |\n",
      " |      Raises ValueError if the value is not present.\n",
      " |\n",
      " |  reverse(self, /)\n",
      " |      Reverse *IN PLACE*.\n",
      " |\n",
      " |  sort(self, /, *, key=None, reverse=False)\n",
      " |      Sort the list in ascending order and return None.\n",
      " |\n",
      " |      The sort is in-place (i.e. the list itself is modified) and stable (i.e. the\n",
      " |      order of two equal elements is maintained).\n",
      " |\n",
      " |      If a key function is given, apply it once to each list item and sort them,\n",
      " |      ascending or descending, according to their function values.\n",
      " |\n",
      " |      The reverse flag can be set to sort in descending order.\n",
      " |\n",
      " |  ----------------------------------------------------------------------\n",
      " |  Class methods defined here:\n",
      " |\n",
      " |  __class_getitem__(...)\n",
      " |      See PEP 585\n",
      " |\n",
      " |  ----------------------------------------------------------------------\n",
      " |  Static methods defined here:\n",
      " |\n",
      " |  __new__(*args, **kwargs)\n",
      " |      Create and return a new object.  See help(type) for accurate signature.\n",
      " |\n",
      " |  ----------------------------------------------------------------------\n",
      " |  Data and other attributes defined here:\n",
      " |\n",
      " |  __hash__ = None\n",
      "\n"
     ]
    }
   ],
   "source": [
    "help(list)"
   ]
  },
  {
   "cell_type": "code",
   "execution_count": 11,
   "id": "736fdaf9-eb91-47ef-816c-b013c2770476",
   "metadata": {},
   "outputs": [
    {
     "data": {
      "text/plain": [
       "[1, 2, 3, 4, 5, 6, 7, 8, 9]"
      ]
     },
     "execution_count": 11,
     "metadata": {},
     "output_type": "execute_result"
    }
   ],
   "source": [
    "list(ran)"
   ]
  },
  {
   "cell_type": "code",
   "execution_count": 12,
   "id": "0393ca47-e66e-41a0-859a-f7678c750aea",
   "metadata": {},
   "outputs": [
    {
     "data": {
      "text/plain": [
       "list"
      ]
     },
     "execution_count": 12,
     "metadata": {},
     "output_type": "execute_result"
    }
   ],
   "source": [
    "type(list(ran))"
   ]
  },
  {
   "cell_type": "markdown",
   "id": "36a2ed39-46ac-4d4e-95f4-240cea8c9171",
   "metadata": {},
   "source": [
    "# range(1,10,2) \n",
    "start, stop, step=1 default"
   ]
  },
  {
   "cell_type": "code",
   "execution_count": 13,
   "id": "dd1912e3-a543-4b71-8871-c7e508e15321",
   "metadata": {},
   "outputs": [
    {
     "data": {
      "text/plain": [
       "[0, 2, 4, 6, 8]"
      ]
     },
     "execution_count": 13,
     "metadata": {},
     "output_type": "execute_result"
    }
   ],
   "source": [
    "list(range(0,10,2))"
   ]
  },
  {
   "cell_type": "code",
   "execution_count": 16,
   "id": "9ed3a64f-fcea-483b-a5bc-8c798323e4f9",
   "metadata": {},
   "outputs": [
    {
     "name": "stdout",
     "output_type": "stream",
     "text": [
      "5050\n"
     ]
    }
   ],
   "source": [
    "#1~100 합 구하기\n",
    "sum1 = 0\n",
    "for i in range(1,101):\n",
    "    sum1 += i\n",
    "print(sum1)"
   ]
  },
  {
   "cell_type": "code",
   "execution_count": null,
   "id": "6f07418b-0bdd-4f3f-a463-7d825be57219",
   "metadata": {},
   "outputs": [],
   "source": [
    "#3의 배수의 합 (1~100)"
   ]
  },
  {
   "cell_type": "code",
   "execution_count": 17,
   "id": "4612acfb-4e0c-404c-ac6b-9a686469f255",
   "metadata": {},
   "outputs": [
    {
     "data": {
      "text/plain": [
       "1683"
      ]
     },
     "execution_count": 17,
     "metadata": {},
     "output_type": "execute_result"
    }
   ],
   "source": [
    "sum2 = 0\n",
    "for i in range(1,101):\n",
    "    if (i%3) == 0 :\n",
    "        sum2 += i\n",
    "sum2"
   ]
  },
  {
   "cell_type": "code",
   "execution_count": 18,
   "id": "1f3b3307-12f9-4682-8bfb-c34eaee28197",
   "metadata": {},
   "outputs": [
    {
     "data": {
      "text/plain": [
       "1683"
      ]
     },
     "execution_count": 18,
     "metadata": {},
     "output_type": "execute_result"
    }
   ],
   "source": [
    "sum3 = 0\n",
    "for i in range(3,101, 3):\n",
    "    sum3 += i\n",
    "sum3"
   ]
  },
  {
   "cell_type": "code",
   "execution_count": 19,
   "id": "0df28ee3-e834-483c-8b36-f7994f7b4d18",
   "metadata": {},
   "outputs": [
    {
     "name": "stdout",
     "output_type": "stream",
     "text": [
      "a\n",
      "b\n",
      "c\n"
     ]
    }
   ],
   "source": [
    "char_list = ['a', 'b', 'c']\n",
    "\n",
    "for x in char_list:\n",
    "    print(x)"
   ]
  },
  {
   "cell_type": "code",
   "execution_count": 20,
   "id": "0f8d3d8e-9af0-432d-b76b-827262577e3a",
   "metadata": {},
   "outputs": [
    {
     "name": "stdout",
     "output_type": "stream",
     "text": [
      "0 a\n",
      "1 b\n",
      "2 c\n"
     ]
    }
   ],
   "source": [
    "for i, v in enumerate(char_list):\n",
    "    print(i,v)"
   ]
  },
  {
   "cell_type": "code",
   "execution_count": 21,
   "id": "b5652604-ea00-4a2b-8c6b-ec0175fc2eba",
   "metadata": {},
   "outputs": [
    {
     "data": {
      "text/plain": [
       "<zip at 0x1292e86a380>"
      ]
     },
     "execution_count": 21,
     "metadata": {},
     "output_type": "execute_result"
    }
   ],
   "source": [
    "char_list_2 = ['hello', 'hi', 'good-bye']\n",
    "zip(char_list, char_list_2)"
   ]
  },
  {
   "cell_type": "code",
   "execution_count": 22,
   "id": "6e883fbb-8b49-4467-88a0-919dab32c057",
   "metadata": {},
   "outputs": [
    {
     "name": "stdout",
     "output_type": "stream",
     "text": [
      "('a', 'hello')\n",
      "('b', 'hi')\n",
      "('c', 'good-bye')\n"
     ]
    }
   ],
   "source": [
    "for item in zip(char_list, char_list_2):\n",
    "    print(item)"
   ]
  },
  {
   "cell_type": "code",
   "execution_count": null,
   "id": "651904fc-b117-4de5-b4d0-cfaf987bbd7e",
   "metadata": {},
   "outputs": [],
   "source": [
    "# 99단 - 2단\n",
    "#2 x 1 = 2\n",
    "#2 x 2 = 4\n",
    "\n",
    "#3 x 1 = 3\n",
    "\n",
    "#4 x 1 = 4"
   ]
  },
  {
   "cell_type": "code",
   "execution_count": 26,
   "id": "16ebe795-fddc-4386-a456-0b638a7e23c5",
   "metadata": {},
   "outputs": [
    {
     "name": "stdout",
     "output_type": "stream",
     "text": [
      "2 * 1 = 2\n",
      "2 * 2 = 4\n",
      "2 * 3 = 6\n",
      "2 * 4 = 8\n",
      "2 * 5 = 10\n",
      "2 * 6 = 12\n",
      "2 * 7 = 14\n",
      "2 * 8 = 16\n",
      "2 * 9 = 18\n"
     ]
    }
   ],
   "source": [
    "for i in range(1,10):\n",
    "    print(f'2 * {i} = {2*i}')\n",
    "    "
   ]
  },
  {
   "cell_type": "code",
   "execution_count": 25,
   "id": "2641e614-90aa-4053-a16d-09e2987283ca",
   "metadata": {},
   "outputs": [
    {
     "name": "stdout",
     "output_type": "stream",
     "text": [
      "영화 미션임파서블의 평점 : 😀😀😀😀\n",
      "영화 미치광이삐에로의 평점 : 😀😀😀😀😀\n",
      "영화 씨너스의 평점 : 😀😀😀\n",
      "영화 울지않는아이의 평점 : 😀😀\n"
     ]
    }
   ],
   "source": [
    "movie_dict = {'미션임파서블':4, '미치광이삐에로':5, '씨너스':3, '울지않는아이':2}\n",
    "for k,v in movie_dict.items():\n",
    "    print(f'영화 {k}의 평점 : { '😀'*v}')"
   ]
  },
  {
   "cell_type": "markdown",
   "id": "5d9b5858-d67f-4f17-a487-bec3cb261220",
   "metadata": {},
   "source": [
    "# 중첩 반복문"
   ]
  },
  {
   "cell_type": "code",
   "execution_count": 30,
   "id": "e80d3ad1-9f23-466d-9f57-4d053363f2b8",
   "metadata": {},
   "outputs": [
    {
     "name": "stdout",
     "output_type": "stream",
     "text": [
      "💗\n",
      "💗💗\n",
      "💗💗💗\n",
      "💗💗💗💗\n",
      "💗💗💗💗💗\n"
     ]
    }
   ],
   "source": [
    "for i in range(1,6):\n",
    "    for j in range(i):\n",
    "        print('💗', end='')\n",
    "    print()"
   ]
  },
  {
   "cell_type": "code",
   "execution_count": null,
   "id": "cefe34c0-bd8b-4a37-a959-0ce8a1862c88",
   "metadata": {},
   "outputs": [],
   "source": [
    "가운데가 뾰족한 삼각형"
   ]
  },
  {
   "cell_type": "markdown",
   "id": "9cb6b3d8-de91-45dd-b1d0-2453e96bdc33",
   "metadata": {},
   "source": [
    "# while 문"
   ]
  },
  {
   "cell_type": "code",
   "execution_count": 1,
   "id": "66821e57-bfd5-4834-87b2-d8d2b60c7080",
   "metadata": {},
   "outputs": [
    {
     "data": {
      "text/plain": [
       "6"
      ]
     },
     "execution_count": 1,
     "metadata": {},
     "output_type": "execute_result"
    }
   ],
   "source": [
    "# sum = 0\n",
    "# for i in range(6):\n",
    "#     sum += 1\n",
    "# sum"
   ]
  },
  {
   "cell_type": "code",
   "execution_count": 4,
   "id": "599138af-8721-4f86-9109-b65ffb47fea2",
   "metadata": {},
   "outputs": [],
   "source": [
    "# i=0\n",
    "# while True :\n",
    "#     if i>6:\n",
    "#         break\n",
    "#     sum += i\n",
    "#     i +=1"
   ]
  },
  {
   "cell_type": "code",
   "execution_count": 6,
   "id": "04e3643f-4d9c-425b-a01e-60296c2a4a10",
   "metadata": {},
   "outputs": [
    {
     "data": {
      "text/plain": [
       "27"
      ]
     },
     "execution_count": 6,
     "metadata": {},
     "output_type": "execute_result"
    }
   ],
   "source": [
    "# while i<6 :\n",
    "#     i += 1\n",
    "#     sum += i\n",
    "# sum"
   ]
  },
  {
   "cell_type": "code",
   "execution_count": 1,
   "id": "755c0688-542c-4b7c-a038-9e8b348cf7bf",
   "metadata": {},
   "outputs": [
    {
     "data": {
      "text/plain": [
       "21"
      ]
     },
     "execution_count": 1,
     "metadata": {},
     "output_type": "execute_result"
    }
   ],
   "source": [
    "sum(range(1,7))"
   ]
  },
  {
   "cell_type": "markdown",
   "id": "837020ad-1f3e-46c7-814a-fb541d49a260",
   "metadata": {},
   "source": [
    "# 리스트 컴프리헨션\n",
    "`[  리스트요소 for <1개>  in <반복범위>  ]`"
   ]
  },
  {
   "cell_type": "code",
   "execution_count": 6,
   "id": "3aea208e-5b6b-4022-bb84-c89391ad29b8",
   "metadata": {},
   "outputs": [
    {
     "data": {
      "text/plain": [
       "[2, 4, 6, 8, 10]"
      ]
     },
     "execution_count": 6,
     "metadata": {},
     "output_type": "execute_result"
    }
   ],
   "source": [
    "numbers = [1,2,3,4,5]\n",
    "squares = [ num*2 for num in numbers ]\n",
    "squares"
   ]
  },
  {
   "cell_type": "code",
   "execution_count": 7,
   "id": "a303964c-647a-43a6-8327-6c4a7d443875",
   "metadata": {},
   "outputs": [
    {
     "data": {
      "text/plain": [
       "[0, 2, 4, 6, 8, 5, 6, 7, 8, 9]"
      ]
     },
     "execution_count": 7,
     "metadata": {},
     "output_type": "execute_result"
    }
   ],
   "source": [
    "## 조건식 + for 가 결합한 리스트 컴프리헨션 \n",
    "test_list = []\n",
    "\n",
    "for x in range(10):\n",
    "    if x<5:\n",
    "        test_list.append(x*2)\n",
    "    else :\n",
    "        test_list.append(x)\n",
    "test_list"
   ]
  },
  {
   "cell_type": "code",
   "execution_count": 8,
   "id": "e7dc3041-2e25-4c82-b4cf-30e4398bdeed",
   "metadata": {},
   "outputs": [
    {
     "data": {
      "text/plain": [
       "[0, 2, 4, 6, 8, 5, 6, 7, 8, 9]"
      ]
     },
     "execution_count": 8,
     "metadata": {},
     "output_type": "execute_result"
    }
   ],
   "source": [
    "[ x*2 if x<5 else x for x in range(10) ]"
   ]
  },
  {
   "cell_type": "code",
   "execution_count": 9,
   "id": "eecf4b76-4c8e-4846-b01a-9fd7f38a4b38",
   "metadata": {},
   "outputs": [
    {
     "data": {
      "text/plain": [
       "[0, 1, 2, 3, 4]"
      ]
     },
     "execution_count": 9,
     "metadata": {},
     "output_type": "execute_result"
    }
   ],
   "source": [
    "[ x for x in range(10) if x< 5 ] "
   ]
  },
  {
   "cell_type": "code",
   "execution_count": null,
   "id": "550bf409-cb08-43ce-8f36-fe51b071b694",
   "metadata": {},
   "outputs": [],
   "source": [
    "#리스트 컴프리헨션을 이용한 변환, 필터"
   ]
  },
  {
   "cell_type": "code",
   "execution_count": 11,
   "id": "71041e2e-a916-4783-a0c7-5dc77fac6838",
   "metadata": {},
   "outputs": [
    {
     "name": "stdout",
     "output_type": "stream",
     "text": [
      "🎉 당첨 번호 있음! (23)\n"
     ]
    }
   ],
   "source": [
    "#로또 번호 당첨 여부 확인\n",
    "my_numbers = [3, 11, 17, 23, 38, 42]\n",
    "win_numbers = [7, 14, 23, 32, 38, 45]\n",
    "\n",
    "for num in my_numbers:\n",
    "    if num in win_numbers:\n",
    "        print(f\"🎉 당첨 번호 있음! ({num})\")\n",
    "        break\n",
    "else:\n",
    "    print(\"😢 꽝입니다.\")"
   ]
  },
  {
   "cell_type": "code",
   "execution_count": 14,
   "id": "37a2357b-8004-4092-931e-78b199901ebd",
   "metadata": {},
   "outputs": [
    {
     "name": "stdout",
     "output_type": "stream",
     "text": [
      "[23, 38]\n",
      " 당첨\n"
     ]
    }
   ],
   "source": [
    "matched = [ num for num in my_numbers if num in win_numbers ] \n",
    "if matched :\n",
    "    print(matched)\n",
    "else:\n",
    "    print(\"😢 꽝입니다.\")  \n",
    "print(f' 당첨' if matched else f'꽝')"
   ]
  }
 ],
 "metadata": {
  "kernelspec": {
   "display_name": "Python 3 (ipykernel)",
   "language": "python",
   "name": "python3"
  },
  "language_info": {
   "codemirror_mode": {
    "name": "ipython",
    "version": 3
   },
   "file_extension": ".py",
   "mimetype": "text/x-python",
   "name": "python",
   "nbconvert_exporter": "python",
   "pygments_lexer": "ipython3",
   "version": "3.12.9"
  }
 },
 "nbformat": 4,
 "nbformat_minor": 5
}
