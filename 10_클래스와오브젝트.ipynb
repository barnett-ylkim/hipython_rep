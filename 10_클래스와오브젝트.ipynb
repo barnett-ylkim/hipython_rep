{
 "cells": [
  {
   "cell_type": "markdown",
   "id": "89c2c292-afab-48c7-ad72-ff23bf0956e5",
   "metadata": {},
   "source": [
    "# 파이썬으로 객체지향프로그래밍 OOP\n",
    "\n",
    "Object Oriented Programming\n",
    "\n",
    "\n",
    "파이썬으로 만드는 응용프로그램\n",
    "- 변수 : 전역, 지역\n",
    "- 함수 : 기능을 구현하는 도구\n",
    "- 모듈 : 함수의 모음, 변수의 모음 > .py\n",
    "- CRUD 의 구현 : Create, Read, Update, Delete\n",
    "\n",
    "클래스 : 변수 + 함수를 하나로 묶어 주는 구조 개념\n",
    "객체 : 클래스를 이용해서 다수의 객체를 생성 \n",
    "\n",
    "객체지향 프로그램 : 객체를 이용하는 프로그램"
   ]
  },
  {
   "cell_type": "markdown",
   "id": "fcfb3fb4-ffdc-47a1-b58e-f26e3c85a2a4",
   "metadata": {},
   "source": [
    "## 객체지향 프로그램을 만드는 법\n",
    "\n",
    "1. 클래스를 만들기\n",
    "2. 클래스를 이용해 객체를 생성\n",
    "3. 객체의 함수 : 메소드를 호출"
   ]
  },
  {
   "cell_type": "code",
   "execution_count": 15,
   "id": "e66cc43e-b468-499c-96a2-8f466b0dbeaa",
   "metadata": {},
   "outputs": [],
   "source": [
    "class Bicycle():\n",
    "    #속성추가 : 생성자\n",
    "    def __init__(self, color, wheelsize):\n",
    "        self.color = color\n",
    "        self.wheelsize = wheelsize\n",
    "        \n",
    "    # def __init__(self, color):\n",
    "    #     self.color = color\n",
    "        \n",
    "    def move(self):\n",
    "        print(f'{self.color} {self.wheelsize} 자전거가 움직입니다.')    \n",
    "    "
   ]
  },
  {
   "cell_type": "code",
   "execution_count": 16,
   "id": "0c799922-d0bb-4c95-aa35-c7c933e3b53b",
   "metadata": {},
   "outputs": [
    {
     "name": "stdout",
     "output_type": "stream",
     "text": [
      "white 20 자전거가 움직입니다.\n",
      "red 10 자전거가 움직입니다.\n",
      "blue 30 자전거가 움직입니다.\n"
     ]
    }
   ],
   "source": [
    "bi = Bicycle('white',20) #객체 생성\n",
    "bi1 = Bicycle('red',10)\n",
    "bi2 = Bicycle('blue',30)\n",
    "bi.move() #객체 메소드를 호출\n",
    "bi1.move()\n",
    "bi2.move()\n"
   ]
  },
  {
   "cell_type": "code",
   "execution_count": 18,
   "id": "4a860cab-b921-4446-8850-f6fbc86d6803",
   "metadata": {},
   "outputs": [
    {
     "data": {
      "text/plain": [
       "(__main__.Bicycle, __main__.Bicycle, __main__.Bicycle)"
      ]
     },
     "execution_count": 18,
     "metadata": {},
     "output_type": "execute_result"
    }
   ],
   "source": [
    "type(bi),type(bi1),type(bi2), "
   ]
  },
  {
   "cell_type": "code",
   "execution_count": 19,
   "id": "d7762957-8bf1-45cc-8d1d-53b271c6c923",
   "metadata": {
    "scrolled": true
   },
   "outputs": [
    {
     "data": {
      "text/plain": [
       "['__class__',\n",
       " '__delattr__',\n",
       " '__dict__',\n",
       " '__dir__',\n",
       " '__doc__',\n",
       " '__eq__',\n",
       " '__format__',\n",
       " '__ge__',\n",
       " '__getattribute__',\n",
       " '__getstate__',\n",
       " '__gt__',\n",
       " '__hash__',\n",
       " '__init__',\n",
       " '__init_subclass__',\n",
       " '__le__',\n",
       " '__lt__',\n",
       " '__module__',\n",
       " '__ne__',\n",
       " '__new__',\n",
       " '__reduce__',\n",
       " '__reduce_ex__',\n",
       " '__repr__',\n",
       " '__setattr__',\n",
       " '__sizeof__',\n",
       " '__str__',\n",
       " '__subclasshook__',\n",
       " '__weakref__',\n",
       " 'color',\n",
       " 'move',\n",
       " 'wheelsize']"
      ]
     },
     "execution_count": 19,
     "metadata": {},
     "output_type": "execute_result"
    }
   ],
   "source": [
    "dir(bi)"
   ]
  },
  {
   "cell_type": "code",
   "execution_count": 20,
   "id": "df524dc3-923c-4f6b-a9d9-bf723a60f26d",
   "metadata": {},
   "outputs": [],
   "source": [
    "class Bicycle():\n",
    "    #속성추가 : 생성자\n",
    "    def __init__(self, color, wheelsize=20):\n",
    "        self.color = color\n",
    "        self.wheelsize = wheelsize\n",
    "    \n",
    "    #오버로딩\n",
    "    # def __init__(self, color): \n",
    "    #     self.color = color\n",
    "        \n",
    "    def move(self):\n",
    "        print(f'{self.color} {self.wheelsize} 자전거가 움직입니다.')    \n",
    "    "
   ]
  },
  {
   "cell_type": "code",
   "execution_count": 22,
   "id": "79cf88e0-3e6d-48bd-9bba-63365cccafa1",
   "metadata": {},
   "outputs": [
    {
     "name": "stdout",
     "output_type": "stream",
     "text": [
      "white 20 자전거가 움직입니다.\n"
     ]
    }
   ],
   "source": [
    "bi = Bicycle('white')\n",
    "bi.move()"
   ]
  },
  {
   "cell_type": "markdown",
   "id": "97ac63dd-fa18-4be5-b794-42922090f71c",
   "metadata": {},
   "source": [
    "# 클래스의 속성 - 변수\n",
    "\n",
    "1. 인스턴스 변수\n",
    "2. 클래스 변수"
   ]
  },
  {
   "cell_type": "code",
   "execution_count": 27,
   "id": "fd7ad9da-1969-4e8b-8615-ddd9c5f7b835",
   "metadata": {},
   "outputs": [],
   "source": [
    "class Car():\n",
    "    #클래스변수\n",
    "    instance_cnt = 0\n",
    "\n",
    "    def __init__(self, size):\n",
    "        self.size = size\n",
    "        Car.instance_cnt += 1\n",
    "        print(f'자동차가 {Car.instance_cnt}대 생성되었습니다.')\n",
    "\n",
    "    def move(self):\n",
    "        print(f'{self.size}의 자동차가 움직입니다.')\n",
    "        "
   ]
  },
  {
   "cell_type": "code",
   "execution_count": 28,
   "id": "fe66c2c1-eeb9-4b1f-9a35-0f642394e494",
   "metadata": {},
   "outputs": [
    {
     "name": "stdout",
     "output_type": "stream",
     "text": [
      "자동차가 1대 생성되었습니다.\n",
      "자동차가 2대 생성되었습니다.\n",
      "자동차가 3대 생성되었습니다.\n"
     ]
    }
   ],
   "source": [
    "c1 = Car(2000)\n",
    "c2 = Car(1500)\n",
    "c3 = Car(3000)\n"
   ]
  },
  {
   "cell_type": "code",
   "execution_count": 29,
   "id": "371e28bd-66df-471e-a1fb-a540270e73b3",
   "metadata": {},
   "outputs": [
    {
     "name": "stdout",
     "output_type": "stream",
     "text": [
      "2000의 자동차가 움직입니다.\n",
      "1500의 자동차가 움직입니다.\n",
      "3000의 자동차가 움직입니다.\n"
     ]
    }
   ],
   "source": [
    "c1.move()\n",
    "c2.move()\n",
    "c3.move()"
   ]
  },
  {
   "cell_type": "code",
   "execution_count": 30,
   "id": "a08910ef-be76-4851-8079-dec21cc5d56c",
   "metadata": {},
   "outputs": [],
   "source": [
    "class Student:\n",
    "    school = \"파이썬 스쿨\"  # 클래스 변수\n",
    "    \n",
    "    def __init__(self, name):\n",
    "        self.name = name  # 인스턴스 변수\n"
   ]
  },
  {
   "cell_type": "code",
   "execution_count": 31,
   "id": "dfeba6d0-9a58-4ea9-9ac2-fede992704d6",
   "metadata": {},
   "outputs": [
    {
     "name": "stdout",
     "output_type": "stream",
     "text": [
      "영희\n",
      "철수\n",
      "파이썬 스쿨\n"
     ]
    }
   ],
   "source": [
    "\n",
    "s1 = Student(\"영희\")\n",
    "s2 = Student(\"철수\")\n",
    "\n",
    "print(s1.name)  # 영희 (인스턴스 변수)\n",
    "print(s2.name)  # 철수 (인스턴스 변수)\n",
    "print(Student.school)  # 파이썬 고등학교 (클래스 변수)"
   ]
  },
  {
   "cell_type": "code",
   "execution_count": 33,
   "id": "cba1eca8-c362-4952-b9d5-e4a574df538e",
   "metadata": {
    "scrolled": true
   },
   "outputs": [
    {
     "data": {
      "text/plain": [
       "['__class__',\n",
       " '__delattr__',\n",
       " '__dict__',\n",
       " '__dir__',\n",
       " '__doc__',\n",
       " '__eq__',\n",
       " '__format__',\n",
       " '__ge__',\n",
       " '__getattribute__',\n",
       " '__getstate__',\n",
       " '__gt__',\n",
       " '__hash__',\n",
       " '__init__',\n",
       " '__init_subclass__',\n",
       " '__le__',\n",
       " '__lt__',\n",
       " '__module__',\n",
       " '__ne__',\n",
       " '__new__',\n",
       " '__reduce__',\n",
       " '__reduce_ex__',\n",
       " '__repr__',\n",
       " '__setattr__',\n",
       " '__sizeof__',\n",
       " '__str__',\n",
       " '__subclasshook__',\n",
       " '__weakref__',\n",
       " 'name',\n",
       " 'school']"
      ]
     },
     "execution_count": 33,
     "metadata": {},
     "output_type": "execute_result"
    }
   ],
   "source": [
    "dir(s1)"
   ]
  },
  {
   "cell_type": "code",
   "execution_count": 32,
   "id": "bca157ea-f28a-4ad7-aff0-5feec48c4122",
   "metadata": {
    "scrolled": true
   },
   "outputs": [
    {
     "data": {
      "text/plain": [
       "['__class__',\n",
       " '__delattr__',\n",
       " '__dict__',\n",
       " '__dir__',\n",
       " '__doc__',\n",
       " '__eq__',\n",
       " '__format__',\n",
       " '__ge__',\n",
       " '__getattribute__',\n",
       " '__getstate__',\n",
       " '__gt__',\n",
       " '__hash__',\n",
       " '__init__',\n",
       " '__init_subclass__',\n",
       " '__le__',\n",
       " '__lt__',\n",
       " '__module__',\n",
       " '__ne__',\n",
       " '__new__',\n",
       " '__reduce__',\n",
       " '__reduce_ex__',\n",
       " '__repr__',\n",
       " '__setattr__',\n",
       " '__sizeof__',\n",
       " '__str__',\n",
       " '__subclasshook__',\n",
       " '__weakref__',\n",
       " 'school']"
      ]
     },
     "execution_count": 32,
     "metadata": {},
     "output_type": "execute_result"
    }
   ],
   "source": [
    "dir(Student)"
   ]
  },
  {
   "cell_type": "markdown",
   "id": "15ad8394-e814-4309-9560-09e94f058136",
   "metadata": {},
   "source": [
    "# 클래스의 기능 - 메소드"
   ]
  },
  {
   "cell_type": "markdown",
   "id": "d85edc62-293b-4aeb-84ec-a610c6b95d32",
   "metadata": {},
   "source": [
    "## method의 종류\n",
    "1. 인스턴스 메소드 : self\n",
    "2. 스태틱(정적) 메소드 : @staticmethod\n",
    "3. 클래스 메소드 : @classmethod"
   ]
  },
  {
   "cell_type": "code",
   "execution_count": 34,
   "id": "93958582-50f9-483a-ab13-d64aec6662b9",
   "metadata": {},
   "outputs": [],
   "source": [
    "class Calculator:\n",
    "    def __init__(self, x, y): #instance method\n",
    "        self.x = x\n",
    "        self.y = y\n",
    "\n",
    "    def add(self): #instance method\n",
    "        return self.x + self.y\n",
    "\n",
    "    def multiply(self): #instance method\n",
    "        return self.x * self.y\n"
   ]
  },
  {
   "cell_type": "code",
   "execution_count": 37,
   "id": "2c374bd3-2b0c-4143-bf40-2499a9f791f2",
   "metadata": {},
   "outputs": [
    {
     "data": {
      "text/plain": [
       "12"
      ]
     },
     "execution_count": 37,
     "metadata": {},
     "output_type": "execute_result"
    }
   ],
   "source": [
    "calc =  Calculator(3,4) #__init__() 생성자 함수를 자동으로 호출\n",
    "calc.add() #instance method의 호출 > 객체의참조.메소드()\n",
    "calc.multiply()"
   ]
  },
  {
   "cell_type": "code",
   "execution_count": 50,
   "id": "e57480f1-2b30-4501-a63d-c838f193d6fd",
   "metadata": {},
   "outputs": [],
   "source": [
    "class Car():\n",
    "    instance_cnt = 0 #클래스 속성\n",
    "    \n",
    "    def __init__(self, size):\n",
    "        self.size = size\n",
    "        Car.instance_cnt += 1\n",
    "        print(f'자동차가 {Car.instance_cnt}대 생성되었습니다.')\n",
    "    \n",
    "    def auto_cruise(self): #instance\n",
    "        print('자율주행중')\n",
    "\n",
    "    @staticmethod\n",
    "    def check_type(code): #static method\n",
    "        if code > 20 :\n",
    "            print('전기자동차')\n",
    "        elif 10< code < 20 :\n",
    "            print('가솔린자동차')\n",
    "        else:\n",
    "            print('디젤차')\n",
    "    \n",
    "    @classmethod\n",
    "    def count_instance(cls): #class method\n",
    "        print(f'자동차 대수 : {cls.instance_cnt}')"
   ]
  },
  {
   "cell_type": "code",
   "execution_count": 53,
   "id": "345f6e59-cd00-4c38-aed2-11a0df51e8d6",
   "metadata": {},
   "outputs": [
    {
     "name": "stdout",
     "output_type": "stream",
     "text": [
      "자동차가 2대 생성되었습니다.\n",
      "전기자동차\n"
     ]
    }
   ],
   "source": [
    "c1 = Car(2000)\n",
    "Car.check_type(25)"
   ]
  },
  {
   "cell_type": "code",
   "execution_count": 54,
   "id": "cc0a5bf4-7129-41eb-8154-c233c576109a",
   "metadata": {},
   "outputs": [
    {
     "name": "stdout",
     "output_type": "stream",
     "text": [
      "자동차 대수 : 2\n"
     ]
    }
   ],
   "source": [
    "Car.count_instance()"
   ]
  },
  {
   "cell_type": "markdown",
   "id": "cf4aa3c2-6df6-4470-a39d-2425570af43d",
   "metadata": {},
   "source": [
    "# 성적 관리 프로그램 클래스 버전"
   ]
  },
  {
   "cell_type": "code",
   "execution_count": 74,
   "id": "f34f9516-1c9e-43bd-96c4-98b50d5a980a",
   "metadata": {},
   "outputs": [],
   "source": [
    "import random"
   ]
  },
  {
   "cell_type": "code",
   "execution_count": 141,
   "id": "8e23d429-c6f4-425d-b5eb-925e0709f685",
   "metadata": {},
   "outputs": [],
   "source": [
    "class Student():\n",
    "    ```\n",
    "    학생 개인의 성적을 관리하는 클래스\n",
    "    ```\n",
    "    def __init__(self, num, name, kor, eng, math):\n",
    "        self.num = num\n",
    "        self.name = name\n",
    "        self.kor = kor\n",
    "        self.eng = eng\n",
    "        self.math = math\n",
    "        self.total = 0\n",
    "        self.avg = 0\n",
    "        self.order = 0\n",
    "    \n",
    "    #학생 객체의 정보 출력, instance method\n",
    "    def s_info(self):\n",
    "        print(f'{self.num}, {self.name}, {self.kor}, {self.eng}, {self.math}, {self.total}, , {self.order}') \n",
    "\n",
    "    #학생 객체의 총점\n",
    "    def calc_total(self):\n",
    "        self.total = self.kor + self.eng + self.math\n",
    "        self.avg = self.total/3\n",
    "\n",
    "    #학생 객체의 등수 계산\n",
    "    def set_order(self, order):\n",
    "        self.order = order\n",
    "\n",
    "    # Object 상속 받은 메소드 재정의 overriding\n",
    "    def __str__(self):\n",
    "        return f'{self.num}. {self.name} : {self.order}등'\n",
    "\n",
    "    #학생 성적표\n",
    "    def print_score(self):\n",
    "        print(f'{self.name} : {self.avg:.2f}')\n",
    "\n",
    "    #instance method + 1"
   ]
  },
  {
   "cell_type": "code",
   "execution_count": 147,
   "id": "2cbc0386-4dfb-4d19-baef-154350971b0a",
   "metadata": {},
   "outputs": [],
   "source": [
    "class Classroom():\n",
    "    #클래스 이름\n",
    "    def __init__(self, student_list):\n",
    "        self.students = self.gen_student_data(student_list)\n",
    "        self.name = ''\n",
    "\n",
    "    def set_name(self, class_name):\n",
    "        self.name = class_name\n",
    "        \n",
    "    #클래스의 학생 목록의 생성하는 인스턴스 메소드\n",
    "    def gen_student_data(self, stu_list):\n",
    "        students = []\n",
    "        for i, s_name in enumerate(stu_list, start=1):\n",
    "            #print(i,s_name)\n",
    "            s = Student(i,s_name, \n",
    "                        random.randint(50,100),\n",
    "                        random.randint(50,100),\n",
    "                        random.randint(50,100)\n",
    "                               )\n",
    "\n",
    "            s.calc_total()\n",
    "            #s.s_info()\n",
    "            \n",
    "            students.append(s)\n",
    "        \n",
    "        return students\n",
    "    \n",
    "    #학급의 학생 순위를 계산해서 학생 객체에 설정\n",
    "    def calc_order(self):\n",
    "        for s in self.students:\n",
    "            rank = 1\n",
    "            for other in self.students:\n",
    "                if other.total > s.total:\n",
    "                    rank += 1\n",
    "            s.set_order(rank)\n",
    "            #s.s_info()\n",
    "            \n",
    "    def print_student_score(self):\n",
    "        for student in self.students:\n",
    "            print(student)\n",
    "\n",
    "    #학급정보 리턴함수 __str__\n",
    "    def __str__(self):\n",
    "        return f'학급명 : {self.name}'\n",
    "\n",
    "    #학급 성적표\n",
    "    #국어 평균, 수학 평균, 영어 평균, 전체 평균, 학생수 \n",
    "    def print_class_score(self):\n",
    "        print(f' 우리 학급은 {self.name} 입니다.')\n",
    "        print(f'이번 우리 클래스의 전체 평균은 {sum(s.total for s in self.students)/len(self.students):.2f} 입니다.')\n",
    "        print(f'우리 학급은 총 {len(self.students)}명입니다.\\n')\n",
    "\n",
    "    def print_ordered_class_member(self):\n",
    "        s_students = sorted(self.students, key=lambda s:s.order)\n",
    "        #print(len(s_students))\n",
    "        \n",
    "        for s in s_students:\n",
    "            s.print_score()\n",
    "\n",
    "    #instance method + 1"
   ]
  },
  {
   "cell_type": "code",
   "execution_count": 148,
   "id": "4d99629e-10ac-476b-b17b-506d835f857a",
   "metadata": {},
   "outputs": [
    {
     "name": "stdout",
     "output_type": "stream",
     "text": [
      "1. 홍길동 : 2등\n",
      "2. 박제동 : 4등\n",
      "3. 김영희 : 1등\n",
      "4. 한사랑 : 3등\n",
      "1. 김철수 : 2등\n",
      "2. 박길동 : 5등\n",
      "3. 이영희 : 1등\n",
      "4. 최사랑 : 4등\n",
      "5. 아이유 : 3등\n",
      "****************************************\n",
      " 우리 학급은 WN7 입니다.\n",
      "이번 우리 클래스의 전체 평균은 218.75 입니다.\n",
      "우리 학급은 총 4명입니다.\n",
      "\n",
      "김영희 : 82.67\n",
      "홍길동 : 78.67\n",
      "한사랑 : 71.33\n",
      "박제동 : 59.00\n",
      "****************************************\n",
      " 우리 학급은 software camp 입니다.\n",
      "이번 우리 클래스의 전체 평균은 225.80 입니다.\n",
      "우리 학급은 총 5명입니다.\n",
      "\n",
      "이영희 : 84.00\n",
      "김철수 : 78.00\n",
      "아이유 : 76.33\n",
      "최사랑 : 70.67\n",
      "박길동 : 67.33\n"
     ]
    }
   ],
   "source": [
    "#main process\n",
    "a_class_stu = ['홍길동', '박제동', '김영희', '한사랑']\n",
    "b_class_stu = ['김철수', '박길동', '이영희', '최사랑', '아이유']\n",
    "\n",
    "a_class = Classroom(a_class_stu)\n",
    "b_class = Classroom(b_class_stu)\n",
    "\n",
    "a_class.calc_order()\n",
    "a_class.print_student_score()\n",
    "a_class.set_name('WN7')\n",
    "\n",
    "#print(a_class)\n",
    "b_class.calc_order()\n",
    "b_class.print_student_score()\n",
    "b_class.set_name('software camp')\n",
    "\n",
    "print('*'*40)\n",
    "a_class.print_class_score()\n",
    "a_class.print_ordered_class_member()\n",
    "\n",
    "print('*'*40)\n",
    "b_class.print_class_score()\n",
    "b_class.print_ordered_class_member()"
   ]
  },
  {
   "cell_type": "code",
   "execution_count": null,
   "id": "9b1b629c-7a7e-4b7c-9796-47c35340d51e",
   "metadata": {},
   "outputs": [],
   "source": []
  }
 ],
 "metadata": {
  "kernelspec": {
   "display_name": "Python 3 (ipykernel)",
   "language": "python",
   "name": "python3"
  },
  "language_info": {
   "codemirror_mode": {
    "name": "ipython",
    "version": 3
   },
   "file_extension": ".py",
   "mimetype": "text/x-python",
   "name": "python",
   "nbconvert_exporter": "python",
   "pygments_lexer": "ipython3",
   "version": "3.12.9"
  }
 },
 "nbformat": 4,
 "nbformat_minor": 5
}
