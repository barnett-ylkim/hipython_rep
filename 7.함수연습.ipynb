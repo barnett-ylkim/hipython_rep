{
 "cells": [
  {
   "cell_type": "markdown",
   "id": "c5a2bb26-0e5e-4a21-921d-513cfef172c0",
   "metadata": {},
   "source": [
    "# 간식박스 관리프로그램 (함수기반)"
   ]
  },
  {
   "cell_type": "code",
   "execution_count": 2,
   "id": "d8e3feda-3ba2-49de-9765-bc1174cce7e9",
   "metadata": {},
   "outputs": [],
   "source": [
    "# 함수 도출  - 기능의 세분화, 함수를 정의\n",
    "# 함수 구현\n",
    "# 문제점 - 오류처리, 예외처리 "
   ]
  },
  {
   "cell_type": "code",
   "execution_count": 1,
   "id": "36cc13b7-c103-4833-8a5e-a4f1200dc0a7",
   "metadata": {},
   "outputs": [],
   "source": [
    "#1. 간식박스 생성 create\n",
    "def make_snack_box():\n",
    "    snack_box = ['초코파이']\n",
    "    new_snack = input('먹고 싶은 간식을 추가하세요.  단, 쉼표(,)로 연결하세요').split(',')\n",
    "    snack_box += new_snack\n",
    "    return snack_box"
   ]
  },
  {
   "cell_type": "code",
   "execution_count": 4,
   "id": "0afbb730-bc5e-4412-9544-bdaccfb3a09f",
   "metadata": {},
   "outputs": [],
   "source": [
    "#2. 간식세트 포장 *2 update\n",
    "def multiply_snack_box(snack_box) :\n",
    "    qty = int(input('간식박스 몇 세트로 포장할까요? 예: 2 -> 2box'))\n",
    "    return snack_box * qty"
   ]
  },
  {
   "cell_type": "code",
   "execution_count": 5,
   "id": "a3362326-a7f8-47ae-8545-17d9bd053d15",
   "metadata": {},
   "outputs": [],
   "source": [
    "#6. 간식박스 전체보기 read\n",
    "def display_snack_box(snack_box):\n",
    "    print(f'{snack_box[::-1]}, 총 {len(snack_box)}개 입니다.')"
   ]
  },
  {
   "cell_type": "code",
   "execution_count": null,
   "id": "7d8edc8a-f08a-49a3-921d-7c3abfd8cbce",
   "metadata": {},
   "outputs": [],
   "source": [
    "#3. 간식박스 미리보기(3개만) read - signature\n",
    "def preview_snack_box(snack_box):\n",
    "    pass"
   ]
  },
  {
   "cell_type": "code",
   "execution_count": null,
   "id": "30cb1a75-d9fa-4209-9fe3-763f7eed6e3a",
   "metadata": {},
   "outputs": [],
   "source": [
    "#4. 간식삭제 delete\n",
    "def remove_snack_box(snack_box):\n",
    "    pass\n",
    "    return snack_box"
   ]
  },
  {
   "cell_type": "code",
   "execution_count": null,
   "id": "ca1e6698-8108-4852-8ac2-58c9d8dd2a34",
   "metadata": {},
   "outputs": [],
   "source": [
    "#5. 간식찾기 search\n",
    "def search_snack(snack_box):\n",
    "    pass"
   ]
  },
  {
   "cell_type": "code",
   "execution_count": null,
   "id": "5c471cc0-8bb1-49c6-b30a-56388ac4fa73",
   "metadata": {},
   "outputs": [],
   "source": [
    "#관리프로그램 crud처리\n",
    "#1. 간식박스 생성 create\n",
    "#2. 간식세트 포장 *2 update\n",
    "#3. 간식박스 미리보기(3개만) read\n",
    "#4. 간식삭제 delete\n",
    "#5. 간식찾기 search\n",
    "#6. 간식박스 전체보기 read"
   ]
  },
  {
   "cell_type": "code",
   "execution_count": 7,
   "id": "e0b6b4c6-fd10-4e7c-a4e8-675472b23cc9",
   "metadata": {},
   "outputs": [
    {
     "name": "stdin",
     "output_type": "stream",
     "text": [
      "먹고 싶은 간식을 추가하세요.  단, 쉼표(,)로 연결하세요 새우깡\n"
     ]
    },
    {
     "name": "stdout",
     "output_type": "stream",
     "text": [
      "간식박스가 만들어졌어요\n",
      "['새우깡', '초코파이'], 총 2개 입니다.\n"
     ]
    },
    {
     "name": "stdin",
     "output_type": "stream",
     "text": [
      "간식박스 몇 세트로 포장할까요? 예: 2 -> 2box 3\n"
     ]
    },
    {
     "name": "stdout",
     "output_type": "stream",
     "text": [
      "['새우깡', '초코파이', '새우깡', '초코파이', '새우깡', '초코파이'], 총 6개 입니다.\n"
     ]
    }
   ],
   "source": [
    "box = make_snack_box()\n",
    "print('간식박스가 만들어졌어요')\n",
    "display_snack_box(box)\n",
    "box = multiply_snack_box(box)\n",
    "display_snack_box(box)"
   ]
  }
 ],
 "metadata": {
  "kernelspec": {
   "display_name": "Python 3 (ipykernel)",
   "language": "python",
   "name": "python3"
  },
  "language_info": {
   "codemirror_mode": {
    "name": "ipython",
    "version": 3
   },
   "file_extension": ".py",
   "mimetype": "text/x-python",
   "name": "python",
   "nbconvert_exporter": "python",
   "pygments_lexer": "ipython3",
   "version": "3.12.9"
  }
 },
 "nbformat": 4,
 "nbformat_minor": 5
}
