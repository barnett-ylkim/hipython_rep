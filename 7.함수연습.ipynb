{
 "cells": [
  {
   "cell_type": "markdown",
   "id": "c5a2bb26-0e5e-4a21-921d-513cfef172c0",
   "metadata": {},
   "source": [
    "# 간식박스 관리프로그램 (함수기반)"
   ]
  },
  {
   "cell_type": "code",
   "execution_count": 2,
   "id": "d8e3feda-3ba2-49de-9765-bc1174cce7e9",
   "metadata": {},
   "outputs": [],
   "source": [
    "# 함수 도출  - 기능의 세분화, 함수를 정의\n",
    "# 함수 구현\n",
    "# 문제점 - 오류처리, 예외처리 "
   ]
  },
  {
   "cell_type": "code",
   "execution_count": 16,
   "id": "36cc13b7-c103-4833-8a5e-a4f1200dc0a7",
   "metadata": {},
   "outputs": [],
   "source": [
    "#1. 간식박스 생성 create\n",
    "def make_snack_box():\n",
    "    snack_box = ['초코파이']\n",
    "    new_snack = input('먹고 싶은 간식을 추가하세요.  단, 쉼표(,)로 연결하세요').split(',')\n",
    "    snack_box += new_snack\n",
    "    return snack_box"
   ]
  },
  {
   "cell_type": "code",
   "execution_count": 17,
   "id": "0afbb730-bc5e-4412-9544-bdaccfb3a09f",
   "metadata": {},
   "outputs": [],
   "source": [
    "#2. 간식세트 포장 *2 update\n",
    "def multiply_snack_box(snack_box) :\n",
    "    qty = int(input('간식박스 몇 세트로 포장할까요? 예: 2 -> 2box'))\n",
    "    return snack_box * qty"
   ]
  },
  {
   "cell_type": "code",
   "execution_count": 18,
   "id": "a3362326-a7f8-47ae-8545-17d9bd053d15",
   "metadata": {},
   "outputs": [],
   "source": [
    "#6. 간식박스 전체보기 read\n",
    "def display_snack_box(snack_box):\n",
    "    print(f'{snack_box[::-1]}, 총 {len(snack_box)}개 입니다.')"
   ]
  },
  {
   "cell_type": "code",
   "execution_count": 19,
   "id": "7d8edc8a-f08a-49a3-921d-7c3abfd8cbce",
   "metadata": {},
   "outputs": [],
   "source": [
    "#3. 간식박스 미리보기(3개만) read - signature\n",
    "def preview_snack_box(snack_box):\n",
    "    preview = ','.join(snack_box[:3])\n",
    "    print(f'선택하신 간식은 {preview}등 입니다.')"
   ]
  },
  {
   "cell_type": "code",
   "execution_count": 20,
   "id": "30cb1a75-d9fa-4209-9fe3-763f7eed6e3a",
   "metadata": {},
   "outputs": [],
   "source": [
    "#4. 간식삭제 delete\n",
    "def remove_snack_box(snack_box):\n",
    "    #예외처리\n",
    "    if not snack_box:\n",
    "        print('간식박스가 비어 있어요')\n",
    "        return\n",
    "        \n",
    "    display_snack_box(snack_box)\n",
    "    \n",
    "    msg = f'혹시 빼고싶은 간식이 있으면 번호를 입력하세요 (0~{len(snack_box)-1})'\n",
    "    snack_no = int(input(msg))\n",
    "    \n",
    "    #snack_no validation\n",
    "    \n",
    "    del snack_box[snack_no]\n",
    "    return snack_box"
   ]
  },
  {
   "cell_type": "code",
   "execution_count": 21,
   "id": "ca1e6698-8108-4852-8ac2-58c9d8dd2a34",
   "metadata": {},
   "outputs": [],
   "source": [
    "#5. 간식찾기 search\n",
    "def search_snack(snack_box):\n",
    "    snack_name = input('찾고 싶은 간식을 입력하세요')\n",
    "    print('있어요' if snack_name in snack_box else '없어요')"
   ]
  },
  {
   "cell_type": "code",
   "execution_count": null,
   "id": "5c471cc0-8bb1-49c6-b30a-56388ac4fa73",
   "metadata": {},
   "outputs": [],
   "source": [
    "#관리프로그램 crud처리\n",
    "#1. 간식박스 생성 create\n",
    "#2. 간식세트 포장 *2 update\n",
    "#3. 간식박스 미리보기(3개만) read\n",
    "#4. 간식삭제 delete\n",
    "#5. 간식찾기 search\n",
    "#6. 간식박스 전체보기 read"
   ]
  },
  {
   "cell_type": "code",
   "execution_count": 23,
   "id": "9fef0e17-f236-4aed-94cc-572f356e892e",
   "metadata": {},
   "outputs": [],
   "source": [
    "#7. 간식박스 요약\n",
    "def summarize_snacks(snack_box):\n",
    "    summary = {}\n",
    "    for snack in snack_box:\n",
    "        summary[snack] = summary.get(snack,0)+1\n",
    "\n",
    "    print('간식박스 정리')\n",
    "    for snack, qty in summary.items():\n",
    "        print(f'- {snack} : {qty}개')\n",
    "    "
   ]
  },
  {
   "cell_type": "code",
   "execution_count": 24,
   "id": "e0b6b4c6-fd10-4e7c-a4e8-675472b23cc9",
   "metadata": {
    "scrolled": true
   },
   "outputs": [
    {
     "name": "stdin",
     "output_type": "stream",
     "text": [
      "먹고 싶은 간식을 추가하세요.  단, 쉼표(,)로 연결하세요 빈츠, 새우깡, 홈런볼\n"
     ]
    },
    {
     "name": "stdout",
     "output_type": "stream",
     "text": [
      "간식박스가 만들어졌어요\n",
      "[' 홈런볼', ' 새우깡', '빈츠', '초코파이'], 총 4개 입니다.\n"
     ]
    },
    {
     "name": "stdin",
     "output_type": "stream",
     "text": [
      "간식박스 몇 세트로 포장할까요? 예: 2 -> 2box 3\n"
     ]
    },
    {
     "name": "stdout",
     "output_type": "stream",
     "text": [
      "간식박스 정리\n",
      "- 초코파이 : 3개\n",
      "- 빈츠 : 3개\n",
      "-  새우깡 : 3개\n",
      "-  홈런볼 : 3개\n"
     ]
    },
    {
     "ename": "KeyboardInterrupt",
     "evalue": "Interrupted by user",
     "output_type": "error",
     "traceback": [
      "\u001b[31m---------------------------------------------------------------------------\u001b[39m",
      "\u001b[31mKeyboardInterrupt\u001b[39m                         Traceback (most recent call last)",
      "\u001b[36mCell\u001b[39m\u001b[36m \u001b[39m\u001b[32mIn[24]\u001b[39m\u001b[32m, line 9\u001b[39m\n\u001b[32m      6\u001b[39m summarize_snacks(box)\n\u001b[32m      8\u001b[39m \u001b[38;5;66;03m#검색후 삭제 기능\u001b[39;00m\n\u001b[32m----> \u001b[39m\u001b[32m9\u001b[39m search_snack(box)\n\u001b[32m     10\u001b[39m remove_snack_box(box)\n\u001b[32m     12\u001b[39m display_snack_box(box)\n",
      "\u001b[36mCell\u001b[39m\u001b[36m \u001b[39m\u001b[32mIn[21]\u001b[39m\u001b[32m, line 3\u001b[39m, in \u001b[36msearch_snack\u001b[39m\u001b[34m(snack_box)\u001b[39m\n\u001b[32m      2\u001b[39m \u001b[38;5;28;01mdef\u001b[39;00m\u001b[38;5;250m \u001b[39m\u001b[34msearch_snack\u001b[39m(snack_box):\n\u001b[32m----> \u001b[39m\u001b[32m3\u001b[39m     snack_name = \u001b[38;5;28minput\u001b[39m(\u001b[33m'\u001b[39m\u001b[33m찾고 싶은 간식을 입력하세요\u001b[39m\u001b[33m'\u001b[39m)\n\u001b[32m      4\u001b[39m     \u001b[38;5;28mprint\u001b[39m(\u001b[33m'\u001b[39m\u001b[33m있어요\u001b[39m\u001b[33m'\u001b[39m \u001b[38;5;28;01mif\u001b[39;00m snack_name \u001b[38;5;129;01min\u001b[39;00m snack_box \u001b[38;5;28;01melse\u001b[39;00m \u001b[33m'\u001b[39m\u001b[33m없어요\u001b[39m\u001b[33m'\u001b[39m)\n",
      "\u001b[36mFile \u001b[39m\u001b[32m~\\miniconda3\\envs\\hipython\\Lib\\site-packages\\ipykernel\\kernelbase.py:1282\u001b[39m, in \u001b[36mKernel.raw_input\u001b[39m\u001b[34m(self, prompt)\u001b[39m\n\u001b[32m   1280\u001b[39m     msg = \u001b[33m\"\u001b[39m\u001b[33mraw_input was called, but this frontend does not support input requests.\u001b[39m\u001b[33m\"\u001b[39m\n\u001b[32m   1281\u001b[39m     \u001b[38;5;28;01mraise\u001b[39;00m StdinNotImplementedError(msg)\n\u001b[32m-> \u001b[39m\u001b[32m1282\u001b[39m \u001b[38;5;28;01mreturn\u001b[39;00m \u001b[38;5;28mself\u001b[39m._input_request(\n\u001b[32m   1283\u001b[39m     \u001b[38;5;28mstr\u001b[39m(prompt),\n\u001b[32m   1284\u001b[39m     \u001b[38;5;28mself\u001b[39m._parent_ident[\u001b[33m\"\u001b[39m\u001b[33mshell\u001b[39m\u001b[33m\"\u001b[39m],\n\u001b[32m   1285\u001b[39m     \u001b[38;5;28mself\u001b[39m.get_parent(\u001b[33m\"\u001b[39m\u001b[33mshell\u001b[39m\u001b[33m\"\u001b[39m),\n\u001b[32m   1286\u001b[39m     password=\u001b[38;5;28;01mFalse\u001b[39;00m,\n\u001b[32m   1287\u001b[39m )\n",
      "\u001b[36mFile \u001b[39m\u001b[32m~\\miniconda3\\envs\\hipython\\Lib\\site-packages\\ipykernel\\kernelbase.py:1325\u001b[39m, in \u001b[36mKernel._input_request\u001b[39m\u001b[34m(self, prompt, ident, parent, password)\u001b[39m\n\u001b[32m   1322\u001b[39m \u001b[38;5;28;01mexcept\u001b[39;00m \u001b[38;5;167;01mKeyboardInterrupt\u001b[39;00m:\n\u001b[32m   1323\u001b[39m     \u001b[38;5;66;03m# re-raise KeyboardInterrupt, to truncate traceback\u001b[39;00m\n\u001b[32m   1324\u001b[39m     msg = \u001b[33m\"\u001b[39m\u001b[33mInterrupted by user\u001b[39m\u001b[33m\"\u001b[39m\n\u001b[32m-> \u001b[39m\u001b[32m1325\u001b[39m     \u001b[38;5;28;01mraise\u001b[39;00m \u001b[38;5;167;01mKeyboardInterrupt\u001b[39;00m(msg) \u001b[38;5;28;01mfrom\u001b[39;00m\u001b[38;5;250m \u001b[39m\u001b[38;5;28;01mNone\u001b[39;00m\n\u001b[32m   1326\u001b[39m \u001b[38;5;28;01mexcept\u001b[39;00m \u001b[38;5;167;01mException\u001b[39;00m:\n\u001b[32m   1327\u001b[39m     \u001b[38;5;28mself\u001b[39m.log.warning(\u001b[33m\"\u001b[39m\u001b[33mInvalid Message:\u001b[39m\u001b[33m\"\u001b[39m, exc_info=\u001b[38;5;28;01mTrue\u001b[39;00m)\n",
      "\u001b[31mKeyboardInterrupt\u001b[39m: Interrupted by user"
     ]
    }
   ],
   "source": [
    "#서비스의 흐름 - 순차\n",
    "box = make_snack_box()\n",
    "print('간식박스가 만들어졌어요')\n",
    "display_snack_box(box)\n",
    "box = multiply_snack_box(box)\n",
    "summarize_snacks(box)\n",
    "\n",
    "#검색후 삭제 기능\n",
    "search_snack(box)\n",
    "remove_snack_box(box)\n",
    "display_snack_box(box)\n"
   ]
  },
  {
   "cell_type": "markdown",
   "id": "6769f97c-7386-4ed4-be03-362dd474336e",
   "metadata": {},
   "source": [
    "# 메뉴 형식으로 구조를 개편"
   ]
  },
  {
   "cell_type": "code",
   "execution_count": null,
   "id": "78042832-c263-42e8-b3fb-4bbae0163330",
   "metadata": {},
   "outputs": [],
   "source": [
    "# 선택, 반복"
   ]
  },
  {
   "cell_type": "code",
   "execution_count": 37,
   "id": "a8300036-0d19-470d-b30e-9f0915fba9d2",
   "metadata": {},
   "outputs": [],
   "source": [
    "# -- 공통 유틸리티 함수\n",
    "\n",
    "def get_valid_text_input(msg):\n",
    "    user_input = input('😆'+ msg).strip()\n",
    "    if not user_input :\n",
    "        print('😆 입력값을 확인하세요')\n",
    "        return None\n",
    "    return user_input\n",
    "\n",
    "#숫자검증\n",
    "def get_valid_number_input(msg, min_no=1, max_no=5):\n",
    "    #숫자체크\n",
    "    try : \n",
    "        number = int(input(msg))\n",
    "        if number < min_no :\n",
    "            print(f'{min_no}이상 숫자를 입력하세요')\n",
    "            return None\n",
    "        elif number > max_no:\n",
    "            print(f'{max_no}이하 숫자를 입력하세요')\n",
    "            return None\n",
    "        else:\n",
    "            return number\n",
    "    except ValueError:\n",
    "        print('숫자로 입력하세요.')\n",
    "        return None"
   ]
  },
  {
   "cell_type": "code",
   "execution_count": 44,
   "id": "cecc52b1-6c57-415c-96f4-983cc81d20cd",
   "metadata": {},
   "outputs": [],
   "source": [
    "#-- 기본 함수 정의\n",
    "#1. 간식박스 생성 create\n",
    "def make_snack_box():\n",
    "    snack_box = ['초코파이']\n",
    "    make_msg = '먹고 싶은 간식을 추가하세요.  단, 쉼표(,)로 연결하세요'\n",
    "    new_snack = get_valid_text_input(make_msg).split(',')\n",
    "    snack_box += [item.strip() for item in new_snack]\n",
    "    return snack_box\n",
    "    \n",
    "#2. 간식세트 포장 *2 update\n",
    "def multiply_snack_box(snack_box) :\n",
    "    mul_msg = '간식박스 몇 세트로 포장할까요? 예: 2 -> 2box'\n",
    "    qty = get_valid_number_input(mul_msg, 2, 5)\n",
    "    if qty is None:\n",
    "        qty = 1\n",
    "    return snack_box * qty\n",
    "    \n",
    "\n",
    "#6. 간식박스 전체보기 read\n",
    "def display_snack_box(snack_box):\n",
    "    print(f'{snack_box[::-1]}, 총 {len(snack_box)}개 입니다. ')\n",
    "\n",
    "#3. 간식박스 미리보기(3개만) read - signature\n",
    "def preview_snack_box(snack_box):\n",
    "    preview = ','.join(snack_box[:3])\n",
    "    print(f'선택하신 간식은 {preview}등 입니다.')\n",
    "\n",
    "#4. 간식삭제 delete\n",
    "def remove_snack_box(snack_box):\n",
    "    #예외처리\n",
    "    if not snack_box:\n",
    "        print('간식박스가 비어 있어요')\n",
    "        return\n",
    "        \n",
    "    display_snack_box(snack_box)\n",
    "\n",
    "    snack_cnt = len(snack_box)-1\n",
    "    rem_msg = f'혹시 빼고싶은 간식이 있으면 번호를 입력하세요 (0~{snack_cnt})'\n",
    "    snack_no = get_valid_number_input(rem_msg, 0, snack_cnt)\n",
    "    \n",
    "    if snack_no is not None : \n",
    "        del snack_box[snack_no]\n",
    "        print('삭제되었습니다.')\n",
    "    return snack_box\n",
    "\n",
    "#5. 간식찾기 search\n",
    "def search_snack(snack_box):\n",
    "    search_msg = '찾고 싶은 간식을 입력하세요'\n",
    "    snack_name = get_valid_text_input(search_msg)\n",
    "    print('있어요' if snack_name in snack_box else '없어요')\n",
    "\n",
    "#7. 간식박스 요약\n",
    "def summarize_snacks(snack_box):\n",
    "    summary = {}\n",
    "    for snack in snack_box:\n",
    "        summary[snack] = summary.get(snack,0)+1\n",
    "\n",
    "    print('간식박스 정리')\n",
    "    for snack, qty in summary.items():\n",
    "        print(f'- {snack} : {qty}개')\n",
    "    "
   ]
  },
  {
   "cell_type": "code",
   "execution_count": 42,
   "id": "ea7e956f-735a-489b-89e3-081ea53086c9",
   "metadata": {},
   "outputs": [],
   "source": [
    "#서비스의 흐름 - 선택과 반복\n",
    "def run_menu_program():\n",
    "    snack_box = []\n",
    "    while True:\n",
    "        print('간식박스 관리 프로그램 메뉴')\n",
    "        print('1. 간식박스 생성')\n",
    "        print('2. 세트 생성')\n",
    "        print('3. 세트 미리보기')\n",
    "        print('4. 간식 삭제')\n",
    "        print('5. 간식 검색')\n",
    "        print('6. 간식박스 요약')\n",
    "        print('7. 최종 간식박스 확인')\n",
    "\n",
    "        menu_msg = '원하는 메뉴 번호를 입력하세요 : '\n",
    "        choice = str(get_valid_number_input(menu_msg, 1, 7))\n",
    "        \n",
    "        if choice == '1':\n",
    "            snack_box = make_snack_box()\n",
    "        elif choice == '2':\n",
    "            snack_box = multiply_snack_box(snack_box)\n",
    "        elif choice == '3':\n",
    "            preview_snack_box(snack_box)\n",
    "        elif choice == '4':\n",
    "            remove_snack_box(snack_box)\n",
    "        elif choice == '5':\n",
    "            search_snack(snack_box)\n",
    "        elif choice == '6': \n",
    "            summarize_snacks(snack_box)\n",
    "        elif choice == '7':\n",
    "            display_snack_box(snack_box)\n",
    "\n"
   ]
  },
  {
   "cell_type": "code",
   "execution_count": 45,
   "id": "b9380423-ae04-4ed4-b844-806f04026693",
   "metadata": {},
   "outputs": [
    {
     "name": "stdout",
     "output_type": "stream",
     "text": [
      "간식박스 관리 프로그램 메뉴\n",
      "1. 간식박스 생성\n",
      "2. 세트 생성\n",
      "3. 세트 미리보기\n",
      "4. 간식 삭제\n",
      "5. 간식 검색\n",
      "6. 간식박스 요약\n",
      "7. 최종 간식박스 확인\n"
     ]
    },
    {
     "name": "stdin",
     "output_type": "stream",
     "text": [
      "원하는 메뉴 번호를 입력하세요 :  1\n",
      "😆먹고 싶은 간식을 추가하세요.  단, 쉼표(,)로 연결하세요 초코파이, 새우깡, 커피\n"
     ]
    },
    {
     "name": "stdout",
     "output_type": "stream",
     "text": [
      "간식박스 관리 프로그램 메뉴\n",
      "1. 간식박스 생성\n",
      "2. 세트 생성\n",
      "3. 세트 미리보기\n",
      "4. 간식 삭제\n",
      "5. 간식 검색\n",
      "6. 간식박스 요약\n",
      "7. 최종 간식박스 확인\n"
     ]
    },
    {
     "name": "stdin",
     "output_type": "stream",
     "text": [
      "원하는 메뉴 번호를 입력하세요 :  2\n",
      "간식박스 몇 세트로 포장할까요? 예: 2 -> 2box 2\n"
     ]
    },
    {
     "name": "stdout",
     "output_type": "stream",
     "text": [
      "간식박스 관리 프로그램 메뉴\n",
      "1. 간식박스 생성\n",
      "2. 세트 생성\n",
      "3. 세트 미리보기\n",
      "4. 간식 삭제\n",
      "5. 간식 검색\n",
      "6. 간식박스 요약\n",
      "7. 최종 간식박스 확인\n"
     ]
    },
    {
     "name": "stdin",
     "output_type": "stream",
     "text": [
      "원하는 메뉴 번호를 입력하세요 :  7\n"
     ]
    },
    {
     "name": "stdout",
     "output_type": "stream",
     "text": [
      "['커피', '새우깡', '초코파이', '초코파이', '커피', '새우깡', '초코파이', '초코파이'], 총 8개 입니다. \n",
      "간식박스 관리 프로그램 메뉴\n",
      "1. 간식박스 생성\n",
      "2. 세트 생성\n",
      "3. 세트 미리보기\n",
      "4. 간식 삭제\n",
      "5. 간식 검색\n",
      "6. 간식박스 요약\n",
      "7. 최종 간식박스 확인\n"
     ]
    },
    {
     "ename": "KeyboardInterrupt",
     "evalue": "Interrupted by user",
     "output_type": "error",
     "traceback": [
      "\u001b[31m---------------------------------------------------------------------------\u001b[39m",
      "\u001b[31mKeyboardInterrupt\u001b[39m                         Traceback (most recent call last)",
      "\u001b[36mCell\u001b[39m\u001b[36m \u001b[39m\u001b[32mIn[45]\u001b[39m\u001b[32m, line 2\u001b[39m\n\u001b[32m      1\u001b[39m \u001b[38;5;66;03m# 실행\u001b[39;00m\n\u001b[32m----> \u001b[39m\u001b[32m2\u001b[39m run_menu_program()\n",
      "\u001b[36mCell\u001b[39m\u001b[36m \u001b[39m\u001b[32mIn[42]\u001b[39m\u001b[32m, line 15\u001b[39m, in \u001b[36mrun_menu_program\u001b[39m\u001b[34m()\u001b[39m\n\u001b[32m     12\u001b[39m \u001b[38;5;28mprint\u001b[39m(\u001b[33m'\u001b[39m\u001b[33m7. 최종 간식박스 확인\u001b[39m\u001b[33m'\u001b[39m)\n\u001b[32m     14\u001b[39m menu_msg = \u001b[33m'\u001b[39m\u001b[33m원하는 메뉴 번호를 입력하세요 : \u001b[39m\u001b[33m'\u001b[39m\n\u001b[32m---> \u001b[39m\u001b[32m15\u001b[39m choice = \u001b[38;5;28mstr\u001b[39m(get_valid_number_input(menu_msg, \u001b[32m1\u001b[39m, \u001b[32m7\u001b[39m))\n\u001b[32m     17\u001b[39m \u001b[38;5;28;01mif\u001b[39;00m choice == \u001b[33m'\u001b[39m\u001b[33m1\u001b[39m\u001b[33m'\u001b[39m:\n\u001b[32m     18\u001b[39m     snack_box = make_snack_box()\n",
      "\u001b[36mCell\u001b[39m\u001b[36m \u001b[39m\u001b[32mIn[37]\u001b[39m\u001b[32m, line 14\u001b[39m, in \u001b[36mget_valid_number_input\u001b[39m\u001b[34m(msg, min_no, max_no)\u001b[39m\n\u001b[32m     11\u001b[39m \u001b[38;5;28;01mdef\u001b[39;00m\u001b[38;5;250m \u001b[39m\u001b[34mget_valid_number_input\u001b[39m(msg, min_no=\u001b[32m1\u001b[39m, max_no=\u001b[32m5\u001b[39m):\n\u001b[32m     12\u001b[39m     \u001b[38;5;66;03m#숫자체크\u001b[39;00m\n\u001b[32m     13\u001b[39m     \u001b[38;5;28;01mtry\u001b[39;00m : \n\u001b[32m---> \u001b[39m\u001b[32m14\u001b[39m         number = \u001b[38;5;28mint\u001b[39m(\u001b[38;5;28minput\u001b[39m(msg))\n\u001b[32m     15\u001b[39m         \u001b[38;5;28;01mif\u001b[39;00m number < min_no :\n\u001b[32m     16\u001b[39m             \u001b[38;5;28mprint\u001b[39m(\u001b[33m'\u001b[39m\u001b[38;5;132;01m{min_no}\u001b[39;00m\u001b[33m이상 숫자를 입력하세요\u001b[39m\u001b[33m'\u001b[39m)\n",
      "\u001b[36mFile \u001b[39m\u001b[32m~\\miniconda3\\envs\\hipython\\Lib\\site-packages\\ipykernel\\kernelbase.py:1282\u001b[39m, in \u001b[36mKernel.raw_input\u001b[39m\u001b[34m(self, prompt)\u001b[39m\n\u001b[32m   1280\u001b[39m     msg = \u001b[33m\"\u001b[39m\u001b[33mraw_input was called, but this frontend does not support input requests.\u001b[39m\u001b[33m\"\u001b[39m\n\u001b[32m   1281\u001b[39m     \u001b[38;5;28;01mraise\u001b[39;00m StdinNotImplementedError(msg)\n\u001b[32m-> \u001b[39m\u001b[32m1282\u001b[39m \u001b[38;5;28;01mreturn\u001b[39;00m \u001b[38;5;28mself\u001b[39m._input_request(\n\u001b[32m   1283\u001b[39m     \u001b[38;5;28mstr\u001b[39m(prompt),\n\u001b[32m   1284\u001b[39m     \u001b[38;5;28mself\u001b[39m._parent_ident[\u001b[33m\"\u001b[39m\u001b[33mshell\u001b[39m\u001b[33m\"\u001b[39m],\n\u001b[32m   1285\u001b[39m     \u001b[38;5;28mself\u001b[39m.get_parent(\u001b[33m\"\u001b[39m\u001b[33mshell\u001b[39m\u001b[33m\"\u001b[39m),\n\u001b[32m   1286\u001b[39m     password=\u001b[38;5;28;01mFalse\u001b[39;00m,\n\u001b[32m   1287\u001b[39m )\n",
      "\u001b[36mFile \u001b[39m\u001b[32m~\\miniconda3\\envs\\hipython\\Lib\\site-packages\\ipykernel\\kernelbase.py:1325\u001b[39m, in \u001b[36mKernel._input_request\u001b[39m\u001b[34m(self, prompt, ident, parent, password)\u001b[39m\n\u001b[32m   1322\u001b[39m \u001b[38;5;28;01mexcept\u001b[39;00m \u001b[38;5;167;01mKeyboardInterrupt\u001b[39;00m:\n\u001b[32m   1323\u001b[39m     \u001b[38;5;66;03m# re-raise KeyboardInterrupt, to truncate traceback\u001b[39;00m\n\u001b[32m   1324\u001b[39m     msg = \u001b[33m\"\u001b[39m\u001b[33mInterrupted by user\u001b[39m\u001b[33m\"\u001b[39m\n\u001b[32m-> \u001b[39m\u001b[32m1325\u001b[39m     \u001b[38;5;28;01mraise\u001b[39;00m \u001b[38;5;167;01mKeyboardInterrupt\u001b[39;00m(msg) \u001b[38;5;28;01mfrom\u001b[39;00m\u001b[38;5;250m \u001b[39m\u001b[38;5;28;01mNone\u001b[39;00m\n\u001b[32m   1326\u001b[39m \u001b[38;5;28;01mexcept\u001b[39;00m \u001b[38;5;167;01mException\u001b[39;00m:\n\u001b[32m   1327\u001b[39m     \u001b[38;5;28mself\u001b[39m.log.warning(\u001b[33m\"\u001b[39m\u001b[33mInvalid Message:\u001b[39m\u001b[33m\"\u001b[39m, exc_info=\u001b[38;5;28;01mTrue\u001b[39;00m)\n",
      "\u001b[31mKeyboardInterrupt\u001b[39m: Interrupted by user"
     ]
    }
   ],
   "source": [
    "# 실행\n",
    "run_menu_program()"
   ]
  },
  {
   "cell_type": "code",
   "execution_count": null,
   "id": "f8d45fa6-c78d-481f-b590-8d3e51e317ca",
   "metadata": {},
   "outputs": [],
   "source": []
  }
 ],
 "metadata": {
  "kernelspec": {
   "display_name": "Python 3 (ipykernel)",
   "language": "python",
   "name": "python3"
  },
  "language_info": {
   "codemirror_mode": {
    "name": "ipython",
    "version": 3
   },
   "file_extension": ".py",
   "mimetype": "text/x-python",
   "name": "python",
   "nbconvert_exporter": "python",
   "pygments_lexer": "ipython3",
   "version": "3.12.9"
  }
 },
 "nbformat": 4,
 "nbformat_minor": 5
}
