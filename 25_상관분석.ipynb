{
 "cells": [
  {
   "cell_type": "code",
   "execution_count": 4,
   "id": "1179d208",
   "metadata": {},
   "outputs": [
    {
     "data": {
      "text/html": [
       "<div>\n",
       "<style scoped>\n",
       "    .dataframe tbody tr th:only-of-type {\n",
       "        vertical-align: middle;\n",
       "    }\n",
       "\n",
       "    .dataframe tbody tr th {\n",
       "        vertical-align: top;\n",
       "    }\n",
       "\n",
       "    .dataframe thead th {\n",
       "        text-align: right;\n",
       "    }\n",
       "</style>\n",
       "<table border=\"1\" class=\"dataframe\">\n",
       "  <thead>\n",
       "    <tr style=\"text-align: right;\">\n",
       "      <th></th>\n",
       "      <th>날짜</th>\n",
       "      <th>스트레스</th>\n",
       "      <th>집값</th>\n",
       "    </tr>\n",
       "  </thead>\n",
       "  <tbody>\n",
       "    <tr>\n",
       "      <th>0</th>\n",
       "      <td>2016-07-14</td>\n",
       "      <td>13.00448</td>\n",
       "      <td>6.90582</td>\n",
       "    </tr>\n",
       "    <tr>\n",
       "      <th>1</th>\n",
       "      <td>2016-07-15</td>\n",
       "      <td>11.21076</td>\n",
       "      <td>5.56053</td>\n",
       "    </tr>\n",
       "    <tr>\n",
       "      <th>2</th>\n",
       "      <td>2016-07-16</td>\n",
       "      <td>11.21076</td>\n",
       "      <td>3.67713</td>\n",
       "    </tr>\n",
       "    <tr>\n",
       "      <th>3</th>\n",
       "      <td>2016-07-17</td>\n",
       "      <td>9.77578</td>\n",
       "      <td>4.21524</td>\n",
       "    </tr>\n",
       "    <tr>\n",
       "      <th>4</th>\n",
       "      <td>2016-07-18</td>\n",
       "      <td>13.81165</td>\n",
       "      <td>6.54708</td>\n",
       "    </tr>\n",
       "  </tbody>\n",
       "</table>\n",
       "</div>"
      ],
      "text/plain": [
       "           날짜      스트레스       집값\n",
       "0  2016-07-14  13.00448  6.90582\n",
       "1  2016-07-15  11.21076  5.56053\n",
       "2  2016-07-16  11.21076  3.67713\n",
       "3  2016-07-17   9.77578  4.21524\n",
       "4  2016-07-18  13.81165  6.54708"
      ]
     },
     "execution_count": 4,
     "metadata": {},
     "output_type": "execute_result"
    }
   ],
   "source": [
    "import pandas as pd\n",
    "data_df = pd.read_csv('datalab.csv')\n",
    "data_df.head()"
   ]
  },
  {
   "cell_type": "code",
   "execution_count": 8,
   "id": "b461caf2",
   "metadata": {},
   "outputs": [
    {
     "data": {
      "text/html": [
       "<div>\n",
       "<style scoped>\n",
       "    .dataframe tbody tr th:only-of-type {\n",
       "        vertical-align: middle;\n",
       "    }\n",
       "\n",
       "    .dataframe tbody tr th {\n",
       "        vertical-align: top;\n",
       "    }\n",
       "\n",
       "    .dataframe thead th {\n",
       "        text-align: right;\n",
       "    }\n",
       "</style>\n",
       "<table border=\"1\" class=\"dataframe\">\n",
       "  <thead>\n",
       "    <tr style=\"text-align: right;\">\n",
       "      <th></th>\n",
       "      <th>스트레스</th>\n",
       "      <th>집값</th>\n",
       "    </tr>\n",
       "  </thead>\n",
       "  <tbody>\n",
       "    <tr>\n",
       "      <th>스트레스</th>\n",
       "      <td>1.000000</td>\n",
       "      <td>0.255177</td>\n",
       "    </tr>\n",
       "    <tr>\n",
       "      <th>집값</th>\n",
       "      <td>0.255177</td>\n",
       "      <td>1.000000</td>\n",
       "    </tr>\n",
       "  </tbody>\n",
       "</table>\n",
       "</div>"
      ],
      "text/plain": [
       "          스트레스        집값\n",
       "스트레스  1.000000  0.255177\n",
       "집값    0.255177  1.000000"
      ]
     },
     "execution_count": 8,
     "metadata": {},
     "output_type": "execute_result"
    }
   ],
   "source": [
    "corr_df = data_df[['스트레스', '집값']]\n",
    "corr_df.corr()"
   ]
  },
  {
   "cell_type": "code",
   "execution_count": 13,
   "id": "fb54940a",
   "metadata": {},
   "outputs": [
    {
     "data": {
      "image/png": "[encoded data removed]",
      "text/plain": [
       "<Figure size 640x480 with 1 Axes>"
      ]
     },
     "metadata": {},
     "output_type": "display_data"
    }
   ],
   "source": [
    "import matplotlib.pyplot as plt\n",
    "plt.scatter(corr_df['스트레스'], corr_df['집값'] )\n",
    "plt.show()"
   ]
  },
  {
   "cell_type": "code",
   "execution_count": 14,
   "id": "22e13640",
   "metadata": {},
   "outputs": [
    {
     "name": "stdout",
     "output_type": "stream",
     "text": [
      "상관계수: 0.2551773305434231, p-value: 4.90010315964376e-50\n"
     ]
    }
   ],
   "source": [
    "from scipy.stats import pearsonr\n",
    "corr, p_value = pearsonr(corr_df['스트레스'], corr_df['집값'])\n",
    "print(f\"상관계수: {corr}, p-value: {p_value}\")"
   ]
  },
  {
   "cell_type": "code",
   "execution_count": 15,
   "id": "a23e049c",
   "metadata": {},
   "outputs": [
    {
     "name": "stdout",
     "output_type": "stream",
     "text": [
      "상관계수: 0.25148552986502715, p-value: 4.90010315964376e-50\n"
     ]
    }
   ],
   "source": [
    "from scipy.stats import spearmanr\n",
    "spearman_corr, spearman_p_value = spearmanr(corr_df['스트레스'],corr_df['집값'])\n",
    "print(f\"상관계수: {spearman_corr}, p-value: {p_value}\")"
   ]
  },
  {
   "cell_type": "code",
   "execution_count": 16,
   "id": "377d672d",
   "metadata": {},
   "outputs": [
    {
     "name": "stdout",
     "output_type": "stream",
     "text": [
      "켄달 상관계수: 0.17191887569674977, p-value: 6.742352935662918e-49\n"
     ]
    }
   ],
   "source": [
    "from scipy.stats import kendalltau\n",
    "kendall_corr, kendall_p_value = kendalltau(corr_df['스트레스'], corr_df['집값'])\n",
    "print(f\"켄달 상관계수: {kendall_corr}, p-value: {kendall_p_value}\")"
   ]
  },
  {
   "cell_type": "code",
   "execution_count": 17,
   "id": "2dad8a7a",
   "metadata": {},
   "outputs": [
    {
     "name": "stdout",
     "output_type": "stream",
     "text": [
      "피어슨 상관계수: 0.99\n",
      "p-값: 0.0006\n"
     ]
    }
   ],
   "source": [
    "import pandas as pd\n",
    "from scipy.stats import pearsonr\n",
    "\n",
    "# 예시 데이터\n",
    "data = {\n",
    "    'height': [160, 165, 170, 175, 180],\n",
    "    'weight': [50, 55, 65, 70, 80]\n",
    "}\n",
    "df = pd.DataFrame(data)\n",
    "\n",
    "# 피어슨 상관계수 계산\n",
    "corr, p_value = pearsonr(df['height'], df['weight'])\n",
    "\n",
    "print(f\"피어슨 상관계수: {corr:.2f}\")\n",
    "print(f\"p-값: {p_value:.4f}\")\n"
   ]
  },
  {
   "cell_type": "code",
   "execution_count": 21,
   "id": "f3c091ca",
   "metadata": {},
   "outputs": [
    {
     "name": "stdout",
     "output_type": "stream",
     "text": [
      "스피어만 상관계수: 0.300\n",
      "p-value: 0.6238\n"
     ]
    }
   ],
   "source": [
    "import pandas as pd\n",
    "from scipy.stats import spearmanr\n",
    "\n",
    "# 데이터프레임 구성\n",
    "data = {\n",
    "    'student': ['A', 'B', 'C', 'D', 'E'],\n",
    "    'academic_rank': [1, 2, 3, 4, 5],\n",
    "    'sports_rank': [4, 2, 1, 3, 5]\n",
    "    #'sports_rank': [4, 2, 3, 1, 5]\n",
    "    #'sports_rank': [1, 2, 4, 3, 5]\n",
    "}\n",
    "df = pd.DataFrame(data)\n",
    "\n",
    "# 스피어만 상관계수 계산\n",
    "rho, pval = spearmanr(df['academic_rank'], df['sports_rank'])\n",
    "\n",
    "print(f\"스피어만 상관계수: {rho:.3f}\")\n",
    "print(f\"p-value: {pval:.4f}\")\n"
   ]
  },
  {
   "cell_type": "markdown",
   "id": "afb15038",
   "metadata": {},
   "source": [
    "스피어만 상관계수: 0.300\n",
    "p-value: 0.6238"
   ]
  },
  {
   "cell_type": "markdown",
   "id": "b0448585",
   "metadata": {},
   "source": [
    "스피어만 상관계수: 0.900\n",
    "p-value: 0.0374"
   ]
  },
  {
   "cell_type": "code",
   "execution_count": 22,
   "id": "dff001cd",
   "metadata": {},
   "outputs": [
    {
     "name": "stdout",
     "output_type": "stream",
     "text": [
      "상관계수 (Weight_rank_1): 0.20\n",
      "상관계수 (Weight_rank_2): 1.00\n",
      "상관계수 (Weight_rank_3): -1.00\n"
     ]
    }
   ],
   "source": [
    "import pandas as pd\n",
    "from scipy.stats import kendalltau\n",
    "\n",
    "# 사람 A~E의 키와 몸무게 순위\n",
    "data = {\n",
    "    'Person': ['A', 'B', 'C', 'D', 'E'],\n",
    "    'Height_rank': [1, 2, 3, 4, 5],     # 키 순위\n",
    "    'Weight_rank_1': [3, 4, 1, 2, 5],   # τ = 0.2\n",
    "    'Weight_rank_2': [1, 2, 3, 4, 5],   # τ = 1\n",
    "    'Weight_rank_3': [5, 4, 3, 2, 1]    # τ = -1\n",
    "}\n",
    "\n",
    "df = pd.DataFrame(data)\n",
    "\n",
    "# 계수 계산\n",
    "tau1, _ = kendalltau(df['Height_rank'], df['Weight_rank_1'])\n",
    "tau2, _ = kendalltau(df['Height_rank'], df['Weight_rank_2'])\n",
    "tau3, _ = kendalltau(df['Height_rank'], df['Weight_rank_3'])\n",
    "\n",
    "print(f\"상관계수 (Weight_rank_1): {tau1:.2f}\")\n",
    "print(f\"상관계수 (Weight_rank_2): {tau2:.2f}\")\n",
    "print(f\"상관계수 (Weight_rank_3): {tau3:.2f}\")\n"
   ]
  }
 ],
 "metadata": {
  "kernelspec": {
   "display_name": "hi_ml_env",
   "language": "python",
   "name": "python3"
  },
  "language_info": {
   "codemirror_mode": {
    "name": "ipython",
    "version": 3
   },
   "file_extension": ".py",
   "mimetype": "text/x-python",
   "name": "python",
   "nbconvert_exporter": "python",
   "pygments_lexer": "ipython3",
   "version": "3.10.16"
  }
 },
 "nbformat": 4,
 "nbformat_minor": 5
}
