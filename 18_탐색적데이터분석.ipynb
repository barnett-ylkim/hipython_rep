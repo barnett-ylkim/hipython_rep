{
 "cells": [
  {
   "cell_type": "markdown",
   "id": "0f10ade9",
   "metadata": {},
   "source": [
    "**1. 1차원데이터분석**\n",
    "\n",
    "1.** **변수종류파악( 수치형/ 범주형/ 시간형)**\n",
    "\n",
    "2.** **변수종류별분석지표( 수치형/ 범주형/ 시간형)**\n",
    "\n",
    "3.** **시각화**\n",
    "\n",
    "- **도수분포표/ 히스토그램/ 상자그림**\n",
    "\n",
    "**2. 2차원데이터분석**\n",
    "\n",
    "1.** **공분산/ 상관계수**\n",
    "\n",
    "2.** **다중공선성확인**\n",
    "\n",
    "3.** **시각화**\n",
    "\n",
    "- **산점도/ 회귀직선/ 히트맵**"
   ]
  },
  {
   "cell_type": "markdown",
   "id": "efd7a094",
   "metadata": {},
   "source": [
    "# 항공사 지연요인 데이터 탐색적 분석"
   ]
  },
  {
   "cell_type": "markdown",
   "id": "f0e101ae",
   "metadata": {},
   "source": [
    "출처 : https://www.kaggle.com/datasets/pitterman/airline-stats\n",
    "\n",
    "- airline : 항공사\n",
    "- carrier_deay : 항공사 지연 요인\n",
    "- atc_delay : ATC 항공교통관제 지연 요인\n",
    "- weather_delay : 날씨로 인한 지연 요인"
   ]
  },
  {
   "cell_type": "code",
   "execution_count": 1,
   "id": "875516b8",
   "metadata": {},
   "outputs": [],
   "source": [
    "import pandas as pd"
   ]
  },
  {
   "cell_type": "markdown",
   "id": "f9b1ce57",
   "metadata": {},
   "source": [
    "# 1. 변수 탐색\n",
    "\n",
    "- 수치형/범주형변수"
   ]
  },
  {
   "cell_type": "code",
   "execution_count": 2,
   "id": "f89903cc",
   "metadata": {},
   "outputs": [
    {
     "name": "stdout",
     "output_type": "stream",
     "text": [
      "<class 'pandas.core.frame.DataFrame'>\n",
      "RangeIndex: 33468 entries, 0 to 33467\n",
      "Data columns (total 4 columns):\n",
      " #   Column             Non-Null Count  Dtype  \n",
      "---  ------             --------------  -----  \n",
      " 0   pct_carrier_delay  33440 non-null  float64\n",
      " 1   pct_atc_delay      33440 non-null  float64\n",
      " 2   pct_weather_delay  33440 non-null  float64\n",
      " 3   airline            33468 non-null  object \n",
      "dtypes: float64(3), object(1)\n",
      "memory usage: 1.0+ MB\n"
     ]
    }
   ],
   "source": [
    "df = pd.read_csv(\"./data/airline_stats.csv\")\n",
    "df.info()"
   ]
  },
  {
   "cell_type": "markdown",
   "id": "d9a9b701",
   "metadata": {},
   "source": [
    "범주형 변수 : airline\n",
    "수치형 변수 : pct_carrier_delay,\tpct_atc_delay,\tpct_weather_delay"
   ]
  },
  {
   "cell_type": "code",
   "execution_count": 4,
   "id": "7a2f4fe3",
   "metadata": {},
   "outputs": [
    {
     "data": {
      "text/html": [
       "<div>\n",
       "<style scoped>\n",
       "    .dataframe tbody tr th:only-of-type {\n",
       "        vertical-align: middle;\n",
       "    }\n",
       "\n",
       "    .dataframe tbody tr th {\n",
       "        vertical-align: top;\n",
       "    }\n",
       "\n",
       "    .dataframe thead th {\n",
       "        text-align: right;\n",
       "    }\n",
       "</style>\n",
       "<table border=\"1\" class=\"dataframe\">\n",
       "  <thead>\n",
       "    <tr style=\"text-align: right;\">\n",
       "      <th></th>\n",
       "      <th>pct_carrier_delay</th>\n",
       "      <th>pct_atc_delay</th>\n",
       "      <th>pct_weather_delay</th>\n",
       "    </tr>\n",
       "  </thead>\n",
       "  <tbody>\n",
       "    <tr>\n",
       "      <th>0</th>\n",
       "      <td>8.153226</td>\n",
       "      <td>1.971774</td>\n",
       "      <td>0.762097</td>\n",
       "    </tr>\n",
       "    <tr>\n",
       "      <th>1</th>\n",
       "      <td>5.959924</td>\n",
       "      <td>3.706107</td>\n",
       "      <td>1.585878</td>\n",
       "    </tr>\n",
       "    <tr>\n",
       "      <th>2</th>\n",
       "      <td>7.157270</td>\n",
       "      <td>2.706231</td>\n",
       "      <td>2.026706</td>\n",
       "    </tr>\n",
       "    <tr>\n",
       "      <th>3</th>\n",
       "      <td>12.100000</td>\n",
       "      <td>11.033333</td>\n",
       "      <td>0.000000</td>\n",
       "    </tr>\n",
       "    <tr>\n",
       "      <th>4</th>\n",
       "      <td>7.333333</td>\n",
       "      <td>3.365591</td>\n",
       "      <td>1.774194</td>\n",
       "    </tr>\n",
       "  </tbody>\n",
       "</table>\n",
       "</div>"
      ],
      "text/plain": [
       "   pct_carrier_delay  pct_atc_delay  pct_weather_delay\n",
       "0           8.153226       1.971774           0.762097\n",
       "1           5.959924       3.706107           1.585878\n",
       "2           7.157270       2.706231           2.026706\n",
       "3          12.100000      11.033333           0.000000\n",
       "4           7.333333       3.365591           1.774194"
      ]
     },
     "execution_count": 4,
     "metadata": {},
     "output_type": "execute_result"
    }
   ],
   "source": [
    "df.select_dtypes(include='number').head()"
   ]
  },
  {
   "cell_type": "code",
   "execution_count": 5,
   "id": "9a441acb",
   "metadata": {},
   "outputs": [
    {
     "data": {
      "text/html": [
       "<div>\n",
       "<style scoped>\n",
       "    .dataframe tbody tr th:only-of-type {\n",
       "        vertical-align: middle;\n",
       "    }\n",
       "\n",
       "    .dataframe tbody tr th {\n",
       "        vertical-align: top;\n",
       "    }\n",
       "\n",
       "    .dataframe thead th {\n",
       "        text-align: right;\n",
       "    }\n",
       "</style>\n",
       "<table border=\"1\" class=\"dataframe\">\n",
       "  <thead>\n",
       "    <tr style=\"text-align: right;\">\n",
       "      <th></th>\n",
       "      <th>pct_carrier_delay</th>\n",
       "      <th>pct_atc_delay</th>\n",
       "      <th>pct_weather_delay</th>\n",
       "    </tr>\n",
       "  </thead>\n",
       "  <tbody>\n",
       "    <tr>\n",
       "      <th>count</th>\n",
       "      <td>33440.000000</td>\n",
       "      <td>33440.000000</td>\n",
       "      <td>33440.000000</td>\n",
       "    </tr>\n",
       "    <tr>\n",
       "      <th>mean</th>\n",
       "      <td>7.041475</td>\n",
       "      <td>5.089962</td>\n",
       "      <td>0.684776</td>\n",
       "    </tr>\n",
       "    <tr>\n",
       "      <th>std</th>\n",
       "      <td>4.497596</td>\n",
       "      <td>4.718647</td>\n",
       "      <td>1.073743</td>\n",
       "    </tr>\n",
       "    <tr>\n",
       "      <th>min</th>\n",
       "      <td>0.000000</td>\n",
       "      <td>0.000000</td>\n",
       "      <td>0.000000</td>\n",
       "    </tr>\n",
       "    <tr>\n",
       "      <th>25%</th>\n",
       "      <td>4.145455</td>\n",
       "      <td>2.146565</td>\n",
       "      <td>0.000000</td>\n",
       "    </tr>\n",
       "    <tr>\n",
       "      <th>50%</th>\n",
       "      <td>6.356893</td>\n",
       "      <td>3.900000</td>\n",
       "      <td>0.316002</td>\n",
       "    </tr>\n",
       "    <tr>\n",
       "      <th>75%</th>\n",
       "      <td>9.140474</td>\n",
       "      <td>6.630238</td>\n",
       "      <td>0.935161</td>\n",
       "    </tr>\n",
       "    <tr>\n",
       "      <th>max</th>\n",
       "      <td>100.000000</td>\n",
       "      <td>100.000000</td>\n",
       "      <td>33.333333</td>\n",
       "    </tr>\n",
       "  </tbody>\n",
       "</table>\n",
       "</div>"
      ],
      "text/plain": [
       "       pct_carrier_delay  pct_atc_delay  pct_weather_delay\n",
       "count       33440.000000   33440.000000       33440.000000\n",
       "mean            7.041475       5.089962           0.684776\n",
       "std             4.497596       4.718647           1.073743\n",
       "min             0.000000       0.000000           0.000000\n",
       "25%             4.145455       2.146565           0.000000\n",
       "50%             6.356893       3.900000           0.316002\n",
       "75%             9.140474       6.630238           0.935161\n",
       "max           100.000000     100.000000          33.333333"
      ]
     },
     "execution_count": 5,
     "metadata": {},
     "output_type": "execute_result"
    }
   ],
   "source": [
    "#수치형변수의 최대/최소/대표값\n",
    "df.describe()"
   ]
  },
  {
   "cell_type": "code",
   "execution_count": 6,
   "id": "870938b1",
   "metadata": {},
   "outputs": [
    {
     "data": {
      "text/plain": [
       "airline\n",
       "Delta        9107\n",
       "American     5725\n",
       "Southwest    5584\n",
       "United       5426\n",
       "Alaska       3851\n",
       "Jet Blue     3775\n",
       "Name: count, dtype: int64"
      ]
     },
     "execution_count": 6,
     "metadata": {},
     "output_type": "execute_result"
    }
   ],
   "source": [
    "#범주형 변수의 값목록\n",
    "df['airline'].value_counts()"
   ]
  },
  {
   "cell_type": "markdown",
   "id": "7ecef3e8",
   "metadata": {},
   "source": [
    "총 6개 항공사의 데이터를 포함하고 있다.\n",
    "\n",
    "그중 Delta 가 9107건으로 가장 많고, American, Southwest , United 항공사가 5천건 수준이다."
   ]
  },
  {
   "cell_type": "code",
   "execution_count": 9,
   "id": "8d9a2be9",
   "metadata": {},
   "outputs": [
    {
     "data": {
      "text/html": [
       "<div>\n",
       "<style scoped>\n",
       "    .dataframe tbody tr th:only-of-type {\n",
       "        vertical-align: middle;\n",
       "    }\n",
       "\n",
       "    .dataframe tbody tr th {\n",
       "        vertical-align: top;\n",
       "    }\n",
       "\n",
       "    .dataframe thead th {\n",
       "        text-align: right;\n",
       "    }\n",
       "</style>\n",
       "<table border=\"1\" class=\"dataframe\">\n",
       "  <thead>\n",
       "    <tr style=\"text-align: right;\">\n",
       "      <th>airline</th>\n",
       "      <th>Alaska</th>\n",
       "      <th>American</th>\n",
       "      <th>Delta</th>\n",
       "      <th>Jet Blue</th>\n",
       "      <th>Southwest</th>\n",
       "      <th>United</th>\n",
       "    </tr>\n",
       "  </thead>\n",
       "  <tbody>\n",
       "    <tr>\n",
       "      <th>count</th>\n",
       "      <td>3851.000000</td>\n",
       "      <td>5723.000000</td>\n",
       "      <td>9095.000000</td>\n",
       "      <td>3773.000000</td>\n",
       "      <td>5584.000000</td>\n",
       "      <td>5414.000000</td>\n",
       "    </tr>\n",
       "    <tr>\n",
       "      <th>mean</th>\n",
       "      <td>3.521889</td>\n",
       "      <td>9.042180</td>\n",
       "      <td>6.333460</td>\n",
       "      <td>8.081843</td>\n",
       "      <td>7.521997</td>\n",
       "      <td>7.398833</td>\n",
       "    </tr>\n",
       "    <tr>\n",
       "      <th>std</th>\n",
       "      <td>2.483224</td>\n",
       "      <td>4.139067</td>\n",
       "      <td>4.695292</td>\n",
       "      <td>3.797737</td>\n",
       "      <td>3.345085</td>\n",
       "      <td>5.369283</td>\n",
       "    </tr>\n",
       "    <tr>\n",
       "      <th>min</th>\n",
       "      <td>0.000000</td>\n",
       "      <td>0.000000</td>\n",
       "      <td>0.000000</td>\n",
       "      <td>0.000000</td>\n",
       "      <td>0.000000</td>\n",
       "      <td>0.000000</td>\n",
       "    </tr>\n",
       "    <tr>\n",
       "      <th>25%</th>\n",
       "      <td>1.935484</td>\n",
       "      <td>6.338538</td>\n",
       "      <td>3.813989</td>\n",
       "      <td>5.341176</td>\n",
       "      <td>5.070294</td>\n",
       "      <td>4.034708</td>\n",
       "    </tr>\n",
       "    <tr>\n",
       "      <th>50%</th>\n",
       "      <td>3.225806</td>\n",
       "      <td>8.428571</td>\n",
       "      <td>5.548387</td>\n",
       "      <td>7.657895</td>\n",
       "      <td>6.960930</td>\n",
       "      <td>6.445210</td>\n",
       "    </tr>\n",
       "    <tr>\n",
       "      <th>75%</th>\n",
       "      <td>4.685599</td>\n",
       "      <td>10.988763</td>\n",
       "      <td>7.821952</td>\n",
       "      <td>10.280000</td>\n",
       "      <td>9.354839</td>\n",
       "      <td>9.633110</td>\n",
       "    </tr>\n",
       "    <tr>\n",
       "      <th>max</th>\n",
       "      <td>22.290323</td>\n",
       "      <td>50.000000</td>\n",
       "      <td>100.000000</td>\n",
       "      <td>28.000000</td>\n",
       "      <td>24.800000</td>\n",
       "      <td>100.000000</td>\n",
       "    </tr>\n",
       "  </tbody>\n",
       "</table>\n",
       "</div>"
      ],
      "text/plain": [
       "airline       Alaska     American        Delta     Jet Blue    Southwest  \\\n",
       "count    3851.000000  5723.000000  9095.000000  3773.000000  5584.000000   \n",
       "mean        3.521889     9.042180     6.333460     8.081843     7.521997   \n",
       "std         2.483224     4.139067     4.695292     3.797737     3.345085   \n",
       "min         0.000000     0.000000     0.000000     0.000000     0.000000   \n",
       "25%         1.935484     6.338538     3.813989     5.341176     5.070294   \n",
       "50%         3.225806     8.428571     5.548387     7.657895     6.960930   \n",
       "75%         4.685599    10.988763     7.821952    10.280000     9.354839   \n",
       "max        22.290323    50.000000   100.000000    28.000000    24.800000   \n",
       "\n",
       "airline       United  \n",
       "count    5414.000000  \n",
       "mean        7.398833  \n",
       "std         5.369283  \n",
       "min         0.000000  \n",
       "25%         4.034708  \n",
       "50%         6.445210  \n",
       "75%         9.633110  \n",
       "max       100.000000  "
      ]
     },
     "execution_count": 9,
     "metadata": {},
     "output_type": "execute_result"
    }
   ],
   "source": [
    "#항공사별 기술통계 비교\n",
    "df.groupby('airline')['pct_carrier_delay'].describe().T"
   ]
  },
  {
   "cell_type": "markdown",
   "id": "ff4f417c",
   "metadata": {},
   "source": [
    "항공사요인의 경우, \n",
    "\n",
    "American 이 평균 9.04%, Jeb Blue 8.08% 순이다.<br>\n",
    "표준편차가 가장 큰 항공사는 United 로 5.36이다. Delta(4.69) → 고객 경험 일관성에 불리."
   ]
  },
  {
   "cell_type": "code",
   "execution_count": 11,
   "id": "a6e30a6d",
   "metadata": {},
   "outputs": [
    {
     "data": {
      "text/html": [
       "<div>\n",
       "<style scoped>\n",
       "    .dataframe tbody tr th:only-of-type {\n",
       "        vertical-align: middle;\n",
       "    }\n",
       "\n",
       "    .dataframe tbody tr th {\n",
       "        vertical-align: top;\n",
       "    }\n",
       "\n",
       "    .dataframe thead th {\n",
       "        text-align: right;\n",
       "    }\n",
       "</style>\n",
       "<table border=\"1\" class=\"dataframe\">\n",
       "  <thead>\n",
       "    <tr style=\"text-align: right;\">\n",
       "      <th>airline</th>\n",
       "      <th>Alaska</th>\n",
       "      <th>American</th>\n",
       "      <th>Delta</th>\n",
       "      <th>Jet Blue</th>\n",
       "      <th>Southwest</th>\n",
       "      <th>United</th>\n",
       "    </tr>\n",
       "  </thead>\n",
       "  <tbody>\n",
       "    <tr>\n",
       "      <th>count</th>\n",
       "      <td>3851.000000</td>\n",
       "      <td>5723.000000</td>\n",
       "      <td>9095.000000</td>\n",
       "      <td>3773.000000</td>\n",
       "      <td>5584.000000</td>\n",
       "      <td>5414.000000</td>\n",
       "    </tr>\n",
       "    <tr>\n",
       "      <th>mean</th>\n",
       "      <td>5.472672</td>\n",
       "      <td>5.993529</td>\n",
       "      <td>4.462978</td>\n",
       "      <td>7.345231</td>\n",
       "      <td>3.147019</td>\n",
       "      <td>5.348133</td>\n",
       "    </tr>\n",
       "    <tr>\n",
       "      <th>std</th>\n",
       "      <td>5.699303</td>\n",
       "      <td>4.647170</td>\n",
       "      <td>4.364335</td>\n",
       "      <td>5.227372</td>\n",
       "      <td>2.513162</td>\n",
       "      <td>4.992464</td>\n",
       "    </tr>\n",
       "    <tr>\n",
       "      <th>min</th>\n",
       "      <td>0.000000</td>\n",
       "      <td>0.000000</td>\n",
       "      <td>0.000000</td>\n",
       "      <td>0.000000</td>\n",
       "      <td>0.000000</td>\n",
       "      <td>0.000000</td>\n",
       "    </tr>\n",
       "    <tr>\n",
       "      <th>25%</th>\n",
       "      <td>1.878614</td>\n",
       "      <td>3.108403</td>\n",
       "      <td>1.818182</td>\n",
       "      <td>3.784314</td>\n",
       "      <td>1.612527</td>\n",
       "      <td>2.431308</td>\n",
       "    </tr>\n",
       "    <tr>\n",
       "      <th>50%</th>\n",
       "      <td>3.776860</td>\n",
       "      <td>4.986523</td>\n",
       "      <td>3.508108</td>\n",
       "      <td>6.136905</td>\n",
       "      <td>2.559242</td>\n",
       "      <td>4.353647</td>\n",
       "    </tr>\n",
       "    <tr>\n",
       "      <th>75%</th>\n",
       "      <td>7.001330</td>\n",
       "      <td>7.594450</td>\n",
       "      <td>5.839901</td>\n",
       "      <td>9.612903</td>\n",
       "      <td>3.790421</td>\n",
       "      <td>7.030109</td>\n",
       "    </tr>\n",
       "    <tr>\n",
       "      <th>max</th>\n",
       "      <td>54.838710</td>\n",
       "      <td>60.000000</td>\n",
       "      <td>100.000000</td>\n",
       "      <td>40.986111</td>\n",
       "      <td>21.542722</td>\n",
       "      <td>100.000000</td>\n",
       "    </tr>\n",
       "  </tbody>\n",
       "</table>\n",
       "</div>"
      ],
      "text/plain": [
       "airline       Alaska     American        Delta     Jet Blue    Southwest  \\\n",
       "count    3851.000000  5723.000000  9095.000000  3773.000000  5584.000000   \n",
       "mean        5.472672     5.993529     4.462978     7.345231     3.147019   \n",
       "std         5.699303     4.647170     4.364335     5.227372     2.513162   \n",
       "min         0.000000     0.000000     0.000000     0.000000     0.000000   \n",
       "25%         1.878614     3.108403     1.818182     3.784314     1.612527   \n",
       "50%         3.776860     4.986523     3.508108     6.136905     2.559242   \n",
       "75%         7.001330     7.594450     5.839901     9.612903     3.790421   \n",
       "max        54.838710    60.000000   100.000000    40.986111    21.542722   \n",
       "\n",
       "airline       United  \n",
       "count    5414.000000  \n",
       "mean        5.348133  \n",
       "std         4.992464  \n",
       "min         0.000000  \n",
       "25%         2.431308  \n",
       "50%         4.353647  \n",
       "75%         7.030109  \n",
       "max       100.000000  "
      ]
     },
     "execution_count": 11,
     "metadata": {},
     "output_type": "execute_result"
    }
   ],
   "source": [
    "df.groupby('airline')['pct_atc_delay'].describe().T"
   ]
  },
  {
   "cell_type": "markdown",
   "id": "e6f2d06d",
   "metadata": {},
   "source": [
    "atc delay (관제 요인)은 **Jet Blue(7.34%)**가 가장 높음 → 운영 노선에 ATC 병목 구간 많을 수 있음."
   ]
  },
  {
   "cell_type": "code",
   "execution_count": 12,
   "id": "2ddd4453",
   "metadata": {},
   "outputs": [
    {
     "data": {
      "text/html": [
       "<div>\n",
       "<style scoped>\n",
       "    .dataframe tbody tr th:only-of-type {\n",
       "        vertical-align: middle;\n",
       "    }\n",
       "\n",
       "    .dataframe tbody tr th {\n",
       "        vertical-align: top;\n",
       "    }\n",
       "\n",
       "    .dataframe thead th {\n",
       "        text-align: right;\n",
       "    }\n",
       "</style>\n",
       "<table border=\"1\" class=\"dataframe\">\n",
       "  <thead>\n",
       "    <tr style=\"text-align: right;\">\n",
       "      <th>airline</th>\n",
       "      <th>Alaska</th>\n",
       "      <th>American</th>\n",
       "      <th>Delta</th>\n",
       "      <th>Jet Blue</th>\n",
       "      <th>Southwest</th>\n",
       "      <th>United</th>\n",
       "    </tr>\n",
       "  </thead>\n",
       "  <tbody>\n",
       "    <tr>\n",
       "      <th>count</th>\n",
       "      <td>3851.000000</td>\n",
       "      <td>5723.000000</td>\n",
       "      <td>9095.000000</td>\n",
       "      <td>3773.000000</td>\n",
       "      <td>5584.000000</td>\n",
       "      <td>5414.000000</td>\n",
       "    </tr>\n",
       "    <tr>\n",
       "      <th>mean</th>\n",
       "      <td>0.513497</td>\n",
       "      <td>1.122920</td>\n",
       "      <td>0.680765</td>\n",
       "      <td>0.465327</td>\n",
       "      <td>0.512611</td>\n",
       "      <td>0.680697</td>\n",
       "    </tr>\n",
       "    <tr>\n",
       "      <th>std</th>\n",
       "      <td>1.136494</td>\n",
       "      <td>1.097811</td>\n",
       "      <td>1.093255</td>\n",
       "      <td>0.764147</td>\n",
       "      <td>0.649631</td>\n",
       "      <td>1.338433</td>\n",
       "    </tr>\n",
       "    <tr>\n",
       "      <th>min</th>\n",
       "      <td>0.000000</td>\n",
       "      <td>0.000000</td>\n",
       "      <td>0.000000</td>\n",
       "      <td>0.000000</td>\n",
       "      <td>0.000000</td>\n",
       "      <td>0.000000</td>\n",
       "    </tr>\n",
       "    <tr>\n",
       "      <th>25%</th>\n",
       "      <td>0.000000</td>\n",
       "      <td>0.296719</td>\n",
       "      <td>0.000000</td>\n",
       "      <td>0.000000</td>\n",
       "      <td>0.105675</td>\n",
       "      <td>0.000000</td>\n",
       "    </tr>\n",
       "    <tr>\n",
       "      <th>50%</th>\n",
       "      <td>0.000000</td>\n",
       "      <td>0.884354</td>\n",
       "      <td>0.316406</td>\n",
       "      <td>0.157312</td>\n",
       "      <td>0.305598</td>\n",
       "      <td>0.263780</td>\n",
       "    </tr>\n",
       "    <tr>\n",
       "      <th>75%</th>\n",
       "      <td>0.497395</td>\n",
       "      <td>1.641725</td>\n",
       "      <td>0.893346</td>\n",
       "      <td>0.666667</td>\n",
       "      <td>0.663306</td>\n",
       "      <td>0.861395</td>\n",
       "    </tr>\n",
       "    <tr>\n",
       "      <th>max</th>\n",
       "      <td>14.633803</td>\n",
       "      <td>12.500000</td>\n",
       "      <td>20.500000</td>\n",
       "      <td>9.923077</td>\n",
       "      <td>6.240987</td>\n",
       "      <td>33.333333</td>\n",
       "    </tr>\n",
       "  </tbody>\n",
       "</table>\n",
       "</div>"
      ],
      "text/plain": [
       "airline       Alaska     American        Delta     Jet Blue    Southwest  \\\n",
       "count    3851.000000  5723.000000  9095.000000  3773.000000  5584.000000   \n",
       "mean        0.513497     1.122920     0.680765     0.465327     0.512611   \n",
       "std         1.136494     1.097811     1.093255     0.764147     0.649631   \n",
       "min         0.000000     0.000000     0.000000     0.000000     0.000000   \n",
       "25%         0.000000     0.296719     0.000000     0.000000     0.105675   \n",
       "50%         0.000000     0.884354     0.316406     0.157312     0.305598   \n",
       "75%         0.497395     1.641725     0.893346     0.666667     0.663306   \n",
       "max        14.633803    12.500000    20.500000     9.923077     6.240987   \n",
       "\n",
       "airline       United  \n",
       "count    5414.000000  \n",
       "mean        0.680697  \n",
       "std         1.338433  \n",
       "min         0.000000  \n",
       "25%         0.000000  \n",
       "50%         0.263780  \n",
       "75%         0.861395  \n",
       "max        33.333333  "
      ]
     },
     "execution_count": 12,
     "metadata": {},
     "output_type": "execute_result"
    }
   ],
   "source": [
    "df.groupby('airline')['pct_weather_delay'].describe().T"
   ]
  },
  {
   "cell_type": "markdown",
   "id": "e737e672",
   "metadata": {},
   "source": [
    "weather delay (기상 요인)은 전반적으로 낮지만, <br>\n",
    "American(1.12%), **United(0.68%)**가 상대적으로 높음 → 기상 취약 지역을 자주 운항하는 걸까?\n",
    "weather delay의 max값: United(33.3%), Delta(20.5%) → 극단적 사례 있음 → 리스크 관리 필요."
   ]
  },
  {
   "cell_type": "markdown",
   "id": "9aa6adb6",
   "metadata": {},
   "source": [
    "max 값이 너무 큰 경우: Delta의 carrier_delay = 100, atc_delay = 100 → 데이터 품질 문제 or 극단적 상황.<br>\n",
    "이상치 필터링이 필요할 수 있다."
   ]
  },
  {
   "cell_type": "markdown",
   "id": "4f9c6365",
   "metadata": {},
   "source": [
    "### 항공사별 운항 안정성 분석\n",
    "전반적으로 평균 지연률이 낮고 표준편차도 적은 항공사라고 볼때,<br>\n",
    "Alaska: 모든 평균값이 가장 낮음 (carrier: 3.5%, atc: 5.5%, weather: 0.51%), 표준편차도 낮다.(carrier 1.93%) <br>\n",
    "→ Alaska는 항공기 지연률이 가장 안정적인 항공사로 판단 가능."
   ]
  },
  {
   "cell_type": "markdown",
   "id": "283788b1",
   "metadata": {},
   "source": [
    "### 서비스 개선 방향 도출\n",
    "American은 모든 지연 평균이 높고 편차도 큼 → 내부 운영 개선 + 기상 대응 전략 필요.\n",
    "Delta는 weather delay는 평균적이지만, carrier/atc delay가 큼 → 프로세스 개선 + 항로 재배치 고려."
   ]
  },
  {
   "cell_type": "code",
   "execution_count": 13,
   "id": "7467485e",
   "metadata": {},
   "outputs": [
    {
     "data": {
      "text/plain": [
       "pct_carrier_delay    28\n",
       "pct_atc_delay        28\n",
       "pct_weather_delay    28\n",
       "airline               0\n",
       "dtype: int64"
      ]
     },
     "execution_count": 13,
     "metadata": {},
     "output_type": "execute_result"
    }
   ],
   "source": [
    "# 결측치 확인\n",
    "df.isnull().sum()"
   ]
  },
  {
   "cell_type": "markdown",
   "id": "f6666d62",
   "metadata": {},
   "source": [
    "각 변수별로 28건의 결측치가 확인되었음.  airline 제외\n",
    "\n",
    "처리 방안<br>\n",
    "1. 결측치가 적을 때는 간단한 처리(제거, 평균/중앙값 대체)로 충분\n",
    "2. 세 열 모두 동일한 28개 행이 결측일 가능성이 높음 → 병합 결측 패턴 확인됨\n",
    "3. airline은 결측치가 없으므로 그룹화 기반 결측 대체 가능"
   ]
  },
  {
   "cell_type": "code",
   "execution_count": 18,
   "id": "facde6c0",
   "metadata": {},
   "outputs": [
    {
     "data": {
      "text/html": [
       "<div>\n",
       "<style scoped>\n",
       "    .dataframe tbody tr th:only-of-type {\n",
       "        vertical-align: middle;\n",
       "    }\n",
       "\n",
       "    .dataframe tbody tr th {\n",
       "        vertical-align: top;\n",
       "    }\n",
       "\n",
       "    .dataframe thead th {\n",
       "        text-align: right;\n",
       "    }\n",
       "</style>\n",
       "<table border=\"1\" class=\"dataframe\">\n",
       "  <thead>\n",
       "    <tr style=\"text-align: right;\">\n",
       "      <th></th>\n",
       "      <th>pct_carrier_delay</th>\n",
       "      <th>pct_atc_delay</th>\n",
       "      <th>pct_weather_delay</th>\n",
       "      <th>airline</th>\n",
       "    </tr>\n",
       "  </thead>\n",
       "  <tbody>\n",
       "    <tr>\n",
       "      <th>4809</th>\n",
       "      <td>NaN</td>\n",
       "      <td>NaN</td>\n",
       "      <td>NaN</td>\n",
       "      <td>Jet Blue</td>\n",
       "    </tr>\n",
       "    <tr>\n",
       "      <th>6123</th>\n",
       "      <td>NaN</td>\n",
       "      <td>NaN</td>\n",
       "      <td>NaN</td>\n",
       "      <td>Jet Blue</td>\n",
       "    </tr>\n",
       "    <tr>\n",
       "      <th>7069</th>\n",
       "      <td>NaN</td>\n",
       "      <td>NaN</td>\n",
       "      <td>NaN</td>\n",
       "      <td>Delta</td>\n",
       "    </tr>\n",
       "    <tr>\n",
       "      <th>9241</th>\n",
       "      <td>NaN</td>\n",
       "      <td>NaN</td>\n",
       "      <td>NaN</td>\n",
       "      <td>Delta</td>\n",
       "    </tr>\n",
       "    <tr>\n",
       "      <th>12081</th>\n",
       "      <td>NaN</td>\n",
       "      <td>NaN</td>\n",
       "      <td>NaN</td>\n",
       "      <td>United</td>\n",
       "    </tr>\n",
       "  </tbody>\n",
       "</table>\n",
       "</div>"
      ],
      "text/plain": [
       "       pct_carrier_delay  pct_atc_delay  pct_weather_delay   airline\n",
       "4809                 NaN            NaN                NaN  Jet Blue\n",
       "6123                 NaN            NaN                NaN  Jet Blue\n",
       "7069                 NaN            NaN                NaN     Delta\n",
       "9241                 NaN            NaN                NaN     Delta\n",
       "12081                NaN            NaN                NaN    United"
      ]
     },
     "execution_count": 18,
     "metadata": {},
     "output_type": "execute_result"
    }
   ],
   "source": [
    "# 결측치 포함된 행 보기\n",
    "m_df = df[df.isnull().any(axis=1)]\n",
    "m_df.head()"
   ]
  },
  {
   "cell_type": "code",
   "execution_count": 19,
   "id": "a5d19477",
   "metadata": {},
   "outputs": [
    {
     "data": {
      "text/plain": [
       "airline\n",
       "Delta       12\n",
       "United      12\n",
       "Jet Blue     2\n",
       "American     2\n",
       "Name: count, dtype: int64"
      ]
     },
     "execution_count": 19,
     "metadata": {},
     "output_type": "execute_result"
    }
   ],
   "source": [
    "m_df['airline'].value_counts()"
   ]
  },
  {
   "cell_type": "code",
   "execution_count": 16,
   "id": "63c1ae1a",
   "metadata": {},
   "outputs": [],
   "source": [
    "# 결측치 처리 > 방법 설명\n",
    "# 1. 제거\n",
    "df_clean = df.dropna()\n",
    "#f_clean"
   ]
  },
  {
   "cell_type": "code",
   "execution_count": 20,
   "id": "92261829",
   "metadata": {},
   "outputs": [],
   "source": [
    "#2. 대표값으로 대체\n",
    "df_filled = df.fillna(df.mean(numeric_only=True))"
   ]
  },
  {
   "cell_type": "code",
   "execution_count": 21,
   "id": "6068ddfb",
   "metadata": {},
   "outputs": [
    {
     "data": {
      "text/plain": [
       "pct_carrier_delay    0\n",
       "pct_atc_delay        0\n",
       "pct_weather_delay    0\n",
       "airline              0\n",
       "dtype: int64"
      ]
     },
     "execution_count": 21,
     "metadata": {},
     "output_type": "execute_result"
    }
   ],
   "source": [
    "#3. airline 별 평균으로 대체\n",
    "df_group_fill = df.copy()\n",
    "for col in ['pct_carrier_delay', 'pct_atc_delay', 'pct_weather_delay']:\n",
    "  df_group_fill[col] = df.groupby('airline')[col].transform(lambda x:x.fillna(x.mean()))\n",
    "df_group_fill.isna().sum()"
   ]
  },
  {
   "cell_type": "code",
   "execution_count": 26,
   "id": "aa81a0c4",
   "metadata": {},
   "outputs": [
    {
     "data": {
      "text/html": [
       "<div>\n",
       "<style scoped>\n",
       "    .dataframe tbody tr th:only-of-type {\n",
       "        vertical-align: middle;\n",
       "    }\n",
       "\n",
       "    .dataframe tbody tr th {\n",
       "        vertical-align: top;\n",
       "    }\n",
       "\n",
       "    .dataframe thead th {\n",
       "        text-align: right;\n",
       "    }\n",
       "</style>\n",
       "<table border=\"1\" class=\"dataframe\">\n",
       "  <thead>\n",
       "    <tr style=\"text-align: right;\">\n",
       "      <th></th>\n",
       "      <th>count</th>\n",
       "      <th>mean</th>\n",
       "      <th>std</th>\n",
       "      <th>min</th>\n",
       "      <th>25%</th>\n",
       "      <th>50%</th>\n",
       "      <th>75%</th>\n",
       "      <th>max</th>\n",
       "    </tr>\n",
       "  </thead>\n",
       "  <tbody>\n",
       "    <tr>\n",
       "      <th>drop_pct_carrier_delay</th>\n",
       "      <td>33440.0</td>\n",
       "      <td>7.041475</td>\n",
       "      <td>4.497596</td>\n",
       "      <td>0.0</td>\n",
       "      <td>4.145455</td>\n",
       "      <td>6.356893</td>\n",
       "      <td>9.140474</td>\n",
       "      <td>100.000000</td>\n",
       "    </tr>\n",
       "    <tr>\n",
       "      <th>drop_pct_atc_delay</th>\n",
       "      <td>33440.0</td>\n",
       "      <td>5.089962</td>\n",
       "      <td>4.718647</td>\n",
       "      <td>0.0</td>\n",
       "      <td>2.146565</td>\n",
       "      <td>3.900000</td>\n",
       "      <td>6.630238</td>\n",
       "      <td>100.000000</td>\n",
       "    </tr>\n",
       "    <tr>\n",
       "      <th>drop_pct_weather_delay</th>\n",
       "      <td>33440.0</td>\n",
       "      <td>0.684776</td>\n",
       "      <td>1.073743</td>\n",
       "      <td>0.0</td>\n",
       "      <td>0.000000</td>\n",
       "      <td>0.316002</td>\n",
       "      <td>0.935161</td>\n",
       "      <td>33.333333</td>\n",
       "    </tr>\n",
       "    <tr>\n",
       "      <th>filled_pct_carrier_delay</th>\n",
       "      <td>33468.0</td>\n",
       "      <td>7.041475</td>\n",
       "      <td>4.495714</td>\n",
       "      <td>0.0</td>\n",
       "      <td>4.147084</td>\n",
       "      <td>6.359631</td>\n",
       "      <td>9.136141</td>\n",
       "      <td>100.000000</td>\n",
       "    </tr>\n",
       "    <tr>\n",
       "      <th>filled_pct_atc_delay</th>\n",
       "      <td>33468.0</td>\n",
       "      <td>5.089962</td>\n",
       "      <td>4.716672</td>\n",
       "      <td>0.0</td>\n",
       "      <td>2.148281</td>\n",
       "      <td>3.903367</td>\n",
       "      <td>6.625000</td>\n",
       "      <td>100.000000</td>\n",
       "    </tr>\n",
       "    <tr>\n",
       "      <th>filled_pct_weather_delay</th>\n",
       "      <td>33468.0</td>\n",
       "      <td>0.684776</td>\n",
       "      <td>1.073294</td>\n",
       "      <td>0.0</td>\n",
       "      <td>0.000000</td>\n",
       "      <td>0.316655</td>\n",
       "      <td>0.934579</td>\n",
       "      <td>33.333333</td>\n",
       "    </tr>\n",
       "    <tr>\n",
       "      <th>group_pct_carrier_delay</th>\n",
       "      <td>33468.0</td>\n",
       "      <td>7.041531</td>\n",
       "      <td>4.495773</td>\n",
       "      <td>0.0</td>\n",
       "      <td>4.147084</td>\n",
       "      <td>6.357260</td>\n",
       "      <td>9.136141</td>\n",
       "      <td>100.000000</td>\n",
       "    </tr>\n",
       "    <tr>\n",
       "      <th>group_pct_atc_delay</th>\n",
       "      <td>33468.0</td>\n",
       "      <td>5.090018</td>\n",
       "      <td>4.716727</td>\n",
       "      <td>0.0</td>\n",
       "      <td>2.148281</td>\n",
       "      <td>3.903367</td>\n",
       "      <td>6.626106</td>\n",
       "      <td>100.000000</td>\n",
       "    </tr>\n",
       "    <tr>\n",
       "      <th>group_pct_weather_delay</th>\n",
       "      <td>33468.0</td>\n",
       "      <td>0.684786</td>\n",
       "      <td>1.073301</td>\n",
       "      <td>0.0</td>\n",
       "      <td>0.000000</td>\n",
       "      <td>0.316655</td>\n",
       "      <td>0.934579</td>\n",
       "      <td>33.333333</td>\n",
       "    </tr>\n",
       "  </tbody>\n",
       "</table>\n",
       "</div>"
      ],
      "text/plain": [
       "                            count      mean       std  min       25%  \\\n",
       "drop_pct_carrier_delay    33440.0  7.041475  4.497596  0.0  4.145455   \n",
       "drop_pct_atc_delay        33440.0  5.089962  4.718647  0.0  2.146565   \n",
       "drop_pct_weather_delay    33440.0  0.684776  1.073743  0.0  0.000000   \n",
       "filled_pct_carrier_delay  33468.0  7.041475  4.495714  0.0  4.147084   \n",
       "filled_pct_atc_delay      33468.0  5.089962  4.716672  0.0  2.148281   \n",
       "filled_pct_weather_delay  33468.0  0.684776  1.073294  0.0  0.000000   \n",
       "group_pct_carrier_delay   33468.0  7.041531  4.495773  0.0  4.147084   \n",
       "group_pct_atc_delay       33468.0  5.090018  4.716727  0.0  2.148281   \n",
       "group_pct_weather_delay   33468.0  0.684786  1.073301  0.0  0.000000   \n",
       "\n",
       "                               50%       75%         max  \n",
       "drop_pct_carrier_delay    6.356893  9.140474  100.000000  \n",
       "drop_pct_atc_delay        3.900000  6.630238  100.000000  \n",
       "drop_pct_weather_delay    0.316002  0.935161   33.333333  \n",
       "filled_pct_carrier_delay  6.359631  9.136141  100.000000  \n",
       "filled_pct_atc_delay      3.903367  6.625000  100.000000  \n",
       "filled_pct_weather_delay  0.316655  0.934579   33.333333  \n",
       "group_pct_carrier_delay   6.357260  9.136141  100.000000  \n",
       "group_pct_atc_delay       3.903367  6.626106  100.000000  \n",
       "group_pct_weather_delay   0.316655  0.934579   33.333333  "
      ]
     },
     "execution_count": 26,
     "metadata": {},
     "output_type": "execute_result"
    }
   ],
   "source": [
    "#4. 결측치 처리한 데이터의 통계량 비교\n",
    "d_clean = df_clean.describe().add_prefix('drop_')\n",
    "d_filled = df_filled.describe().add_prefix('filled_')\n",
    "d_group = df_group_fill.describe().add_prefix('group_')\n",
    "d_comp = pd.concat([d_clean, d_filled, d_group], axis=1)\n",
    "d_comp.T"
   ]
  },
  {
   "cell_type": "markdown",
   "id": "1862da23",
   "metadata": {},
   "source": [
    "1. count\n",
    "- dropna: 33,440 → 결측치(28개) 제거\n",
    "- filled & group: 33,468 → 전체 데이터 유지\n",
    "\n",
    "2. mean\n",
    "거의 차이 없음 → 결측치가 전체에서 차지하는 비율이 낮기 때문\n",
    "\n",
    "3. std (표준편차)\n",
    "dropna와 거의 동일하나, filled는 아주 미세하게 낮음 \n",
    "→ 평균값으로 채우면 분산이 작아지는 경향\n",
    "\n",
    "4. 25%, 50%, 75% (사분위수)\n",
    "소수점 수준의 미세한 차이 외에는 거의 동일\n",
    "→ 분포 왜곡은 거의 없음 (데이터 규모가 크기 때문)"
   ]
  },
  {
   "cell_type": "markdown",
   "id": "38024c3f",
   "metadata": {},
   "source": [
    "항공사간 비교를 위해 3번 데이터를 활용한다."
   ]
  },
  {
   "cell_type": "code",
   "execution_count": 27,
   "id": "623bbb27",
   "metadata": {},
   "outputs": [
    {
     "data": {
      "text/html": [
       "<div>\n",
       "<style scoped>\n",
       "    .dataframe tbody tr th:only-of-type {\n",
       "        vertical-align: middle;\n",
       "    }\n",
       "\n",
       "    .dataframe tbody tr th {\n",
       "        vertical-align: top;\n",
       "    }\n",
       "\n",
       "    .dataframe thead th {\n",
       "        text-align: right;\n",
       "    }\n",
       "</style>\n",
       "<table border=\"1\" class=\"dataframe\">\n",
       "  <thead>\n",
       "    <tr style=\"text-align: right;\">\n",
       "      <th></th>\n",
       "      <th>pct_carrier_delay</th>\n",
       "      <th>pct_atc_delay</th>\n",
       "      <th>pct_weather_delay</th>\n",
       "      <th>airline</th>\n",
       "    </tr>\n",
       "  </thead>\n",
       "  <tbody>\n",
       "    <tr>\n",
       "      <th>0</th>\n",
       "      <td>8.153226</td>\n",
       "      <td>1.971774</td>\n",
       "      <td>0.762097</td>\n",
       "      <td>American</td>\n",
       "    </tr>\n",
       "    <tr>\n",
       "      <th>1</th>\n",
       "      <td>5.959924</td>\n",
       "      <td>3.706107</td>\n",
       "      <td>1.585878</td>\n",
       "      <td>American</td>\n",
       "    </tr>\n",
       "    <tr>\n",
       "      <th>2</th>\n",
       "      <td>7.157270</td>\n",
       "      <td>2.706231</td>\n",
       "      <td>2.026706</td>\n",
       "      <td>American</td>\n",
       "    </tr>\n",
       "    <tr>\n",
       "      <th>3</th>\n",
       "      <td>12.100000</td>\n",
       "      <td>11.033333</td>\n",
       "      <td>0.000000</td>\n",
       "      <td>American</td>\n",
       "    </tr>\n",
       "    <tr>\n",
       "      <th>4</th>\n",
       "      <td>7.333333</td>\n",
       "      <td>3.365591</td>\n",
       "      <td>1.774194</td>\n",
       "      <td>American</td>\n",
       "    </tr>\n",
       "  </tbody>\n",
       "</table>\n",
       "</div>"
      ],
      "text/plain": [
       "   pct_carrier_delay  pct_atc_delay  pct_weather_delay   airline\n",
       "0           8.153226       1.971774           0.762097  American\n",
       "1           5.959924       3.706107           1.585878  American\n",
       "2           7.157270       2.706231           2.026706  American\n",
       "3          12.100000      11.033333           0.000000  American\n",
       "4           7.333333       3.365591           1.774194  American"
      ]
     },
     "execution_count": 27,
     "metadata": {},
     "output_type": "execute_result"
    }
   ],
   "source": [
    "df_group_fill.head()"
   ]
  },
  {
   "cell_type": "markdown",
   "id": "200c0cd3",
   "metadata": {},
   "source": [
    "# 시각적 분석"
   ]
  },
  {
   "cell_type": "code",
   "execution_count": 28,
   "id": "e4703359",
   "metadata": {},
   "outputs": [],
   "source": [
    "import matplotlib.pyplot as plt"
   ]
  },
  {
   "cell_type": "code",
   "execution_count": 29,
   "id": "4e0f8989",
   "metadata": {},
   "outputs": [],
   "source": [
    "df = df_group_fill.copy()"
   ]
  },
  {
   "cell_type": "code",
   "execution_count": null,
   "id": "f6f48c7f",
   "metadata": {},
   "outputs": [
    {
     "data": {
      "image/png": "[encoded data removed]",
      "text/plain": [
       "<Figure size 1600x500 with 3 Axes>"
      ]
     },
     "metadata": {},
     "output_type": "display_data"
    }
   ],
   "source": [
    "#1. 히스토그램\n",
    "fig = plt.figure(figsize=(16,5))\n",
    "ax1 = fig.add_subplot(1,3,1)\n",
    "ax2 = fig.add_subplot(1,3,2)\n",
    "ax3 = fig.add_subplot(1,3,3)\n",
    "\n",
    "ax1.hist(df['pct_carrier_delay'], bins=20)\n",
    "ax2.hist(df['pct_atc_delay'], bins=20)\n",
    "ax3.hist(df['pct_weather_delay'], bins=20)\n",
    "\n",
    "ax1.set_title('carrier_delay')\n",
    "ax2.set_title('atc_delay')\n",
    "ax3.set_title('weather_delay')\n",
    "\n",
    "plt.show()\n"
   ]
  },
  {
   "cell_type": "markdown",
   "id": "7e4c4487",
   "metadata": {},
   "source": [
    "지연요인별 도수가 차이가 있음.<br>\n",
    "- 항공사지연요인은 첫번째 구간이 12천, 두번째구간이 15천 이다. <br>\n",
    "- ATC 지연요인은 첫번째 구간이 2만으로 가장 높다.<br>\n",
    "- 날씨 지연요인은 첫번째 구간이 3만으로 다른 요인들에 비해 높다."
   ]
  },
  {
   "cell_type": "code",
   "execution_count": null,
   "id": "c3294034",
   "metadata": {},
   "outputs": [],
   "source": [
    "#2. 박스플롯\n",
    "# - 전체, 항공사별 분석"
   ]
  },
  {
   "cell_type": "code",
   "execution_count": 31,
   "id": "ea18431d",
   "metadata": {},
   "outputs": [
    {
     "data": {
      "image/png": "[encoded data removed]",
      "text/plain": [
       "<Figure size 1200x600 with 1 Axes>"
      ]
     },
     "metadata": {},
     "output_type": "display_data"
    }
   ],
   "source": [
    "nu_df = df.select_dtypes(include='number')\n",
    "# 박스플롯 그리기\n",
    "plt.figure(figsize=(12, 6))\n",
    "plt.boxplot(nu_df.values, tick_labels=nu_df.columns)\n",
    "\n",
    "plt.title('Boxplot of Numeric Columns')\n",
    "plt.xlabel('Variables')\n",
    "plt.ylabel('Values')\n",
    "plt.xticks(rotation=45)\n",
    "plt.grid(True)\n",
    "plt.tight_layout()\n",
    "plt.show()"
   ]
  },
  {
   "cell_type": "markdown",
   "id": "74850e76",
   "metadata": {},
   "source": [
    "지연 유형별 중앙값, 사분위수, 이상치를 확인\n",
    "\n",
    "1) 항공사 지연 : 20% 이상인 경우를 이상치로 판단, 그런데, 100에 육박하는 극단적인 지연율도 있다.\n",
    "2) ATC 지연 : 항공사 지연보다 낮은 수준에서 이상치로 판단, 역시 100인 극단적인도 지연도 있으나 항공사지연요인보다 빈번하지 않다.\n",
    "3) 날씨지연 : 중앙값, IQR 자체가 작다. 이상치가 20이상인 경우이고, 다른 요인들에 비해 상대적으로 빈번하진 않다."
   ]
  },
  {
   "cell_type": "markdown",
   "id": "9b0e5a51",
   "metadata": {},
   "source": [
    "항공사별 분석"
   ]
  },
  {
   "cell_type": "code",
   "execution_count": 34,
   "id": "92c56052",
   "metadata": {},
   "outputs": [
    {
     "name": "stderr",
     "output_type": "stream",
     "text": [
      "C:\\Users\\Admin\\AppData\\Local\\Temp\\ipykernel_6136\\4037424304.py:6: MatplotlibDeprecationWarning: The 'labels' parameter of boxplot() has been renamed 'tick_labels' since Matplotlib 3.9; support for the old name will be dropped in 3.11.\n",
      "  plt.boxplot(grp_data, labels=labels)\n"
     ]
    },
    {
     "data": {
      "image/png": "[encoded data removed]",
      "text/plain": [
       "<Figure size 1200x600 with 1 Axes>"
      ]
     },
     "metadata": {},
     "output_type": "display_data"
    }
   ],
   "source": [
    "labels = df['airline'].unique()\n",
    "grp_data = [  group['pct_carrier_delay'] for name, group in df.groupby('airline')]\n",
    "#grp_data\n",
    "# 박스플롯 그리기\n",
    "plt.figure(figsize=(12, 6))\n",
    "plt.boxplot(grp_data, labels=labels)\n",
    "\n",
    "plt.title('Airline Carrier Delay(%) Boxplot')\n",
    "plt.xlabel('Airline')\n",
    "plt.ylabel('Carrier Delay(%)')\n",
    "plt.xticks(rotation=45)\n",
    "plt.grid(True)\n",
    "plt.tight_layout()\n",
    "plt.show()"
   ]
  },
  {
   "cell_type": "markdown",
   "id": "ced3700b",
   "metadata": {},
   "source": [
    "항공사별로 항공사지연요인을 분석하면, <br>\n",
    "\n",
    "- American 항공사가 지연수준이 낮은 편이다.\n",
    "- Delta, United 항공사가 중앙값은 다른 항공사에 비해 크지 않으나, 이상치는 많이 보인다. <br>\n",
    "- Alaska 가 전반적으로 이상치 발생율이 높은 편이고 비율도 크다.<br> \n",
    "- jet blue, southwest 의 이상치가 극단적이다. (100%)"
   ]
  },
  {
   "cell_type": "code",
   "execution_count": null,
   "id": "3bbe6413",
   "metadata": {},
   "outputs": [],
   "source": [
    "#3. 추가 분석\n",
    "#분석결과"
   ]
  },
  {
   "cell_type": "code",
   "execution_count": null,
   "id": "920e0154",
   "metadata": {},
   "outputs": [],
   "source": [
    "#4. 상관관계 분석\n",
    "#분석결과"
   ]
  },
  {
   "cell_type": "code",
   "execution_count": null,
   "id": "ac4264e7",
   "metadata": {},
   "outputs": [],
   "source": [
    "#5. 공분산 확인\n",
    "#분석결과"
   ]
  },
  {
   "cell_type": "markdown",
   "id": "71b77ee6",
   "metadata": {},
   "source": [
    "# 분석 결과 정리"
   ]
  },
  {
   "cell_type": "markdown",
   "id": "8f10f05a",
   "metadata": {},
   "source": [
    "# 추가 : 다음 분석 방향 계획"
   ]
  }
 ],
 "metadata": {
  "kernelspec": {
   "display_name": "hipython",
   "language": "python",
   "name": "python3"
  },
  "language_info": {
   "codemirror_mode": {
    "name": "ipython",
    "version": 3
   },
   "file_extension": ".py",
   "mimetype": "text/x-python",
   "name": "python",
   "nbconvert_exporter": "python",
   "pygments_lexer": "ipython3",
   "version": "3.12.9"
  }
 },
 "nbformat": 4,
 "nbformat_minor": 5
}
