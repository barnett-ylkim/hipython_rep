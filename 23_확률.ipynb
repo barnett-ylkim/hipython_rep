{
 "cells": [
  {
   "cell_type": "code",
   "execution_count": 2,
   "id": "df76ab32",
   "metadata": {},
   "outputs": [],
   "source": [
    "import numpy as np\n",
    "import scipy\n",
    "from scipy import linalg as la\n",
    "import scipy.stats as stats\n",
    "import pandas as pd\n",
    "import matplotlib.pyplot as plt\n",
    "%matplotlib inline\n",
    "import seaborn as sns"
   ]
  },
  {
   "cell_type": "markdown",
   "id": "21dd0b58",
   "metadata": {},
   "source": [
    "P(A) 사전확률 - 암\n",
    "P(B) 사후확률 - 양성\n",
    "\n",
    "P(A|B) -> P(B|A)?\n",
    "\n",
    "베이즈의 정리 \n",
    "P(A|B) = P(B|A) * P(A) / P(B)"
   ]
  },
  {
   "cell_type": "markdown",
   "id": "404257b0",
   "metadata": {},
   "source": [
    "문제) 양성B 진단 -> 실제 암A일 확률은?, \n",
    "진단의 정확도 95%, 암환자의 비율 10%\n",
    "\n",
    "- 5% 오진  P(양성|암') = 0.05 = P(B|A')\n",
    "- 95% 정확  P(양성|암) = 0.95 = P(B|A)\n",
    "\n",
    "암 P(A) = 0.1\n",
    "암' P(A') = 0.9\n",
    "\n",
    "양성 P(B) = 암&양성 + 암'&양성 = 0.095 + 0.045 = 0.14\n",
    "암&양성 = P(A교집합B) = P(A)*P(B|A) = 0.1*0.95\n",
    "암'&양성 = P(A'교집합B) = P(A') * P(B|A') = 0.9*0.05\n",
    "\n",
    "\n",
    "베이즈의 정리 \n",
    "P(A|B) = P(B|A) * P(A) / P(B) = 0.95 * 0.1 /0.14 = \n"
   ]
  },
  {
   "cell_type": "code",
   "execution_count": 3,
   "id": "66fea0f8",
   "metadata": {},
   "outputs": [
    {
     "data": {
      "text/plain": [
       "0.6785714285714285"
      ]
     },
     "execution_count": 3,
     "metadata": {},
     "output_type": "execute_result"
    }
   ],
   "source": [
    "P_A = 0.1 #암의 확률\n",
    "P_not_A = 1 - P_A #암이 아닐 확률\n",
    "P_B_given_A = 0.95 #양성판정의 정확도\n",
    "P_B_given_not_A = 0.05  #암이 아닌데, 양성 판정이 나온 확률\n",
    "\n",
    "#베이즈의 정리\n",
    "P_A_given_B = P_B_given_A * P_A / ((P_B_given_A*P_A)+(P_B_given_not_A*P_not_A))\n",
    "P_A_given_B"
   ]
  },
  {
   "cell_type": "markdown",
   "id": "92aac481",
   "metadata": {},
   "source": [
    "# 확률의 계산"
   ]
  },
  {
   "cell_type": "markdown",
   "id": "781b615b",
   "metadata": {},
   "source": [
    "## 동전던지기"
   ]
  },
  {
   "cell_type": "code",
   "execution_count": 6,
   "id": "8e0b4288",
   "metadata": {},
   "outputs": [
    {
     "data": {
      "text/plain": [
       "0.5"
      ]
     },
     "execution_count": 6,
     "metadata": {},
     "output_type": "execute_result"
    }
   ],
   "source": [
    "space = ['앞면', '뒷면']\n",
    "event = ['앞면']\n",
    "\n",
    "prob = lambda event, space : len(event)/len(space)\n",
    "prob(event, space)"
   ]
  },
  {
   "cell_type": "code",
   "execution_count": 7,
   "id": "42710b58",
   "metadata": {},
   "outputs": [
    {
     "data": {
      "text/plain": [
       "0.16666666666666666"
      ]
     },
     "execution_count": 7,
     "metadata": {},
     "output_type": "execute_result"
    }
   ],
   "source": [
    "#주사위 던지기\n",
    "# 1번 던져 3이 나올 확률\n",
    "space= [1,2,3,4,5,6]\n",
    "event=[3]\n",
    "prob(event, space)"
   ]
  },
  {
   "cell_type": "markdown",
   "id": "40037db0",
   "metadata": {},
   "source": [
    "# 확률의 덧셈"
   ]
  },
  {
   "cell_type": "markdown",
   "id": "154df8fd",
   "metadata": {},
   "source": [
    "## 주사위에서 짝수이거나 4보다 큰 수가 나올 확률 "
   ]
  },
  {
   "cell_type": "code",
   "execution_count": 10,
   "id": "a19735dd",
   "metadata": {},
   "outputs": [],
   "source": [
    "space= {1,2,3,4,5,6}\n",
    "event_A={2,4,6}\n",
    "event_B = {5,6}"
   ]
  },
  {
   "cell_type": "code",
   "execution_count": 11,
   "id": "22e83a30",
   "metadata": {},
   "outputs": [
    {
     "data": {
      "text/plain": [
       "{2, 4, 5, 6}"
      ]
     },
     "execution_count": 11,
     "metadata": {},
     "output_type": "execute_result"
    }
   ],
   "source": [
    "합집합 = event_A | event_B\n",
    "합집합"
   ]
  },
  {
   "cell_type": "code",
   "execution_count": 13,
   "id": "eaa439df",
   "metadata": {},
   "outputs": [
    {
     "data": {
      "text/plain": [
       "0.6666666666666666"
      ]
     },
     "execution_count": 13,
     "metadata": {},
     "output_type": "execute_result"
    }
   ],
   "source": [
    "합집합의갯수 = len(합집합)\n",
    "전체경우의수 = len(space)\n",
    "확률_1 = 합집합의갯수 / 전체경우의수\n",
    "확률_1 #짝수 또는 4보다 큰 눈이 나올 확률"
   ]
  },
  {
   "cell_type": "code",
   "execution_count": 14,
   "id": "61b2bc6f",
   "metadata": {},
   "outputs": [
    {
     "data": {
      "text/plain": [
       "0.6666666666666666"
      ]
     },
     "execution_count": 14,
     "metadata": {},
     "output_type": "execute_result"
    }
   ],
   "source": [
    "# 2이하이거나 5이상인 눈이 나올 확률\n",
    "event_C = {1,2}\n",
    "event_D = {5,6}\n",
    "union_C_D = event_C | event_D\n",
    "확률_2 = len(union_C_D)/전체경우의수\n",
    "확률_2"
   ]
  },
  {
   "cell_type": "markdown",
   "id": "a910b133",
   "metadata": {},
   "source": [
    "# 확률의 교집합"
   ]
  },
  {
   "cell_type": "markdown",
   "id": "ec67a796",
   "metadata": {},
   "source": [
    "주사위를 던져 짝수 & 2일 확률"
   ]
  },
  {
   "cell_type": "code",
   "execution_count": 17,
   "id": "211d47b2",
   "metadata": {},
   "outputs": [
    {
     "data": {
      "text/plain": [
       "{2}"
      ]
     },
     "execution_count": 17,
     "metadata": {},
     "output_type": "execute_result"
    }
   ],
   "source": [
    "#조건부 확률\n",
    "\n",
    "sample_space = [1,2,3,4,5,6]\n",
    "event_A = [2,4,6]\n",
    "event_B = [2]\n",
    "P_A = len(event_A)/len(sample_space) #A일 확률\n",
    "P_B = len(event_B)/len(sample_space) #B일 확률\n",
    "P_B_and_A_ele = set(event_A) & set(event_B) #교집합의 원소\n",
    "P_B_and_A_ele"
   ]
  },
  {
   "cell_type": "code",
   "execution_count": 18,
   "id": "34001ca2",
   "metadata": {},
   "outputs": [
    {
     "data": {
      "text/plain": [
       "0.16666666666666666"
      ]
     },
     "execution_count": 18,
     "metadata": {},
     "output_type": "execute_result"
    }
   ],
   "source": [
    "P_B_and_A = len(P_B_and_A_ele)/len(sample_space) #교집합이 나올 확률\n",
    "P_B_and_A"
   ]
  },
  {
   "cell_type": "code",
   "execution_count": 19,
   "id": "db680922",
   "metadata": {},
   "outputs": [
    {
     "data": {
      "text/plain": [
       "0.3333333333333333"
      ]
     },
     "execution_count": 19,
     "metadata": {},
     "output_type": "execute_result"
    }
   ],
   "source": [
    "#조건부확률 : 짝수일때 2가 나올 확률\n",
    "#P(B|A) = P(B_and_A)/P_A\n",
    "P_B_given_A = P_B_and_A/P_A\n",
    "P_B_given_A"
   ]
  },
  {
   "cell_type": "markdown",
   "id": "a9fc963f",
   "metadata": {},
   "source": [
    "# 우도와 확률값"
   ]
  },
  {
   "cell_type": "markdown",
   "id": "1595c70f",
   "metadata": {},
   "source": [
    "동전 10번 던지고, 8번 앞면이 나왔다.\n",
    "우도의 계산"
   ]
  },
  {
   "cell_type": "code",
   "execution_count": 21,
   "id": "5e19cb94",
   "metadata": {},
   "outputs": [],
   "source": [
    "from scipy.stats import binom"
   ]
  },
  {
   "cell_type": "code",
   "execution_count": 22,
   "id": "325b7eaf",
   "metadata": {},
   "outputs": [
    {
     "data": {
      "text/plain": [
       "(np.float64(0.04394531250000005), np.float64(0.30198988799999993))"
      ]
     },
     "execution_count": 22,
     "metadata": {},
     "output_type": "execute_result"
    }
   ],
   "source": [
    "n= 10\n",
    "k = 8 #앞면의 횟수\n",
    "\n",
    "#가설1 - 공정한 동전일 것이다\n",
    "p1 = 0.5 #앞면이 나올 확률 - 공정할 경우\n",
    "p1_likelihood = binom.pmf(k, n, p1) #조건, 총사건, 확률\n",
    "#가설2\n",
    "p2 = 0.8\n",
    "p2_likelihood = binom.pmf(k, n, p2) #조건, 총사건, 확률\n",
    "\n",
    "p1_likelihood, p2_likelihood"
   ]
  },
  {
   "cell_type": "markdown",
   "id": "ba4de4c2",
   "metadata": {},
   "source": [
    "가설1의 경우, 앞면이 8번 나올 확률은 4.4%\n",
    "가설2의 경우, 앞면이 8번 나올 확률은 30.2%\n",
    "\n",
    "앞면 8번 나오는 관측값은 p=0.8인 모델이 더 잘 설명한다. (우도가 크다)"
   ]
  },
  {
   "cell_type": "markdown",
   "id": "bd9765ef",
   "metadata": {},
   "source": [
    "# 기대값\n",
    "x의 확률들의 평균"
   ]
  },
  {
   "cell_type": "code",
   "execution_count": 23,
   "id": "2fdebaa9",
   "metadata": {},
   "outputs": [
    {
     "name": "stdout",
     "output_type": "stream",
     "text": [
      "기대값 : 2.16667\n"
     ]
    }
   ],
   "source": [
    "x_values = [1,2,3]\n",
    "p_x = [1/6, 3/6, 2/6]\n",
    "\n",
    "exp_value = 0\n",
    "#기대값\n",
    "for i in range( len(x_values)):\n",
    "  exp_value += x_values[i] * p_x[i]\n",
    "\n",
    "print(f'기대값 : {exp_value:.5f}')"
   ]
  },
  {
   "cell_type": "code",
   "execution_count": 24,
   "id": "eb96625a",
   "metadata": {},
   "outputs": [],
   "source": [
    "from scipy.stats import norm"
   ]
  },
  {
   "cell_type": "code",
   "execution_count": 27,
   "id": "597513df",
   "metadata": {},
   "outputs": [
    {
     "data": {
      "image/png": "[encoded data removed]",
      "text/plain": [
       "<Figure size 640x480 with 1 Axes>"
      ]
     },
     "metadata": {},
     "output_type": "display_data"
    }
   ],
   "source": [
    "mu = 0\n",
    "sigma = 1\n",
    "\n",
    "x = np.linspace(-4, 4, 1000)\n",
    "y = norm.pdf(x, loc=mu, scale=sigma)\n",
    "plt.plot(x,y)\n",
    "plt.show()"
   ]
  },
  {
   "cell_type": "markdown",
   "id": "924ebe51",
   "metadata": {},
   "source": [
    "# 표집분포 "
   ]
  },
  {
   "cell_type": "code",
   "execution_count": 33,
   "id": "6816453d",
   "metadata": {},
   "outputs": [
    {
     "data": {
      "image/png": "[encoded data removed]",
      "text/plain": [
       "<Figure size 640x480 with 1 Axes>"
      ]
     },
     "metadata": {},
     "output_type": "display_data"
    }
   ],
   "source": [
    "np.random.seed(0)\n",
    "X_pop = np.random.exponential(scale=10, size=10000)\n",
    "sample_mean = [np.mean(np.random.choice(X_pop, size=30))\n",
    "                 for _ in range(10000)]\n",
    "\n",
    "plt.hist(sample_mean, bins=300)\n",
    "plt.show()"
   ]
  },
  {
   "cell_type": "markdown",
   "id": "2381229f",
   "metadata": {},
   "source": [
    "# z점수"
   ]
  },
  {
   "cell_type": "code",
   "execution_count": 34,
   "id": "d2a0870b",
   "metadata": {},
   "outputs": [
    {
     "data": {
      "text/plain": [
       "(1.0, 2.5)"
      ]
     },
     "execution_count": 34,
     "metadata": {},
     "output_type": "execute_result"
    }
   ],
   "source": [
    "mu = 100\n",
    "sigma = 10\n",
    "\n",
    "x1 = 110  #z점수를 계산하려고 하는 원래 점수\n",
    "x2 = 125\n",
    "\n",
    "#z점수 = 원점수 - 평균 / 표준편차\n",
    "z_x1 = (x1 - mu)/sigma\n",
    "z_x2 = (x2 - mu)/sigma\n",
    "z_x1, z_x2"
   ]
  },
  {
   "cell_type": "markdown",
   "id": "d571a27d",
   "metadata": {},
   "source": [
    "z_x1 = 0.8413 -> 0.5 -> 0.3413\n",
    "z_x2 = 0.9938 -> -0.5 > 0.4938\n",
    "\n",
    "0.4938 - 0.3413 = 0.1525  15% "
   ]
  },
  {
   "cell_type": "markdown",
   "id": "917c650e",
   "metadata": {},
   "source": [
    "전체 분포에서 x1~x2 사이의 면적"
   ]
  },
  {
   "cell_type": "code",
   "execution_count": 35,
   "id": "4c73845a",
   "metadata": {},
   "outputs": [
    {
     "data": {
      "text/plain": [
       "np.float64(0.15244558860568092)"
      ]
     },
     "execution_count": 35,
     "metadata": {},
     "output_type": "execute_result"
    }
   ],
   "source": [
    "area_z_x1 = norm.cdf(z_x1) - norm.cdf(0)\n",
    "area_z_x2 = norm.cdf(z_x2) - norm.cdf(0)\n",
    "diff_area = area_z_x2 - area_z_x1\n",
    "diff_area"
   ]
  },
  {
   "cell_type": "code",
   "execution_count": 41,
   "id": "0d50efcb",
   "metadata": {},
   "outputs": [
    {
     "data": {
      "image/png": "[encoded data removed]",
      "text/plain": [
       "<Figure size 640x480 with 1 Axes>"
      ]
     },
     "metadata": {},
     "output_type": "display_data"
    }
   ],
   "source": [
    "# 시각화\n",
    "x = np.linspace(mu-4*sigma, mu+4*sigma, 1000)\n",
    "y = norm.pdf(x, mu, sigma)\n",
    "plt.plot(x,y)\n",
    "plt.fill_between(x,y, where=(x>=100)&(x<=110), color='skyblue')\n",
    "plt.fill_between(x,y, where=(x>110)&(x<=125), color='lightgreen')\n",
    "plt.show()"
   ]
  },
  {
   "cell_type": "markdown",
   "id": "4526b186",
   "metadata": {},
   "source": []
  }
 ],
 "metadata": {
  "kernelspec": {
   "display_name": "hipython",
   "language": "python",
   "name": "python3"
  },
  "language_info": {
   "codemirror_mode": {
    "name": "ipython",
    "version": 3
   },
   "file_extension": ".py",
   "mimetype": "text/x-python",
   "name": "python",
   "nbconvert_exporter": "python",
   "pygments_lexer": "ipython3",
   "version": "3.12.9"
  }
 },
 "nbformat": 4,
 "nbformat_minor": 5
}
