{
 "cells": [
  {
   "cell_type": "markdown",
   "id": "af33c68a-9423-4180-9b6f-7f60c93b0e17",
   "metadata": {},
   "source": [
    "# 복합자료형 리스트\n",
    "\n",
    "여러개의 값을 묶어서 하나의 변수로 다루는 자료형\n",
    "\n",
    "생성법\n",
    "1. `[ ]` 대괄호를 사용\n",
    "2. 데이터는 , 쉼표로 구분\n",
    "3. `[ ]` 빈 대괄호는 초기화\n",
    "4. 숫자, 문자, 부울, 리스트 같은 객체 모두 담을 수 있다\n",
    "5. 순서 index를 가진다 0시작\n",
    "6. 음수 인덱스도 가진다\n"
   ]
  },
  {
   "cell_type": "code",
   "execution_count": 1,
   "id": "897eea32-da58-4822-87eb-90785628b959",
   "metadata": {},
   "outputs": [
    {
     "data": {
      "text/plain": [
       "30"
      ]
     },
     "execution_count": 1,
     "metadata": {},
     "output_type": "execute_result"
    }
   ],
   "source": [
    "score = [30,50,90,80,100]\n",
    "score[0] #첫번째 학생의 점수"
   ]
  },
  {
   "cell_type": "code",
   "execution_count": 3,
   "id": "52a21dab-6b3f-4d91-9277-8e2d3db14a3a",
   "metadata": {},
   "outputs": [
    {
     "data": {
      "text/plain": [
       "(list, int)"
      ]
     },
     "execution_count": 3,
     "metadata": {},
     "output_type": "execute_result"
    }
   ],
   "source": [
    "type(score), type(score[0])"
   ]
  },
  {
   "cell_type": "code",
   "execution_count": 4,
   "id": "2209d17b-5496-4287-bd21-ac2dcc61916d",
   "metadata": {
    "collapsed": true,
    "jupyter": {
     "outputs_hidden": true
    },
    "scrolled": true
   },
   "outputs": [
    {
     "data": {
      "text/plain": [
       "['__add__',\n",
       " '__class__',\n",
       " '__class_getitem__',\n",
       " '__contains__',\n",
       " '__delattr__',\n",
       " '__delitem__',\n",
       " '__dir__',\n",
       " '__doc__',\n",
       " '__eq__',\n",
       " '__format__',\n",
       " '__ge__',\n",
       " '__getattribute__',\n",
       " '__getitem__',\n",
       " '__getstate__',\n",
       " '__gt__',\n",
       " '__hash__',\n",
       " '__iadd__',\n",
       " '__imul__',\n",
       " '__init__',\n",
       " '__init_subclass__',\n",
       " '__iter__',\n",
       " '__le__',\n",
       " '__len__',\n",
       " '__lt__',\n",
       " '__mul__',\n",
       " '__ne__',\n",
       " '__new__',\n",
       " '__reduce__',\n",
       " '__reduce_ex__',\n",
       " '__repr__',\n",
       " '__reversed__',\n",
       " '__rmul__',\n",
       " '__setattr__',\n",
       " '__setitem__',\n",
       " '__sizeof__',\n",
       " '__str__',\n",
       " '__subclasshook__',\n",
       " 'append',\n",
       " 'clear',\n",
       " 'copy',\n",
       " 'count',\n",
       " 'extend',\n",
       " 'index',\n",
       " 'insert',\n",
       " 'pop',\n",
       " 'remove',\n",
       " 'reverse',\n",
       " 'sort']"
      ]
     },
     "execution_count": 4,
     "metadata": {},
     "output_type": "execute_result"
    }
   ],
   "source": [
    "dir(score)"
   ]
  },
  {
   "cell_type": "code",
   "execution_count": 11,
   "id": "e2864fa3-4439-47ac-829a-616a00d9392a",
   "metadata": {},
   "outputs": [],
   "source": [
    "ra = range(2,20,2)  #숫자의 배열, 순열"
   ]
  },
  {
   "cell_type": "code",
   "execution_count": 12,
   "id": "a6cae385-4317-4c09-bbc6-9a8b8db2638d",
   "metadata": {},
   "outputs": [
    {
     "data": {
      "text/plain": [
       "[2, 4, 6, 8, 10, 12, 14, 16, 18]"
      ]
     },
     "execution_count": 12,
     "metadata": {},
     "output_type": "execute_result"
    }
   ],
   "source": [
    "num_list = list(ra) #생성자\n",
    "num_list"
   ]
  },
  {
   "cell_type": "code",
   "execution_count": 10,
   "id": "e3f4c694-0e96-4e0e-99f8-82658e95639e",
   "metadata": {},
   "outputs": [
    {
     "data": {
      "text/plain": [
       "9"
      ]
     },
     "execution_count": 10,
     "metadata": {},
     "output_type": "execute_result"
    }
   ],
   "source": [
    "num_list[-1]"
   ]
  },
  {
   "cell_type": "code",
   "execution_count": 14,
   "id": "8ccb02a0-3464-4965-ad30-3ecca0379b95",
   "metadata": {},
   "outputs": [
    {
     "data": {
      "text/plain": [
       "9"
      ]
     },
     "execution_count": 14,
     "metadata": {},
     "output_type": "execute_result"
    }
   ],
   "source": [
    "ra.__len__() "
   ]
  },
  {
   "cell_type": "code",
   "execution_count": 16,
   "id": "b9a66121-d67b-4375-a864-b11f01ac77b5",
   "metadata": {},
   "outputs": [
    {
     "data": {
      "text/plain": [
       "1"
      ]
     },
     "execution_count": 16,
     "metadata": {},
     "output_type": "execute_result"
    }
   ],
   "source": [
    "num_list.count(2)"
   ]
  },
  {
   "cell_type": "markdown",
   "id": "52efebf0-2926-4220-a636-70ea2f65f88d",
   "metadata": {},
   "source": [
    "method와 function\n",
    "\n",
    "1. method : 객체의 한해서 동작하는 함수 > 객체명.함수()\n",
    "2. function : 함수( 매개변수 ) > 매개변수로 동작하는 함수\n",
    "\n",
    "dir() > function   \n",
    "list_obj.__len__() > method"
   ]
  },
  {
   "cell_type": "code",
   "execution_count": 18,
   "id": "012eb5be-a688-4725-be4f-5508ebe1ec7f",
   "metadata": {
    "collapsed": true,
    "jupyter": {
     "outputs_hidden": true
    },
    "scrolled": true
   },
   "outputs": [
    {
     "ename": "TypeError",
     "evalue": "'str' object does not support item assignment",
     "output_type": "error",
     "traceback": [
      "\u001b[31m---------------------------------------------------------------------------\u001b[39m",
      "\u001b[31mTypeError\u001b[39m                                 Traceback (most recent call last)",
      "\u001b[36mCell\u001b[39m\u001b[36m \u001b[39m\u001b[32mIn[18]\u001b[39m\u001b[32m, line 2\u001b[39m\n\u001b[32m      1\u001b[39m str_1 = \u001b[33m'\u001b[39m\u001b[33mhello\u001b[39m\u001b[33m'\u001b[39m\n\u001b[32m----> \u001b[39m\u001b[32m2\u001b[39m str_1[\u001b[32m0\u001b[39m] = \u001b[33m'\u001b[39m\u001b[33mH\u001b[39m\u001b[33m'\u001b[39m\n",
      "\u001b[31mTypeError\u001b[39m: 'str' object does not support item assignment"
     ]
    }
   ],
   "source": [
    "str_1 = 'hello'\n",
    "str_1[0] = 'H' #TypeError > str Immutable"
   ]
  },
  {
   "cell_type": "code",
   "execution_count": 20,
   "id": "b09ae690-1a33-43a2-9614-bc5c1df9ee20",
   "metadata": {},
   "outputs": [
    {
     "data": {
      "text/plain": [
       "['H', 'e', 'l', 'l', 'o']"
      ]
     },
     "execution_count": 20,
     "metadata": {},
     "output_type": "execute_result"
    }
   ],
   "source": [
    "str_2 = list(str_1) #문자열 > 문자열리스트\n",
    "str_2[0] = 'H'\n",
    "str_2."
   ]
  },
  {
   "cell_type": "code",
   "execution_count": 21,
   "id": "8a5bf00f-4063-472c-948e-01f650e89f1a",
   "metadata": {},
   "outputs": [
    {
     "data": {
      "text/plain": [
       "\"['H', 'e', 'l', 'l', 'o']\""
      ]
     },
     "execution_count": 21,
     "metadata": {},
     "output_type": "execute_result"
    }
   ],
   "source": [
    "str(str_2)"
   ]
  },
  {
   "cell_type": "code",
   "execution_count": 22,
   "id": "b6c4f3dc-a47a-4821-b454-9525f5740d69",
   "metadata": {},
   "outputs": [
    {
     "data": {
      "text/plain": [
       "'Hello'"
      ]
     },
     "execution_count": 22,
     "metadata": {},
     "output_type": "execute_result"
    }
   ],
   "source": [
    "''.join(str_2)"
   ]
  },
  {
   "cell_type": "code",
   "execution_count": 23,
   "id": "9c914652-a07d-42d9-9326-f3133d2c5fe8",
   "metadata": {},
   "outputs": [
    {
     "data": {
      "text/plain": [
       "[['aaa', 'bbb', 'ccc'], [1, 2, 'aaa', 'bbb']]"
      ]
     },
     "execution_count": 23,
     "metadata": {},
     "output_type": "execute_result"
    }
   ],
   "source": [
    "# 리스트의 생성\n",
    "a = list()\n",
    "a = []\n",
    "b = [1,2,3,4,5]\n",
    "c = ['aaa', 'bbb', 'ccc']\n",
    "d = [1,2,'aaa','bbb']\n",
    "e = [c,d]\n",
    "e"
   ]
  },
  {
   "cell_type": "code",
   "execution_count": null,
   "id": "96820c16-3312-4840-98f9-4c4e633efb6f",
   "metadata": {},
   "outputs": [],
   "source": []
  },
  {
   "cell_type": "code",
   "execution_count": 25,
   "id": "74202ab2-3505-462f-9ee5-dac4d563a838",
   "metadata": {},
   "outputs": [
    {
     "data": {
      "text/plain": [
       "(['aaa', 'bbb', 'ccc'], list)"
      ]
     },
     "execution_count": 25,
     "metadata": {},
     "output_type": "execute_result"
    }
   ],
   "source": [
    "e[0], type(e[0])"
   ]
  },
  {
   "cell_type": "code",
   "execution_count": 26,
   "id": "405983f7-ef63-48cb-b577-501c2da13e15",
   "metadata": {},
   "outputs": [
    {
     "data": {
      "text/plain": [
       "([1, 2, 'aaa', 'bbb'], [1, 2, 'aaa', 'bbb'])"
      ]
     },
     "execution_count": 26,
     "metadata": {},
     "output_type": "execute_result"
    }
   ],
   "source": [
    "e[1], e[-1]"
   ]
  },
  {
   "cell_type": "code",
   "execution_count": 28,
   "id": "db43a1f7-fb11-4125-a97d-3d01ac7f18c2",
   "metadata": {},
   "outputs": [
    {
     "data": {
      "text/plain": [
       "('aaa', [['aaa', 'bbb', 'ccc']])"
      ]
     },
     "execution_count": 28,
     "metadata": {},
     "output_type": "execute_result"
    }
   ],
   "source": [
    "e[1][2],  e[0:1]"
   ]
  },
  {
   "cell_type": "code",
   "execution_count": 29,
   "id": "d470f8e8-bddf-42a8-9107-6763969707d1",
   "metadata": {},
   "outputs": [
    {
     "data": {
      "text/plain": [
       "[1, 2]"
      ]
     },
     "execution_count": 29,
     "metadata": {},
     "output_type": "execute_result"
    }
   ],
   "source": [
    "e[1][:2]"
   ]
  },
  {
   "cell_type": "code",
   "execution_count": null,
   "id": "5ed5c946-59ea-4c53-b51d-51a0256202eb",
   "metadata": {},
   "outputs": [],
   "source": []
  },
  {
   "cell_type": "code",
   "execution_count": 30,
   "id": "183061a7-785d-41ae-a087-7b8f45692257",
   "metadata": {},
   "outputs": [
    {
     "data": {
      "text/plain": [
       "[[1, 2], [3, 4]]"
      ]
     },
     "execution_count": 30,
     "metadata": {},
     "output_type": "execute_result"
    }
   ],
   "source": [
    "score = [[1,2], [3,4]]\n",
    "score\n"
   ]
  },
  {
   "cell_type": "markdown",
   "id": "31cd42d0-f9f8-4d34-af98-59c3e8242a06",
   "metadata": {},
   "source": [
    "복사\n",
    "1. 얕은 복사 shallow copy\n",
    "2. 깊은 복사 deep copy"
   ]
  },
  {
   "cell_type": "code",
   "execution_count": 32,
   "id": "3c9cafd7-f594-4f6d-b9ac-de72aaaed5e5",
   "metadata": {},
   "outputs": [
    {
     "data": {
      "text/plain": [
       "[[100, 2], [3, 4]]"
      ]
     },
     "execution_count": 32,
     "metadata": {},
     "output_type": "execute_result"
    }
   ],
   "source": [
    "new_score = score[:]  #얕은카피\n",
    "new_score[0][0] = 100\n",
    "new_score"
   ]
  },
  {
   "cell_type": "code",
   "execution_count": 33,
   "id": "4d9749ae-f7c9-4e5e-9b69-7b4d4f8e4d36",
   "metadata": {},
   "outputs": [
    {
     "data": {
      "text/plain": [
       "[[100, 2], [3, 4]]"
      ]
     },
     "execution_count": 33,
     "metadata": {},
     "output_type": "execute_result"
    }
   ],
   "source": [
    "score "
   ]
  },
  {
   "cell_type": "code",
   "execution_count": 34,
   "id": "5bd6e336-f3b8-4a8e-97c0-240bf17a68ad",
   "metadata": {},
   "outputs": [
    {
     "data": {
      "text/plain": [
       "[[100, 99], [3, 4]]"
      ]
     },
     "execution_count": 34,
     "metadata": {},
     "output_type": "execute_result"
    }
   ],
   "source": [
    "import copy\n",
    "copied = copy.copy(score)\n",
    "copied[0][1] = 99\n",
    "copied"
   ]
  },
  {
   "cell_type": "code",
   "execution_count": 35,
   "id": "5e3645f7-6a78-4ae9-894c-59cd83e17abb",
   "metadata": {},
   "outputs": [
    {
     "data": {
      "text/plain": [
       "[[100, 99], [3, 4]]"
      ]
     },
     "execution_count": 35,
     "metadata": {},
     "output_type": "execute_result"
    }
   ],
   "source": [
    "score"
   ]
  },
  {
   "cell_type": "code",
   "execution_count": 36,
   "id": "da3f7368-6311-4350-b785-efb79cfafdbe",
   "metadata": {},
   "outputs": [
    {
     "data": {
      "text/plain": [
       "[[100, 99], [100, 4]]"
      ]
     },
     "execution_count": 36,
     "metadata": {},
     "output_type": "execute_result"
    }
   ],
   "source": [
    "deepcopied = copy.deepcopy(score)\n",
    "deepcopied[1][0] = 100\n",
    "deepcopied"
   ]
  },
  {
   "cell_type": "code",
   "execution_count": 37,
   "id": "ae833c79-31f0-4af5-8862-16e122c05005",
   "metadata": {},
   "outputs": [
    {
     "data": {
      "text/plain": [
       "[[100, 99], [3, 4]]"
      ]
     },
     "execution_count": 37,
     "metadata": {},
     "output_type": "execute_result"
    }
   ],
   "source": [
    "score"
   ]
  },
  {
   "cell_type": "markdown",
   "id": "b68cae17-f5a3-476b-aece-94f686627a2f",
   "metadata": {},
   "source": [
    "# 리스트의 연산\n",
    "\n",
    "- `+` __add__()\n",
    "- `*` __mul__()\n",
    "- del list[항목]\n",
    "- in list -> True/False"
   ]
  },
  {
   "cell_type": "code",
   "execution_count": 38,
   "id": "95b5506e-95f6-4e20-9f4f-637200518a40",
   "metadata": {},
   "outputs": [
    {
     "data": {
      "text/plain": [
       "['해물라면', '샐러드', '떡뽁이', '오무라이스', '볶음밥', '떡뽁이', '제육볶음', '주먹밥']"
      ]
     },
     "execution_count": 38,
     "metadata": {},
     "output_type": "execute_result"
    }
   ],
   "source": [
    "lunch1 = ['해물라면', '샐러드', '떡뽁이']\n",
    "lunch2 = ['오무라이스', '볶음밥', '떡뽁이', '제육볶음', '주먹밥']\n",
    "lunch1+lunch2"
   ]
  },
  {
   "cell_type": "code",
   "execution_count": 40,
   "id": "48dcabb1-8517-4ca8-9fed-b8ad91244030",
   "metadata": {},
   "outputs": [
    {
     "data": {
      "text/plain": [
       "['해물라면', '샐러드', '떡뽁이', '해물라면', '샐러드', '떡뽁이']"
      ]
     },
     "execution_count": 40,
     "metadata": {},
     "output_type": "execute_result"
    }
   ],
   "source": [
    "lunch1*2"
   ]
  },
  {
   "cell_type": "code",
   "execution_count": 42,
   "id": "2632b922-7c9d-46d8-a30b-ac7ac9a4f2b0",
   "metadata": {},
   "outputs": [],
   "source": [
    "del lunch1[0]\n"
   ]
  },
  {
   "cell_type": "code",
   "execution_count": 43,
   "id": "ccc5be66-a582-4df6-9cd0-818c47c66240",
   "metadata": {},
   "outputs": [
    {
     "data": {
      "text/plain": [
       "['샐러드', '떡뽁이']"
      ]
     },
     "execution_count": 43,
     "metadata": {},
     "output_type": "execute_result"
    }
   ],
   "source": [
    "lunch1"
   ]
  },
  {
   "cell_type": "code",
   "execution_count": 46,
   "id": "1f98a5e6-a595-4718-b908-eaa4a96b67c6",
   "metadata": {},
   "outputs": [
    {
     "data": {
      "text/plain": [
       "['샐러드', '오무라이스', '볶음밥', '떡뽁이', '제육볶음', '주먹밥']"
      ]
     },
     "execution_count": 46,
     "metadata": {},
     "output_type": "execute_result"
    }
   ],
   "source": [
    "# lunch1과 lunch2를 합하고 '떡뽁이' 1개를 제외하세요\n",
    "lunch3 = lunch1+lunch2\n",
    "del lunch3[1]\n",
    "lunch3"
   ]
  },
  {
   "cell_type": "code",
   "execution_count": 47,
   "id": "71539d26-499b-4ac3-83d3-d6bbcd2a94ed",
   "metadata": {},
   "outputs": [
    {
     "data": {
      "text/plain": [
       "True"
      ]
     },
     "execution_count": 47,
     "metadata": {},
     "output_type": "execute_result"
    }
   ],
   "source": [
    "'떡뽁이' in lunch3"
   ]
  },
  {
   "cell_type": "code",
   "execution_count": 55,
   "id": "af8b99e6-6a8d-485d-a8a6-7b9f9a42bc15",
   "metadata": {},
   "outputs": [
    {
     "name": "stdin",
     "output_type": "stream",
     "text": [
      "먹고 싶은 간식을 추가하세요.  단, 쉼표(,)로 연결하세요 홈런볼, 사이다\n"
     ]
    }
   ],
   "source": [
    "# 간식박스 관리 프로그램 1\n",
    "snack_box = ['초코파이']\n",
    "new_snack = input('먹고 싶은 간식을 추가하세요.  단, 쉼표(,)로 연결하세요').split(',')\n",
    "snack_box += new_snack"
   ]
  },
  {
   "cell_type": "code",
   "execution_count": 56,
   "id": "d5b20241-1be8-4164-8ce4-63903995c533",
   "metadata": {},
   "outputs": [
    {
     "data": {
      "text/plain": [
       "['초코파이', '홈런볼', ' 사이다']"
      ]
     },
     "execution_count": 56,
     "metadata": {},
     "output_type": "execute_result"
    }
   ],
   "source": [
    "snack_box"
   ]
  },
  {
   "cell_type": "code",
   "execution_count": 57,
   "id": "5414e3f7-c202-4e92-a219-0e9d016c31c5",
   "metadata": {},
   "outputs": [
    {
     "name": "stdin",
     "output_type": "stream",
     "text": [
      "간식박스 몇 세트로 포장할까요? 예: 2 -> 2box 2\n"
     ]
    }
   ],
   "source": [
    "# 간식박스 관리 프로그램 2\n",
    "qty = int(input('간식박스 몇 세트로 포장할까요? 예: 2 -> 2box'))"
   ]
  },
  {
   "cell_type": "code",
   "execution_count": 58,
   "id": "74290cfe-f70d-4832-abf1-a8f324db229b",
   "metadata": {},
   "outputs": [
    {
     "data": {
      "text/plain": [
       "['초코파이', '홈런볼', ' 사이다', '초코파이', '홈런볼', ' 사이다']"
      ]
     },
     "execution_count": 58,
     "metadata": {},
     "output_type": "execute_result"
    }
   ],
   "source": [
    "snack_box *= qty\n",
    "snack_box"
   ]
  },
  {
   "cell_type": "code",
   "execution_count": 59,
   "id": "fd906fdc-5df7-4ce0-8893-87ca15f83c0c",
   "metadata": {},
   "outputs": [
    {
     "name": "stdout",
     "output_type": "stream",
     "text": [
      "주문하신 간식상자는 초코파이,홈런볼, 사이다 등입니다. 확인해주세요.\n"
     ]
    }
   ],
   "source": [
    "print(f'주문하신 간식상자는 {snack_box[0]},{snack_box[1]},{snack_box[2]} 등입니다. 확인해주세요.')"
   ]
  },
  {
   "cell_type": "code",
   "execution_count": 63,
   "id": "e4dde5a9-5bd9-4a89-82a2-de4cae4932fb",
   "metadata": {},
   "outputs": [
    {
     "name": "stdin",
     "output_type": "stream",
     "text": [
      "혹시 빼고싶은 간식이 있으면 번호를 입력하세요 (0~5) 1\n"
     ]
    }
   ],
   "source": [
    "# 간식박스 관리 프로그램 3\n",
    "msg = f'혹시 빼고싶은 간식이 있으면 번호를 입력하세요 (0~{len(snack_box)-1})'\n",
    "snack_no = int(input(msg))"
   ]
  },
  {
   "cell_type": "code",
   "execution_count": 65,
   "id": "9885e92c-4883-4c88-909f-bc9c3ea75b1b",
   "metadata": {},
   "outputs": [],
   "source": [
    "del snack_box[snack_no]"
   ]
  },
  {
   "cell_type": "code",
   "execution_count": 67,
   "id": "92948f2f-5cc2-4f06-9a66-a553a9b1bfa9",
   "metadata": {},
   "outputs": [
    {
     "name": "stdin",
     "output_type": "stream",
     "text": [
      "찾고 싶은 간식을 입력하세요 홈런볼\n"
     ]
    },
    {
     "name": "stdout",
     "output_type": "stream",
     "text": [
      "있어요\n"
     ]
    }
   ],
   "source": [
    "# 간식박스 관리 프로그램 4\n",
    "# 찾고 싶은 간식이름을 입력하세요\n",
    "# 있어요 OR 없어요 출력\n",
    "snack_name = input('찾고 싶은 간식을 입력하세요')\n",
    "if snack_name in snack_box :\n",
    "    print('있어요')\n",
    "else:\n",
    "    print('없어요')"
   ]
  },
  {
   "cell_type": "code",
   "execution_count": 71,
   "id": "79ac503d-168c-477b-bf1e-bc076fd6ef57",
   "metadata": {},
   "outputs": [
    {
     "name": "stdout",
     "output_type": "stream",
     "text": [
      "주문하신 간식박스는 뒤에서부터 다음과 같습니다.\n",
      "[' 사이다', '홈런볼', '초코파이', ' 사이다', '초코파이'] , 총 5개입니다.\n"
     ]
    }
   ],
   "source": [
    "# 간식박스 관리 프로그램 5\n",
    "print('주문하신 간식박스는 뒤에서부터 다음과 같습니다.')\n",
    "print(f'{snack_box[::-1]} , 총 {len(snack_box)}개입니다.')"
   ]
  },
  {
   "cell_type": "markdown",
   "id": "7ec42d22-22a3-4cca-a1b0-085d7d5a9f08",
   "metadata": {},
   "source": [
    "# 리스트의 메소드"
   ]
  },
  {
   "cell_type": "markdown",
   "id": "93644b55-6132-4585-9ad5-80630f696ac5",
   "metadata": {},
   "source": [
    "| 메서드                  | 사용 예시                    | 설명                |\n",
    "| -------------------- | ------------------------ | ----------------- |\n",
    "| `append(x)`          | `lst.append(4)`          | 맨 뒤에 `x` 추가       |\n",
    "| `insert(i, x)`       | `lst.insert(1, \"a\")`     | `i` 위치에 `x` 삽입    |\n",
    "| `extend(iter)`       | `lst.extend([4, 5])`     | 리스트에 여러 값 추가      |\n",
    "| `remove(x)`          | `lst.remove(\"a\")`        | `x`와 일치하는 첫 항목 삭제 |\n",
    "| `pop()`              | `lst.pop()`              | 마지막 항목 제거하고 반환    |\n",
    "| `pop(i)`             | `lst.pop(0)`             | `i`번째 항목 제거하고 반환  |\n",
    "| `clear()`            | `lst.clear()`            | 리스트 전체 비우기        |\n",
    "| `index(x)`           | `lst.index(\"a\")`         | `x`의 위치(인덱스) 반환   |\n",
    "| `count(x)`           | `lst.count(\"a\")`         | `x`의 개수 세기        |\n",
    "| `sort()`             | `lst.sort()`             | 오름차순 정렬 (원본 변경)   |\n",
    "| `sort(reverse=True)` | `lst.sort(reverse=True)` | 내림차순 정렬           |\n",
    "| `reverse()`          | `lst.reverse()`          | 항목 순서 뒤집기         |\n",
    "| `copy()`             | `lst2 = lst.copy()`      | 리스트 복사            |\n"
   ]
  },
  {
   "cell_type": "markdown",
   "id": "dd6a2f9e-671c-41eb-b9ba-52c4ee6dda17",
   "metadata": {
    "jp-MarkdownHeadingCollapsed": true,
    "jupyter": {
     "source_hidden": true
    }
   },
   "source": [
    "# 연산자\n",
    "\n",
    "\n",
    "- 비식별연산자\n",
    "1. 수치연산 : 사칙연산\n",
    "    add() -> 특별메소드를 정의하고 객체에서 쓸 수 있다\n",
    "   숫자일 때는 기본 연산\n",
    "   형변환이 자동으로 일어난다 int+float > float, int/int > float\n",
    "2. 대입연산 : assign, 할당 `=`\n",
    "   변수 = 값\n",
    "   자기 자신에게 대입하는 연산 > +=, -=, *=, /= > ( ) 가 자동으로 적용\n",
    "5. 비교연산\n",
    "   `=` 와 `==`\n",
    "   `!=` `>=` `<=`\n",
    "\n",
    "   리스트의 비교 `==` > 내용이 같은가?   \n",
    "   리스트의 비교 `is` > 주소가 같은가?\n",
    "   \n",
    "   리스트의 주소 `id()` 값이 같은지를 비교 > 메모리 영역이 같은가?\n",
    "   \n",
    "7. 논리연산\n",
    "    and, or, not\n",
    "   &, &&, |, !\n",
    "   \n",
    "   \n",
    "- 식별 연산자\n",
    "  1. is , is not"
   ]
  },
  {
   "cell_type": "code",
   "execution_count": 27,
   "id": "e18ac480-7ab2-4b27-bf92-13fb1ca607a4",
   "metadata": {},
   "outputs": [
    {
     "data": {
      "text/plain": [
       "True"
      ]
     },
     "execution_count": 27,
     "metadata": {},
     "output_type": "execute_result"
    }
   ],
   "source": [
    "lunch1 = ['주먹밥', '치킨', '칼국수']\n",
    "lunch2 = ['주먹밥', '치킨', '칼국수']\n",
    "lunch1 == lunch2  #값의 비교"
   ]
  },
  {
   "cell_type": "code",
   "execution_count": 28,
   "id": "01d68bf6-4738-4031-a993-bc3b7659ff86",
   "metadata": {},
   "outputs": [
    {
     "data": {
      "text/plain": [
       "False"
      ]
     },
     "execution_count": 28,
     "metadata": {},
     "output_type": "execute_result"
    }
   ],
   "source": [
    "id(lunch1) == id(lunch2)"
   ]
  },
  {
   "cell_type": "code",
   "execution_count": 29,
   "id": "9e1018f3-f5aa-41b8-b507-a11c52294ad9",
   "metadata": {},
   "outputs": [
    {
     "data": {
      "text/plain": [
       "False"
      ]
     },
     "execution_count": 29,
     "metadata": {},
     "output_type": "execute_result"
    }
   ],
   "source": [
    "lunch1 is lunch2 # 주소를 비교"
   ]
  },
  {
   "cell_type": "code",
   "execution_count": null,
   "id": "bfbe8248-4d6b-4ae7-8396-d0474c199525",
   "metadata": {},
   "outputs": [],
   "source": []
  },
  {
   "cell_type": "code",
   "execution_count": 4,
   "id": "0a166f76-d45e-4e3a-af06-84b561beaf67",
   "metadata": {},
   "outputs": [],
   "source": [
    "a=5\n",
    "#a= a + 5\n",
    "a += 5"
   ]
  },
  {
   "cell_type": "code",
   "execution_count": 7,
   "id": "055a453b-d476-44b5-b070-d871c2f07b6e",
   "metadata": {},
   "outputs": [],
   "source": [
    "a=5\n",
    "b=2"
   ]
  },
  {
   "cell_type": "code",
   "execution_count": 8,
   "id": "8d78ab7b-c6ec-4708-982a-0500b25fb871",
   "metadata": {},
   "outputs": [
    {
     "data": {
      "text/plain": [
       "20"
      ]
     },
     "execution_count": 8,
     "metadata": {},
     "output_type": "execute_result"
    }
   ],
   "source": [
    "\n",
    "a *= (2 + b)  # a = 5 * (2 + 2)\n",
    "a"
   ]
  },
  {
   "cell_type": "code",
   "execution_count": 9,
   "id": "43b298d0-2c94-42f3-8ca5-724378a602fa",
   "metadata": {},
   "outputs": [],
   "source": [
    "students = [\n",
    "               {'num':'1','name':'김철수','kor':90,'eng':80,'math':85,'total':0,'avg':0.0,'order':0 },\n",
    "               {'num':'2','name':'박제동','kor':90,'eng':85,'math':90,'total':0,'avg':0.0,'order':0 },\n",
    "               {'num':'3','name':'홍길동','kor':80,'eng':80,'math':80,'total':0,'avg':0.0,'order':0 }\n",
    "           ]"
   ]
  },
  {
   "cell_type": "code",
   "execution_count": 10,
   "id": "74d2201e-f3ac-4e4a-a35f-452cf472f311",
   "metadata": {
    "collapsed": true,
    "jupyter": {
     "outputs_hidden": true
    }
   },
   "outputs": [
    {
     "data": {
      "text/plain": [
       "[{'num': '1',\n",
       "  'name': '김철수',\n",
       "  'kor': 90,\n",
       "  'eng': 80,\n",
       "  'math': 85,\n",
       "  'total': 0,\n",
       "  'avg': 0.0,\n",
       "  'order': 0},\n",
       " {'num': '2',\n",
       "  'name': '박제동',\n",
       "  'kor': 90,\n",
       "  'eng': 85,\n",
       "  'math': 90,\n",
       "  'total': 0,\n",
       "  'avg': 0.0,\n",
       "  'order': 0},\n",
       " {'num': '3',\n",
       "  'name': '홍길동',\n",
       "  'kor': 80,\n",
       "  'eng': 80,\n",
       "  'math': 80,\n",
       "  'total': 0,\n",
       "  'avg': 0.0,\n",
       "  'order': 0}]"
      ]
     },
     "execution_count": 10,
     "metadata": {},
     "output_type": "execute_result"
    }
   ],
   "source": [
    "students"
   ]
  },
  {
   "cell_type": "code",
   "execution_count": 16,
   "id": "b38ea016-083d-4823-b6b0-f55c78bcfcfc",
   "metadata": {},
   "outputs": [
    {
     "data": {
      "text/plain": [
       "255"
      ]
     },
     "execution_count": 16,
     "metadata": {},
     "output_type": "execute_result"
    }
   ],
   "source": [
    "students[0]['total'] = (students[0]['kor'] \n",
    "                        + students[0]['eng']  \n",
    "                        + students[0]['math'])\n",
    "students[0]['total']"
   ]
  },
  {
   "cell_type": "code",
   "execution_count": 17,
   "id": "d6ef4751-99eb-4182-b197-994a5b70e55d",
   "metadata": {},
   "outputs": [
    {
     "data": {
      "text/plain": [
       "265"
      ]
     },
     "execution_count": 17,
     "metadata": {},
     "output_type": "execute_result"
    }
   ],
   "source": [
    "students[1]['total'] = (students[1]['kor'] \n",
    "                        + students[1]['eng']  \n",
    "                        + students[1]['math'])\n",
    "students[1]['total']"
   ]
  },
  {
   "cell_type": "code",
   "execution_count": 18,
   "id": "7332096b-1fa3-4282-b999-b08b2ae8f5b8",
   "metadata": {},
   "outputs": [
    {
     "data": {
      "text/plain": [
       "240"
      ]
     },
     "execution_count": 18,
     "metadata": {},
     "output_type": "execute_result"
    }
   ],
   "source": [
    "students[2]['total'] = (students[2]['kor'] \n",
    "                        + students[2]['eng']  \n",
    "                        + students[2]['math'])\n",
    "students[2]['total']"
   ]
  },
  {
   "cell_type": "code",
   "execution_count": 22,
   "id": "5c885279-800c-429e-997e-8855b648b73b",
   "metadata": {},
   "outputs": [
    {
     "name": "stdout",
     "output_type": "stream",
     "text": [
      "255 85.0\n",
      "265 88.33333333333333\n",
      "240 80.0\n"
     ]
    }
   ],
   "source": [
    "#for 문에서는 리스트의 요소를 하나씩 꺼낼 수 있다 : in 키워드\n",
    "for student in students : #0,1,2 : 0 > 1 > 2 > iterator\n",
    "    student['total'] = (student['kor'] + student['eng']  + student['math'])\n",
    "    student['avg'] = student['total'] / 3\n",
    "    print(student['total'], student['avg'])"
   ]
  },
  {
   "cell_type": "code",
   "execution_count": null,
   "id": "dec121a1-a94e-4cb4-94df-0da13d623fdc",
   "metadata": {},
   "outputs": [],
   "source": [
    "# avg 구하기\n",
    "for student in students : #students[0],1,2 : 0 > 1 > 2 > iterator\n",
    "    student['avg'] = (student['total'] / 3 )\n",
    "    print(student['total'])"
   ]
  },
  {
   "cell_type": "code",
   "execution_count": 25,
   "id": "2aa51204-b2fb-42de-ad6a-7a9cbd160fda",
   "metadata": {},
   "outputs": [
    {
     "name": "stdout",
     "output_type": "stream",
     "text": [
      "김철수 2\n",
      "박제동 1\n",
      "홍길동 3\n"
     ]
    }
   ],
   "source": [
    "#students order\n",
    "for student in students :  #students[0] 자료를 꺼낸 것이 student\n",
    "    rank = 1\n",
    "    for other in students :\n",
    "        if other['total'] > student['total'] :\n",
    "            rank += 1\n",
    "    student['order'] = rank\n",
    "    print(student['name'], student['order'])"
   ]
  },
  {
   "cell_type": "code",
   "execution_count": 26,
   "id": "cef0d5a9-aebe-480a-b61b-d20a16ae7575",
   "metadata": {},
   "outputs": [
    {
     "name": "stdout",
     "output_type": "stream",
     "text": [
      "김철수 2 255 85.0\n",
      "박제동 1 265 88.33333333333333\n",
      "홍길동 3 240 80.0\n"
     ]
    }
   ],
   "source": [
    "for student in students:\n",
    "    print(student['name'], student['order'], student['total'], student['avg'])"
   ]
  },
  {
   "cell_type": "code",
   "execution_count": null,
   "id": "f67a09c2-8774-458e-bc87-13608e0c72f5",
   "metadata": {},
   "outputs": [],
   "source": []
  },
  {
   "cell_type": "markdown",
   "id": "39bddfa9-3e38-409a-a2ae-c95cef5d6e60",
   "metadata": {},
   "source": [
    "# 리스트에 많이 쓰는 내장함수들\n",
    "\n"
   ]
  },
  {
   "cell_type": "markdown",
   "id": "e6a505c4-554b-49f8-bedf-8095b9a67ccd",
   "metadata": {},
   "source": [
    "- type()\n",
    "- sorted()\n",
    "- dir()\n",
    "- id()\n",
    "- len()\n",
    "- sum(), max(), min()"
   ]
  },
  {
   "cell_type": "markdown",
   "id": "a16b4707-c7b1-4e37-ae3b-61443976e597",
   "metadata": {},
   "source": [
    "# 리스트 퀴즈\n",
    "\n",
    "Q1. [1,3,5,4,2]라는 리스트를 [5,4,3,2,1]로 만들어보자\n",
    "\n",
    "Q2. ['Life','is','too','short']라는 리스트를 Life is too short라는 문자열로 만들어 출력해 보자\n",
    "\n",
    "Q3. 다음 리스트 L의 순서를 아래와 같이 변경하시오. (힌트: pop())\n",
    "\n",
    "변경 전 \n",
    "\n",
    "[1, 3, 5, 7, 9]  \n",
    "\n",
    "변경 후\n",
    "\n",
    "[3, 5, 7, 9, 1]"
   ]
  },
  {
   "cell_type": "markdown",
   "id": "ebe51bd0-5706-4002-bfed-276dba57f2dd",
   "metadata": {},
   "source": [
    "# 딕셔너리\n",
    "\n",
    "`{ 키:값, 키:값, }`\n",
    "\n"
   ]
  },
  {
   "cell_type": "code",
   "execution_count": 30,
   "id": "bdddca1d-2a94-4c14-8d75-a697f5ac5728",
   "metadata": {},
   "outputs": [
    {
     "data": {
      "text/plain": [
       "{'이름': 'alice', '나이': 25, '도시': '서울'}"
      ]
     },
     "execution_count": 30,
     "metadata": {},
     "output_type": "execute_result"
    }
   ],
   "source": [
    "person = { '이름':'alice', '나이':25, '도시':'서울' }\n",
    "person"
   ]
  },
  {
   "cell_type": "code",
   "execution_count": 31,
   "id": "9f775d24-25eb-4610-bc83-54c03080a887",
   "metadata": {},
   "outputs": [
    {
     "data": {
      "text/plain": [
       "{'이름': 'Bob', '나이': 30, '도시': '부산'}"
      ]
     },
     "execution_count": 31,
     "metadata": {},
     "output_type": "execute_result"
    }
   ],
   "source": [
    "person2 = dict(이름=\"Bob\", 나이=30, 도시=\"부산\")\n",
    "person2"
   ]
  },
  {
   "cell_type": "code",
   "execution_count": 33,
   "id": "abb5bbb9-bed9-49bc-ae8f-0344034ba9cf",
   "metadata": {},
   "outputs": [
    {
     "data": {
      "text/plain": [
       "{'이름': '홍길동', '나이': 25, '도시': '서울'}"
      ]
     },
     "execution_count": 33,
     "metadata": {},
     "output_type": "execute_result"
    }
   ],
   "source": [
    "person['이름'] = '홍길동'\n",
    "person"
   ]
  },
  {
   "cell_type": "code",
   "execution_count": 35,
   "id": "6a621fa2-0558-4d25-9ed9-68e5722236b7",
   "metadata": {},
   "outputs": [
    {
     "data": {
      "text/plain": [
       "{'이름': '홍길동', '나이': 25, '도시': '서울', 0: 'Bob'}"
      ]
     },
     "execution_count": 35,
     "metadata": {},
     "output_type": "execute_result"
    }
   ],
   "source": [
    "person[0] = 'Bob' #key create\n",
    "person"
   ]
  },
  {
   "cell_type": "code",
   "execution_count": 37,
   "id": "19534552-d739-4daa-8939-f61614fc2811",
   "metadata": {},
   "outputs": [],
   "source": [
    "#person[2] #KeyError    "
   ]
  },
  {
   "cell_type": "code",
   "execution_count": 38,
   "id": "c2cfafaa-c99d-4cb5-863b-7972a3851c42",
   "metadata": {},
   "outputs": [
    {
     "data": {
      "text/plain": [
       "dict"
      ]
     },
     "execution_count": 38,
     "metadata": {},
     "output_type": "execute_result"
    }
   ],
   "source": [
    "type(person)"
   ]
  },
  {
   "cell_type": "code",
   "execution_count": 39,
   "id": "67202e49-6fbe-46c7-b434-3e73849ff837",
   "metadata": {},
   "outputs": [
    {
     "data": {
      "text/plain": [
       "['__class__',\n",
       " '__class_getitem__',\n",
       " '__contains__',\n",
       " '__delattr__',\n",
       " '__delitem__',\n",
       " '__dir__',\n",
       " '__doc__',\n",
       " '__eq__',\n",
       " '__format__',\n",
       " '__ge__',\n",
       " '__getattribute__',\n",
       " '__getitem__',\n",
       " '__getstate__',\n",
       " '__gt__',\n",
       " '__hash__',\n",
       " '__init__',\n",
       " '__init_subclass__',\n",
       " '__ior__',\n",
       " '__iter__',\n",
       " '__le__',\n",
       " '__len__',\n",
       " '__lt__',\n",
       " '__ne__',\n",
       " '__new__',\n",
       " '__or__',\n",
       " '__reduce__',\n",
       " '__reduce_ex__',\n",
       " '__repr__',\n",
       " '__reversed__',\n",
       " '__ror__',\n",
       " '__setattr__',\n",
       " '__setitem__',\n",
       " '__sizeof__',\n",
       " '__str__',\n",
       " '__subclasshook__',\n",
       " 'clear',\n",
       " 'copy',\n",
       " 'fromkeys',\n",
       " 'get',\n",
       " 'items',\n",
       " 'keys',\n",
       " 'pop',\n",
       " 'popitem',\n",
       " 'setdefault',\n",
       " 'update',\n",
       " 'values']"
      ]
     },
     "execution_count": 39,
     "metadata": {},
     "output_type": "execute_result"
    }
   ],
   "source": [
    "dir(person)"
   ]
  },
  {
   "cell_type": "code",
   "execution_count": 46,
   "id": "b9193319-5862-47ef-8bf0-8b4bdc2383d1",
   "metadata": {},
   "outputs": [],
   "source": [
    "p_list = person.items()"
   ]
  },
  {
   "cell_type": "code",
   "execution_count": 47,
   "id": "80b53ef3-6a8d-494e-9fc1-1c7062827950",
   "metadata": {},
   "outputs": [
    {
     "name": "stdout",
     "output_type": "stream",
     "text": [
      "('이름', '홍길동')\n",
      "('나이', 25)\n",
      "('도시', '서울')\n",
      "(0, 'Bob')\n"
     ]
    }
   ],
   "source": [
    "for item in p_list :\n",
    "    print(item)"
   ]
  },
  {
   "cell_type": "code",
   "execution_count": 45,
   "id": "1c6126a5-237a-464d-a289-4313d949751e",
   "metadata": {},
   "outputs": [
    {
     "data": {
      "text/plain": [
       "dict_keys"
      ]
     },
     "execution_count": 45,
     "metadata": {},
     "output_type": "execute_result"
    }
   ],
   "source": [
    "keys = person.keys()\n",
    "type(keys)"
   ]
  },
  {
   "cell_type": "code",
   "execution_count": 44,
   "id": "967a0551-9369-43f9-bc46-1ea9558be37f",
   "metadata": {},
   "outputs": [
    {
     "name": "stdout",
     "output_type": "stream",
     "text": [
      "이름\n",
      "나이\n",
      "도시\n",
      "0\n"
     ]
    }
   ],
   "source": [
    "for k in keys :\n",
    "    print(k)"
   ]
  },
  {
   "cell_type": "code",
   "execution_count": null,
   "id": "fd9dae7d-6fb0-4a9a-b4df-53fe9bbfe332",
   "metadata": {},
   "outputs": [],
   "source": [
    "# values() 연습\n"
   ]
  },
  {
   "cell_type": "code",
   "execution_count": 51,
   "id": "a19335db-969c-4b45-9bbe-49092fef8b37",
   "metadata": {},
   "outputs": [
    {
     "data": {
      "text/plain": [
       "{'이름': 'Bob', '나이': 30, '도시': '부산', 0: 'Bob'}"
      ]
     },
     "execution_count": 51,
     "metadata": {},
     "output_type": "execute_result"
    }
   ],
   "source": [
    "# update()는 딕셔너리에 딕셔너리를 추가합니다.\n",
    "person.update(person2)\n",
    "person"
   ]
  },
  {
   "cell_type": "code",
   "execution_count": null,
   "id": "ec460516-2503-4733-8636-06f2f3024080",
   "metadata": {},
   "outputs": [],
   "source": [
    "#person3를 추가한다면?\n",
    "#키가 같으므로, 값이 업데이트\n",
    "#키가 다르면 추가"
   ]
  },
  {
   "cell_type": "code",
   "execution_count": null,
   "id": "5ff6ea15-50f2-45b9-8f84-da38cbb2b06a",
   "metadata": {},
   "outputs": [],
   "source": [
    "person['이름'] = 'alice'"
   ]
  },
  {
   "cell_type": "code",
   "execution_count": 52,
   "id": "f0f36287-d5e6-4e9f-b724-e05c5d888351",
   "metadata": {},
   "outputs": [
    {
     "data": {
      "text/plain": [
       "{'이름': 'Bob', '나이': 30, '도시': '부산', 0: 'Bob', '성별': '여자', '취미': '판타지'}"
      ]
     },
     "execution_count": 52,
     "metadata": {},
     "output_type": "execute_result"
    }
   ],
   "source": [
    "person3 = {'성별':'여자', '취미':'판타지'}\n",
    "person.update(person3)\n",
    "person"
   ]
  },
  {
   "cell_type": "markdown",
   "id": "cd4725ca-6c4a-45bb-9adb-3e871d051bb0",
   "metadata": {},
   "source": [
    "# 메뉴판 만들기"
   ]
  },
  {
   "cell_type": "code",
   "execution_count": 58,
   "id": "62248285-7e03-4ede-93fd-0a52a4de0abd",
   "metadata": {},
   "outputs": [
    {
     "name": "stdout",
     "output_type": "stream",
     "text": [
      "****************************************\n",
      "어서오세요 바리스타 엘리's 카페에 오신것을 환영합니다\n",
      "1. 에스프레소 3000\n",
      "2. 아이스아메리카노 4000\n",
      "3. 따뜻한라떼 5000\n"
     ]
    },
    {
     "name": "stdin",
     "output_type": "stream",
     "text": [
      "주문할 메뉴 번호를 입력하세요 :  1\n",
      "주문할 수량을 숫자로 입력하세요 :  3\n"
     ]
    },
    {
     "name": "stdout",
     "output_type": "stream",
     "text": [
      "주문하신 메뉴는 에스프레소 입니다.  결제하실 금액은 9000 입니다\n"
     ]
    }
   ],
   "source": [
    "store_name = '바리스타 엘리\\'s 카페'\n",
    "menu_list = ['에스프레소', '아이스아메리카노', '따뜻한라떼']\n",
    "price_list = [3000, 4000, 5000]\n",
    "\n",
    "#환영인사\n",
    "print('*'*40)\n",
    "print(f'어서오세요 {store_name}에 오신것을 환영합니다')\n",
    "\n",
    "#메뉴목록 출력\n",
    "for i in range(len(menu_list)) :\n",
    "    print(f'{i+1}. {menu_list[i]} {price_list[i]}')\n",
    "\n",
    "#주문화면\n",
    "order_num = int(input('주문할 메뉴 번호를 입력하세요 : '))-1\n",
    "qty = int(input('주문할 수량을 숫자로 입력하세요 : '))\n",
    "amt = qty * price_list[order_num]\n",
    "\n",
    "#주문결과 출력\n",
    "print(f'주문하신 메뉴는 {menu_list[order_num]} 입니다.  결제하실 금액은 {amt} 입니다')\n"
   ]
  },
  {
   "cell_type": "markdown",
   "id": "0a58f513-7a1c-48e4-9e7b-30fcab62ae7a",
   "metadata": {},
   "source": [
    "## 딕셔너리 버전"
   ]
  },
  {
   "cell_type": "code",
   "execution_count": 64,
   "id": "026ad507-1fe0-48e1-bcc1-7ac7aedb27de",
   "metadata": {},
   "outputs": [
    {
     "name": "stdout",
     "output_type": "stream",
     "text": [
      "****************************************\n",
      "어서오세요 바리스타 엘리's 카페에 오신것을 환영합니다\n",
      "1. 에스프레소 3000\n",
      "2. 아이스아메리카노 4000\n",
      "3. 따뜻한라떼 5000\n",
      "4. 말차프라프치노 7000\n"
     ]
    },
    {
     "name": "stdin",
     "output_type": "stream",
     "text": [
      "주문할 메뉴 번호를 입력하세요 :  1\n",
      "주문할 수량을 숫자로 입력하세요 :  3\n"
     ]
    },
    {
     "name": "stdout",
     "output_type": "stream",
     "text": [
      "주문하신 메뉴는 에스프레소 입니다.  결제하실 금액은 9000 입니다\n"
     ]
    }
   ],
   "source": [
    "\n",
    "#환영인사\n",
    "print('*'*40)\n",
    "print(f'어서오세요 {store_name}에 오신것을 환영합니다')\n",
    "\n",
    "store_name = '바리스타 엘리\\'s 카페'\n",
    "menu_list = [\n",
    "    {'name':'에스프레소', 'price':3000}, \n",
    "    {'name':'아이스아메리카노', 'price':4000}, \n",
    "    {'name':'따뜻한라떼', 'price':5000},\n",
    "    {'name':'말차프라프치노', 'price':7000},\n",
    "]\n",
    "# ['에스프레소', '아이스아메리카노', '따뜻한라떼']\n",
    "# price_list = [3000, 4000, 5000]\n",
    "\n",
    "#메뉴목록 출력\n",
    "for i, menu in enumerate(menu_list) :\n",
    "    #print(i+1,menu)\n",
    "    print(f'{i+1}. {menu['name']} {menu['price']}')\n",
    "\n",
    "#주문화면\n",
    "order_num = int(input('주문할 메뉴 번호를 입력하세요 : '))-1\n",
    "qty = int(input('주문할 수량을 숫자로 입력하세요 : '))\n",
    "amt = qty * menu_list[order_num]['price']\n",
    "name = menu_list[order_num]['name']\n",
    "\n",
    "#주문결과 출력\n",
    "print(f'주문하신 메뉴는 {name} 입니다.  결제하실 금액은 {amt} 입니다')\n"
   ]
  }
 ],
 "metadata": {
  "kernelspec": {
   "display_name": "Python 3 (ipykernel)",
   "language": "python",
   "name": "python3"
  },
  "language_info": {
   "codemirror_mode": {
    "name": "ipython",
    "version": 3
   },
   "file_extension": ".py",
   "mimetype": "text/x-python",
   "name": "python",
   "nbconvert_exporter": "python",
   "pygments_lexer": "ipython3",
   "version": "3.12.9"
  }
 },
 "nbformat": 4,
 "nbformat_minor": 5
}
