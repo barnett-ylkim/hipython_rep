{
 "cells": [
  {
   "cell_type": "markdown",
   "id": "5d58954e",
   "metadata": {},
   "source": [
    "# 파일 읽기"
   ]
  },
  {
   "cell_type": "code",
   "execution_count": 2,
   "id": "ba73a14f",
   "metadata": {},
   "outputs": [],
   "source": [
    "with open('abc/text.txt', 'w') as f:\n",
    "  f.write('hello')"
   ]
  },
  {
   "cell_type": "code",
   "execution_count": 5,
   "id": "f514e24d",
   "metadata": {},
   "outputs": [],
   "source": [
    "f = open('abc/text.txt', 'r')\n",
    "f.read()\n",
    "f.close()"
   ]
  },
  {
   "cell_type": "code",
   "execution_count": 6,
   "id": "4de5b44b",
   "metadata": {},
   "outputs": [],
   "source": [
    "with open('abc/text1.txt', 'w', encoding='utf8') as f:\n",
    "  f.write('안녕하세요')\n",
    "  f.write('졸리네요')"
   ]
  },
  {
   "cell_type": "code",
   "execution_count": 14,
   "id": "41288cdb",
   "metadata": {},
   "outputs": [
    {
     "name": "stdout",
     "output_type": "stream",
     "text": [
      "안녕하세요졸리네요추가합니다.야호추가합니다.\n",
      "야호\n",
      "\n"
     ]
    }
   ],
   "source": [
    "with open('abc/text1.txt', 'r', encoding='utf8') as f:\n",
    "  txtfile = f.read() #UnicodeDecodeError\n",
    "  print(txtfile)\n",
    "  "
   ]
  },
  {
   "cell_type": "code",
   "execution_count": 13,
   "id": "c19e956d",
   "metadata": {},
   "outputs": [],
   "source": [
    "with open('abc/text1.txt', 'a', encoding='utf8') as f:\n",
    "  f.write('추가합니다.\\n')\n",
    "  f.write('야호\\n')"
   ]
  },
  {
   "cell_type": "code",
   "execution_count": 16,
   "id": "dd94cb11",
   "metadata": {},
   "outputs": [],
   "source": [
    "lines = [\n",
    "    \"Python 파일 입출력\\n\",\n",
    "    \"반복문을 사용하여 데이터를 저장합니다.\\n\",\n",
    "    \"데이터 처리가 편리합니다.\\n\"\n",
    "]\n",
    "\n",
    "with open(\"abc/example.txt\", \"w\", encoding=\"utf-8\") as file:\n",
    "    for line in lines:\n",
    "        file.write(line)"
   ]
  },
  {
   "cell_type": "code",
   "execution_count": 17,
   "id": "cb6646cb",
   "metadata": {},
   "outputs": [],
   "source": [
    "lines = [\"첫 번째 줄입니다.\\n\", \"두 번째 줄입니다.\\n\", \"세 번째 줄입니다.\\n\"]\n",
    "\n",
    "with open('abc/example1.txt', 'w') as f:\n",
    "    f.writelines(lines)"
   ]
  },
  {
   "cell_type": "code",
   "execution_count": 18,
   "id": "c0f0b4b8",
   "metadata": {},
   "outputs": [
    {
     "name": "stdout",
     "output_type": "stream",
     "text": [
      "첫 번째 줄입니다.\n",
      "두 번째 줄입니다.\n",
      "세 번째 줄입니다.\n",
      "\n"
     ]
    }
   ],
   "source": [
    "with open(\"abc/example1.txt\", \"r\", encoding=\"utf-8\") as file:\n",
    "    content = file.read()\n",
    "    print(content)"
   ]
  },
  {
   "cell_type": "code",
   "execution_count": 19,
   "id": "f41c2653",
   "metadata": {},
   "outputs": [
    {
     "name": "stdout",
     "output_type": "stream",
     "text": [
      "첫 번째 줄입니다.\n",
      "\n"
     ]
    }
   ],
   "source": [
    "with open(\"abc/example1.txt\", \"r\", encoding=\"utf-8\") as file:\n",
    "    line = file.readline()\n",
    "    print(line)"
   ]
  },
  {
   "cell_type": "code",
   "execution_count": 22,
   "id": "82d81f55",
   "metadata": {},
   "outputs": [
    {
     "name": "stdout",
     "output_type": "stream",
     "text": [
      "['첫 번째 줄입니다.\\n', '두 번째 줄입니다.\\n', '세 번째 줄입니다.\\n']\n",
      "첫 번째 줄입니다.\n",
      "두 번째 줄입니다.\n",
      "세 번째 줄입니다.\n"
     ]
    }
   ],
   "source": [
    "with open(\"abc/example1.txt\", \"r\", encoding=\"utf-8\") as file:\n",
    "    lines = file.readlines()\n",
    "\n",
    "print(lines)\n",
    "for line in lines:\n",
    "    print(line.strip())"
   ]
  },
  {
   "cell_type": "markdown",
   "id": "5ece3ca9",
   "metadata": {},
   "source": [
    "# 피클, 직렬화/역직렬화"
   ]
  },
  {
   "cell_type": "code",
   "execution_count": 24,
   "id": "c120564f",
   "metadata": {},
   "outputs": [],
   "source": [
    "import pickle\n",
    "\n",
    "# 직렬화할 데이터 딕셔너리\n",
    "data = {\n",
    "    'name': '홍길동',\n",
    "    'age': 30,\n",
    "    'scores': [90, 85, 88]\n",
    "}\n",
    "\n",
    "# 직렬화하여 파일에 저장\n",
    "with open('abc/data.pickle', 'wb') as f:\n",
    "    pickle.dump(data, f)"
   ]
  },
  {
   "cell_type": "code",
   "execution_count": 26,
   "id": "cf3e21f3",
   "metadata": {},
   "outputs": [
    {
     "name": "stdout",
     "output_type": "stream",
     "text": [
      "{'name': '홍길동', 'age': 30, 'scores': [90, 85, 88]}\n"
     ]
    }
   ],
   "source": [
    "# 파일에서 역직렬화하여 읽기\n",
    "with open('abc/data.pickle', 'rb') as f:\n",
    "    loaded_data = pickle.load(f)\n",
    "\n",
    "print(loaded_data)  # 원본 데이터가 그대로 복원됨"
   ]
  },
  {
   "cell_type": "code",
   "execution_count": 28,
   "id": "729ee1fc",
   "metadata": {},
   "outputs": [],
   "source": [
    "import json\n"
   ]
  },
  {
   "cell_type": "code",
   "execution_count": 32,
   "id": "35ca0aaa",
   "metadata": {},
   "outputs": [],
   "source": [
    "# 직렬화하여 파일에 저장\n",
    "with open('abc/data.json', 'w') as f:\n",
    "    json.dump(data, f, ensure_ascii=False)"
   ]
  },
  {
   "cell_type": "code",
   "execution_count": 33,
   "id": "a409588b",
   "metadata": {},
   "outputs": [
    {
     "name": "stdout",
     "output_type": "stream",
     "text": [
      "{'name': '홍길동', 'age': 30, 'scores': [90, 85, 88]}\n"
     ]
    }
   ],
   "source": [
    "with open('abc/data.json', 'r') as f:\n",
    "    loaded_txt = json.load(f)\n",
    "\n",
    "print(loaded_txt)"
   ]
  },
  {
   "cell_type": "code",
   "execution_count": 34,
   "id": "870c0101",
   "metadata": {},
   "outputs": [
    {
     "data": {
      "text/plain": [
       "[['name', 'age'], ['bob', 20], ['alice', 15]]"
      ]
     },
     "execution_count": 34,
     "metadata": {},
     "output_type": "execute_result"
    }
   ],
   "source": [
    "import csv\n",
    "data = [['name','age'], ['bob', 20], ['alice', 15]]\n",
    "data"
   ]
  },
  {
   "cell_type": "code",
   "execution_count": 36,
   "id": "2c0ab0da",
   "metadata": {},
   "outputs": [],
   "source": [
    "# 직렬화하여 파일에 저장\n",
    "with open('abc/data.csv', 'w') as f:\n",
    "    wrt = csv.writer(f)\n",
    "    wrt.writerows(data)"
   ]
  }
 ],
 "metadata": {
  "kernelspec": {
   "display_name": "hipython",
   "language": "python",
   "name": "python3"
  },
  "language_info": {
   "codemirror_mode": {
    "name": "ipython",
    "version": 3
   },
   "file_extension": ".py",
   "mimetype": "text/x-python",
   "name": "python",
   "nbconvert_exporter": "python",
   "pygments_lexer": "ipython3",
   "version": "3.12.9"
  }
 },
 "nbformat": 4,
 "nbformat_minor": 5
}
