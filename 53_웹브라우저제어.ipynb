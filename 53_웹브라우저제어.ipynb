{
 "cells": [
  {
   "cell_type": "code",
   "execution_count": 5,
   "id": "4b4caf6d",
   "metadata": {},
   "outputs": [
    {
     "name": "stdout",
     "output_type": "stream",
     "text": [
      "c:\\githome\\hipython_rep\\html\\basic2.html\n",
      "c:\\githome\\hipython_rep/html/basic2.html\n"
     ]
    }
   ],
   "source": [
    "import os\n",
    "file_path = os.getcwd() + '/html/basic2.html'\n",
    "print(os.path.abspath('html/basic2.html')) #path\n",
    "print(file_path)\n"
   ]
  },
  {
   "cell_type": "code",
   "execution_count": 6,
   "id": "24853e30",
   "metadata": {},
   "outputs": [
    {
     "data": {
      "text/plain": [
       "'file:///c:\\\\githome\\\\hipython_rep/html/basic2.html'"
      ]
     },
     "execution_count": 6,
     "metadata": {},
     "output_type": "execute_result"
    }
   ],
   "source": [
    "url = 'file:///'+file_path\n",
    "url"
   ]
  },
  {
   "cell_type": "code",
   "execution_count": 8,
   "id": "808596c4",
   "metadata": {},
   "outputs": [],
   "source": [
    "from selenium import webdriver\n",
    "\n",
    "driver = webdriver.Chrome()\n",
    "driver.get(url)"
   ]
  },
  {
   "cell_type": "code",
   "execution_count": 9,
   "id": "9649e47f",
   "metadata": {},
   "outputs": [],
   "source": [
    "username_el = driver.find_element(by='name', value='username')\n",
    "username_el.send_keys('ylkim')"
   ]
  },
  {
   "cell_type": "code",
   "execution_count": 11,
   "id": "a9d5b5f5",
   "metadata": {},
   "outputs": [],
   "source": [
    "#passwd 값 설정\n",
    "password = driver.find_element(by='name', value='password')\n",
    "password.send_keys(\"123456789\")"
   ]
  },
  {
   "cell_type": "code",
   "execution_count": 16,
   "id": "c30de24f",
   "metadata": {},
   "outputs": [],
   "source": [
    "# 파이썬전문가그룹의 링크값\n",
    "link = driver.find_element(by='link text', value='파이썬전문가그룹')\n",
    "link.click()"
   ]
  },
  {
   "cell_type": "code",
   "execution_count": 17,
   "id": "1a7d0e97",
   "metadata": {},
   "outputs": [],
   "source": [
    "driver.back()"
   ]
  },
  {
   "cell_type": "markdown",
   "id": "1f9df7ca",
   "metadata": {},
   "source": [
    "# 검색 결과 가져오기"
   ]
  },
  {
   "cell_type": "code",
   "execution_count": 18,
   "id": "302d239d",
   "metadata": {},
   "outputs": [],
   "source": [
    "from selenium import webdriver\n",
    "\n",
    "driver = webdriver.Chrome()\n",
    "driver.get('https://www.python.org/')"
   ]
  },
  {
   "cell_type": "code",
   "execution_count": 19,
   "id": "c10b59d3",
   "metadata": {},
   "outputs": [],
   "source": [
    "from selenium.webdriver.common.by import By"
   ]
  },
  {
   "cell_type": "code",
   "execution_count": 20,
   "id": "7a67099a",
   "metadata": {},
   "outputs": [],
   "source": [
    "input_el = driver.find_element(by=By.ID, value = 'id-search-field')\n",
    "input_el.send_keys('pycon')\n"
   ]
  },
  {
   "cell_type": "code",
   "execution_count": null,
   "id": "624d4709",
   "metadata": {},
   "outputs": [],
   "source": [
    "driver.find_element(by='css selector', value='#xxxxxx')"
   ]
  }
 ],
 "metadata": {
  "kernelspec": {
   "display_name": "webcrawl_env",
   "language": "python",
   "name": "python3"
  },
  "language_info": {
   "codemirror_mode": {
    "name": "ipython",
    "version": 3
   },
   "file_extension": ".py",
   "mimetype": "text/x-python",
   "name": "python",
   "nbconvert_exporter": "python",
   "pygments_lexer": "ipython3",
   "version": "3.10.18"
  }
 },
 "nbformat": 4,
 "nbformat_minor": 5
}
