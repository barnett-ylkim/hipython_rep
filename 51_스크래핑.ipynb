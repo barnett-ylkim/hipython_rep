{
 "cells": [
  {
   "cell_type": "code",
   "execution_count": 1,
   "id": "b75a5b81",
   "metadata": {},
   "outputs": [],
   "source": [
    "import requests"
   ]
  },
  {
   "cell_type": "code",
   "execution_count": 4,
   "id": "7d8d0a15",
   "metadata": {},
   "outputs": [
    {
     "name": "stdout",
     "output_type": "stream",
     "text": [
      "c:\\githome\\hipython_rep\n",
      "c:\\githome\\hipython_rep\\html\\sample.html\n"
     ]
    }
   ],
   "source": [
    "import os\n",
    "print(os.getcwd())\n",
    "print(os.path.abspath('html/sample.html')) #path"
   ]
  },
  {
   "cell_type": "code",
   "execution_count": 5,
   "id": "2971d9af",
   "metadata": {},
   "outputs": [],
   "source": [
    "import urllib.request"
   ]
  },
  {
   "cell_type": "code",
   "execution_count": 15,
   "id": "fa90c2d7",
   "metadata": {},
   "outputs": [
    {
     "name": "stdout",
     "output_type": "stream",
     "text": [
      "file:///c:\\githome\\hipython_rep\\html\\sample.html\n",
      "<!DOCTYPE html>\n",
      "<html lang=\"en\">\n",
      "<head>\n",
      "  <meta charset=\"UTF-8\">\n",
      "  <meta name=\"viewport\" content\n"
     ]
    }
   ],
   "source": [
    "# 파일의 절대경로 \n",
    "abs_path= os.path.abspath('html/sample.html')\n",
    "\n",
    "url_path = \"file:///\"+abs_path\n",
    "print(url_path)\n",
    "\n",
    "with urllib.request.urlopen(url_path) as f:\n",
    "  html = f.read().decode('utf-8')\n",
    "  \n",
    "print(html[:100])"
   ]
  },
  {
   "cell_type": "code",
   "execution_count": 20,
   "id": "e78a2a92",
   "metadata": {},
   "outputs": [
    {
     "name": "stdout",
     "output_type": "stream",
     "text": [
      "200\n",
      "<!DOCTYPE html>\n",
      "<html lang=\"en\">\n",
      "<head>\n",
      "  <meta charset=\"UTF-8\">\n",
      "  <meta name=\"viewport\" content\n"
     ]
    }
   ],
   "source": [
    "res = requests.get('http://localhost:5500/html/sample.html')\n",
    "print(res.status_code)\n",
    "print(res.text[:100])"
   ]
  },
  {
   "cell_type": "code",
   "execution_count": 21,
   "id": "bbb6ce45",
   "metadata": {},
   "outputs": [
    {
     "data": {
      "text/plain": [
       "<!DOCTYPE html>\n",
       "\n",
       "<html lang=\"en\">\n",
       "<head>\n",
       "<meta charset=\"utf-8\"/>\n",
       "<meta content=\"width=device-width, initial-scale=1.0\" name=\"viewport\"/>\n",
       "<title>Hello LGU+ SWBootCamp</title>\n",
       "</head>\n",
       "<body>\n",
       "<h1>Hello scrapping</h1>\n",
       "<div id=\"subject\">선택자</div>\n",
       "<div class=\"contents\">\n",
       "    선택자가 중요합니다. 잘 찾아주세요\n",
       "    <span>다른 <b>요소가 나올수도 </b> 있습니다.</span>\n",
       "</div>\n",
       "<div>CSS 선택자에는 요소 선택자, 클래스 선택자, ID 선택자가 있습니다.</div>\n",
       "<!-- Code injected by live-server -->\n",
       "<script>\n",
       "\t// <![CDATA[  <-- For SVG support\n",
       "\tif ('WebSocket' in window) {\n",
       "\t\t(function () {\n",
       "\t\t\tfunction refreshCSS() {\n",
       "\t\t\t\tvar sheets = [].slice.call(document.getElementsByTagName(\"link\"));\n",
       "\t\t\t\tvar head = document.getElementsByTagName(\"head\")[0];\n",
       "\t\t\t\tfor (var i = 0; i < sheets.length; ++i) {\n",
       "\t\t\t\t\tvar elem = sheets[i];\n",
       "\t\t\t\t\tvar parent = elem.parentElement || head;\n",
       "\t\t\t\t\tparent.removeChild(elem);\n",
       "\t\t\t\t\tvar rel = elem.rel;\n",
       "\t\t\t\t\tif (elem.href && typeof rel != \"string\" || rel.length == 0 || rel.toLowerCase() == \"stylesheet\") {\n",
       "\t\t\t\t\t\tvar url = elem.href.replace(/(&|\\?)_cacheOverride=\\d+/, '');\n",
       "\t\t\t\t\t\telem.href = url + (url.indexOf('?') >= 0 ? '&' : '?') + '_cacheOverride=' + (new Date().valueOf());\n",
       "\t\t\t\t\t}\n",
       "\t\t\t\t\tparent.appendChild(elem);\n",
       "\t\t\t\t}\n",
       "\t\t\t}\n",
       "\t\t\tvar protocol = window.location.protocol === 'http:' ? 'ws://' : 'wss://';\n",
       "\t\t\tvar address = protocol + window.location.host + window.location.pathname + '/ws';\n",
       "\t\t\tvar socket = new WebSocket(address);\n",
       "\t\t\tsocket.onmessage = function (msg) {\n",
       "\t\t\t\tif (msg.data == 'reload') window.location.reload();\n",
       "\t\t\t\telse if (msg.data == 'refreshcss') refreshCSS();\n",
       "\t\t\t};\n",
       "\t\t\tif (sessionStorage && !sessionStorage.getItem('IsThisFirstTime_Log_From_LiveServer')) {\n",
       "\t\t\t\tconsole.log('Live reload enabled.');\n",
       "\t\t\t\tsessionStorage.setItem('IsThisFirstTime_Log_From_LiveServer', true);\n",
       "\t\t\t}\n",
       "\t\t})();\n",
       "\t}\n",
       "\telse {\n",
       "\t\tconsole.error('Upgrade your browser. This Browser is NOT supported WebSocket for Live-Reloading.');\n",
       "\t}\n",
       "\t// ]]>\n",
       "</script>\n",
       "</body>\n",
       "</html>"
      ]
     },
     "execution_count": 21,
     "metadata": {},
     "output_type": "execute_result"
    }
   ],
   "source": [
    "from bs4 import BeautifulSoup\n",
    "soup = BeautifulSoup(res.text, 'html.parser') #파서\n",
    "soup"
   ]
  },
  {
   "cell_type": "code",
   "execution_count": 23,
   "id": "ad285b7e",
   "metadata": {},
   "outputs": [
    {
     "data": {
      "text/plain": [
       "[<div class=\"contents\">\n",
       "     선택자가 중요합니다. 잘 찾아주세요\n",
       "     <span>다른 <b>요소가 나올수도 </b> 있습니다.</span>\n",
       " </div>]"
      ]
     },
     "execution_count": 23,
     "metadata": {},
     "output_type": "execute_result"
    }
   ],
   "source": [
    "#soup.select('div', class_='contents')\n",
    "soup.select('div.contents')  # class 선택자 . , id 선택자 #"
   ]
  },
  {
   "cell_type": "code",
   "execution_count": null,
   "id": "de74f26e",
   "metadata": {},
   "outputs": [
    {
     "data": {
      "text/plain": [
       "[<div id=\"subject\">선택자</div>]"
      ]
     },
     "execution_count": 25,
     "metadata": {},
     "output_type": "execute_result"
    }
   ],
   "source": [
    "soup.select(\"#subject\")  #지정한 "
   ]
  },
  {
   "cell_type": "code",
   "execution_count": 26,
   "id": "68d299c5",
   "metadata": {},
   "outputs": [
    {
     "data": {
      "text/plain": [
       "[<div id=\"subject\">선택자</div>,\n",
       " <div class=\"contents\">\n",
       "     선택자가 중요합니다. 잘 찾아주세요\n",
       "     <span>다른 <b>요소가 나올수도 </b> 있습니다.</span>\n",
       " </div>,\n",
       " <div>CSS 선택자에는 요소 선택자, 클래스 선택자, ID 선택자가 있습니다.</div>]"
      ]
     },
     "execution_count": 26,
     "metadata": {},
     "output_type": "execute_result"
    }
   ],
   "source": [
    "soup.select('div') "
   ]
  },
  {
   "cell_type": "code",
   "execution_count": 27,
   "id": "d0c0e404",
   "metadata": {},
   "outputs": [
    {
     "data": {
      "text/plain": [
       "<div id=\"subject\">선택자</div>"
      ]
     },
     "execution_count": 27,
     "metadata": {},
     "output_type": "execute_result"
    }
   ],
   "source": [
    "soup.select_one('div') "
   ]
  },
  {
   "cell_type": "markdown",
   "id": "9b6ea82b",
   "metadata": {},
   "source": [
    "# 네이버 환율 정보 가져오기\n",
    "\n",
    "https://finance.naver.com/marketindex/"
   ]
  },
  {
   "cell_type": "code",
   "execution_count": null,
   "id": "7e0a45e1",
   "metadata": {},
   "outputs": [],
   "source": [
    "url = \"https://finance.naver.com/marketindex/\"\n",
    "m_index = requests.get(url)"
   ]
  },
  {
   "cell_type": "markdown",
   "id": "4adee443",
   "metadata": {},
   "source": [
    "#exchangeList > li.on > a.head.usd > div > span.value\n",
    "#worldExchangeList > li.on > a.head.jpy_usd > div > span.value"
   ]
  },
  {
   "cell_type": "code",
   "execution_count": null,
   "id": "6bc748b5",
   "metadata": {},
   "outputs": [
    {
     "name": "stdout",
     "output_type": "stream",
     "text": [
      "1,378.50\n"
     ]
    }
   ],
   "source": [
    "if m_index.status_code == 200:\n",
    "  soup = BeautifulSoup(m_index.content, 'html.parser') #페이지전체\n",
    "  #price = soup.select_one('span.value') #span 태그 목록 중에서 1번째\n",
    "  us_price = soup.select_one('a.head.usd > div > span.value')\n",
    "  print(us_price.text)"
   ]
  },
  {
   "cell_type": "code",
   "execution_count": null,
   "id": "7862c4e4",
   "metadata": {},
   "outputs": [],
   "source": [
    "# basic.html 을 읽어서 셀렉터로 꺼내기"
   ]
  },
  {
   "cell_type": "code",
   "execution_count": 37,
   "id": "9ccbf944",
   "metadata": {},
   "outputs": [
    {
     "name": "stdout",
     "output_type": "stream",
     "text": [
      "200\n",
      "<!DOCTYPE html>\n",
      "<html>\n",
      "  <head>\n",
      "    <meta charset=\"UTF-8\" />\n",
      "    <meta name=\"viewport\" content=\"\n"
     ]
    }
   ],
   "source": [
    "res = requests.get('http://localhost:5500/html/basic.html')\n",
    "print(res.status_code)\n",
    "print(res.text[:100])"
   ]
  },
  {
   "cell_type": "markdown",
   "id": "1c9b79d3",
   "metadata": {},
   "source": [
    "head > style"
   ]
  },
  {
   "cell_type": "code",
   "execution_count": 41,
   "id": "830309db",
   "metadata": {},
   "outputs": [
    {
     "name": "stdout",
     "output_type": "stream",
     "text": [
      "\n",
      "      /* css 스타일 지정 */\n",
      "    \n"
     ]
    }
   ],
   "source": [
    "if res.status_code == 200:\n",
    "  soup = BeautifulSoup(res.content, 'html.parser') #페이지전체\n",
    "  style_tag = soup.select_one('head > style')\n",
    "  print(style_tag.text)"
   ]
  },
  {
   "cell_type": "markdown",
   "id": "2f671641",
   "metadata": {},
   "source": [
    "# 정규 표현식"
   ]
  },
  {
   "cell_type": "markdown",
   "id": "d6ca50cf",
   "metadata": {},
   "source": [
    "f-string\n",
    "f'ddddddd{code}'\n",
    "r-string "
   ]
  },
  {
   "cell_type": "code",
   "execution_count": 42,
   "id": "d6a76c30",
   "metadata": {},
   "outputs": [
    {
     "name": "stdout",
     "output_type": "stream",
     "text": [
      "123\n"
     ]
    }
   ],
   "source": [
    "import re\n",
    "pattern = re.compile(r'\\d+')  # 숫자이면서 1개 이상 반복되는 것\n",
    "match = pattern.match('123abc')\n",
    "if match:\n",
    "    print(match.group())  "
   ]
  },
  {
   "cell_type": "code",
   "execution_count": 43,
   "id": "6a4efa01",
   "metadata": {},
   "outputs": [
    {
     "data": {
      "text/plain": [
       "<re.Match object; span=(0, 3), match='123'>"
      ]
     },
     "execution_count": 43,
     "metadata": {},
     "output_type": "execute_result"
    }
   ],
   "source": [
    "match"
   ]
  },
  {
   "cell_type": "code",
   "execution_count": null,
   "id": "12359cd9",
   "metadata": {},
   "outputs": [],
   "source": [
    "import re\n",
    "\n",
    "# 1. 전화번호 추출\n",
    "string = 'hello ylk1234@gmail.com 010-222-3333 world 02-1345-2345$'"
   ]
  },
  {
   "cell_type": "code",
   "execution_count": 49,
   "id": "1af12fc6",
   "metadata": {},
   "outputs": [
    {
     "data": {
      "text/plain": [
       "['010-222-3333', '02-1345-2345']"
      ]
     },
     "execution_count": 49,
     "metadata": {},
     "output_type": "execute_result"
    }
   ],
   "source": [
    "# 2. 패턴 정하기\n",
    "\n",
    "#d 는 숫자 찾기, {이상, 이하} 반복횟수 지정\n",
    "pattern = re.compile(r'\\d{2,3}-\\d{3,4}-\\d{4}')\n",
    "#match_list = pattern.match(string) #처음부터 찾기\n",
    "#match_list = pattern.search(string) #1개 찾기\n",
    "match_list = pattern.findall(string)\n",
    "match_list"
   ]
  }
 ],
 "metadata": {
  "kernelspec": {
   "display_name": "webcrawl_env",
   "language": "python",
   "name": "python3"
  },
  "language_info": {
   "codemirror_mode": {
    "name": "ipython",
    "version": 3
   },
   "file_extension": ".py",
   "mimetype": "text/x-python",
   "name": "python",
   "nbconvert_exporter": "python",
   "pygments_lexer": "ipython3",
   "version": "3.10.18"
  }
 },
 "nbformat": 4,
 "nbformat_minor": 5
}
