{
 "cells": [
  {
   "cell_type": "markdown",
   "metadata": {},
   "source": [
    "# 쇼핑몰 매출 데이터 분석을 통한 NumPy 기본 연습 문제\n",
    "\n",
    "이 연습 문제들은 30일 동안의 쇼핑몰 매출 데이터를 분석하며, NumPy의 기본 기능을 실습하는 것을 목표로 합니다.\n"
   ]
  },
  {
   "cell_type": "markdown",
   "metadata": {},
   "source": [
    "### 문제 1: 매출 데이터에서 일일 평균 매출 계산하기\n",
    "- **설명**: 30일 동안의 쇼핑몰 매출 데이터를 배열로 제공할 때, 일일 평균 매출을 계산하세요.\n",
    "- **힌트**: `np.mean()` 함수를 사용하여 배열의 평균값을 계산합니다.\n"
   ]
  },
  {
   "cell_type": "code",
   "execution_count": 1,
   "metadata": {},
   "outputs": [],
   "source": [
    "import numpy as np\n",
    "sales_data = np.array([2200, 2350, 2500, 2750, 3000, 3100, 2700, 2600, 2900, 3200,\n",
    "                       3400, 3600, 3300, 3100, 2900, 2700, 2800, 2900, 3100, 3200,\n",
    "                       3300, 3400, 3500, 3700, 3600, 3500, 3400, 3300, 3000, 3100])\n"
   ]
  },
  {
   "cell_type": "code",
   "execution_count": 2,
   "metadata": {},
   "outputs": [
    {
     "data": {
      "text/plain": [
       "(30,)"
      ]
     },
     "execution_count": 2,
     "metadata": {},
     "output_type": "execute_result"
    }
   ],
   "source": [
    "sales_data.shape"
   ]
  },
  {
   "cell_type": "code",
   "execution_count": 6,
   "metadata": {},
   "outputs": [
    {
     "name": "stdout",
     "output_type": "stream",
     "text": [
      "3070.0\n",
      "3070.0\n"
     ]
    }
   ],
   "source": [
    "# numpy 함수\n",
    "avg_sales = np.mean(sales_data)\n",
    "print(avg_sales)\n",
    "# 행렬의 합 / 행렬의 요소수\n",
    "avg_sales1 = sales_data.sum() / sales_data.size\n",
    "print(avg_sales1)"
   ]
  },
  {
   "cell_type": "markdown",
   "metadata": {},
   "source": [
    "### 문제 2: 매출 데이터에서 최대 매출일과 최소 매출일 찾기\n",
    "- **설명**: 매출 데이터에서 가장 높은 매출과 가장 낮은 매출을 기록한 날짜를 찾아보세요.\n",
    "- **힌트**: `np.argmax()`, `np.argmin()`을 사용하여 최대값, 최소값의 인덱스를 찾습니다.\n"
   ]
  },
  {
   "cell_type": "code",
   "execution_count": 8,
   "metadata": {},
   "outputs": [
    {
     "name": "stdout",
     "output_type": "stream",
     "text": [
      "최대 매출일 : 24    최소 매출일 : 1\n"
     ]
    }
   ],
   "source": [
    "#sales_data.shape\n",
    "max_day, min_day = sales_data.argmax(), sales_data.argmin()\n",
    "print(f'최대 매출일 : {max_day+1}    최소 매출일 : {min_day+1}')"
   ]
  },
  {
   "cell_type": "markdown",
   "metadata": {},
   "source": [
    "### 문제 3: 7일 단위로 매출 합계 계산하기\n",
    "- **설명**: 30일 매출 데이터를 7일 단위로 나누어 각 주차별 매출 합계를 계산하세요.\n",
    "- **힌트**: 배열을 슬라이싱하거나 `reshape()`를 사용하여 배열을 변환합니다.\n"
   ]
  },
  {
   "cell_type": "code",
   "execution_count": 10,
   "metadata": {},
   "outputs": [
    {
     "data": {
      "text/plain": [
       "array([[2200, 2350, 2500, 2750, 3000, 3100, 2700],\n",
       "       [2600, 2900, 3200, 3400, 3600, 3300, 3100],\n",
       "       [2900, 2700, 2800, 2900, 3100, 3200, 3300],\n",
       "       [3400, 3500, 3700, 3600, 3500, 3400, 3300]])"
      ]
     },
     "execution_count": 10,
     "metadata": {},
     "output_type": "execute_result"
    }
   ],
   "source": [
    "sales_data[:28].reshape(4,7)\n"
   ]
  },
  {
   "cell_type": "code",
   "execution_count": 14,
   "metadata": {},
   "outputs": [
    {
     "data": {
      "text/plain": [
       "array([[2200, 2350, 2500, 2750, 3000, 3100, 2700],\n",
       "       [2600, 2900, 3200, 3400, 3600, 3300, 3100],\n",
       "       [2900, 2700, 2800, 2900, 3100, 3200, 3300],\n",
       "       [3400, 3500, 3700, 3600, 3500, 3400, 3300],\n",
       "       [3000, 3100,    0,    0,    0,    0,    0]])"
      ]
     },
     "execution_count": 14,
     "metadata": {},
     "output_type": "execute_result"
    }
   ],
   "source": [
    "weekly_data = np.pad(sales_data, (0,5), 'constant', constant_values=0).reshape(5,7)\n",
    "weekly_data"
   ]
  },
  {
   "cell_type": "code",
   "execution_count": 18,
   "metadata": {},
   "outputs": [
    {
     "data": {
      "text/plain": [
       "array([18600, 22100, 20900, 24400,  6100])"
      ]
     },
     "execution_count": 18,
     "metadata": {},
     "output_type": "execute_result"
    }
   ],
   "source": [
    "weekly_data.sum(axis=0) #요일별 합계\n",
    "weekly_data.sum(axis=1) #주별 합계\n"
   ]
  },
  {
   "cell_type": "markdown",
   "metadata": {},
   "source": [
    "### 문제 4: 매출 데이터에서 특정 조건에 맞는 매출 데이터 필터링하기\n",
    "- **설명**: 매출이 3000 이상인 날들의 매출만 필터링하여 보여주세요.\n",
    "- **힌트**: 배열에서 조건 필터링을 사용하는 방법을 익힙니다.\n"
   ]
  },
  {
   "cell_type": "code",
   "execution_count": 25,
   "metadata": {},
   "outputs": [
    {
     "data": {
      "text/plain": [
       "array([3000, 3100, 3200, 3400, 3600, 3300, 3100, 3100, 3200, 3300, 3400,\n",
       "       3500, 3700, 3600, 3500, 3400, 3300, 3000, 3100])"
      ]
     },
     "execution_count": 25,
     "metadata": {},
     "output_type": "execute_result"
    }
   ],
   "source": [
    "#filter()\n",
    "high_sales = list(filter(lambda x: x>=3000, sales_data))\n",
    "np.array(high_sales)"
   ]
  },
  {
   "cell_type": "code",
   "execution_count": 27,
   "metadata": {},
   "outputs": [
    {
     "data": {
      "text/plain": [
       "array([3000, 3100, 3200, 3400, 3600, 3300, 3100, 3100, 3200, 3300, 3400,\n",
       "       3500, 3700, 3600, 3500, 3400, 3300, 3000, 3100])"
      ]
     },
     "execution_count": 27,
     "metadata": {},
     "output_type": "execute_result"
    }
   ],
   "source": [
    "#부울인덱싱\n",
    "high_sales = sales_data[sales_data>=3000]\n",
    "high_sales"
   ]
  },
  {
   "cell_type": "markdown",
   "metadata": {},
   "source": [
    "### 문제 5: 특정 범위 내 매출의 평균값 계산하기\n",
    "- **설명**: 매출이 2800에서 3500 사이인 날들의 평균 매출을 계산하세요.\n",
    "- **힌트**: 조건 필터링 후 `np.mean()`을 사용하여 계산합니다.\n"
   ]
  },
  {
   "cell_type": "code",
   "execution_count": null,
   "metadata": {},
   "outputs": [],
   "source": []
  },
  {
   "cell_type": "markdown",
   "metadata": {},
   "source": [
    "# 주차별 평균 계산"
   ]
  },
  {
   "cell_type": "markdown",
   "metadata": {},
   "source": [
    "# 매출의 중앙값"
   ]
  },
  {
   "cell_type": "markdown",
   "metadata": {},
   "source": [
    "# 매출이 증가한 날, 감소한 날 카운트"
   ]
  },
  {
   "cell_type": "markdown",
   "metadata": {},
   "source": [
    "# 각 주차별로 가장 매출이 높았던 날 찾기"
   ]
  },
  {
   "cell_type": "code",
   "execution_count": null,
   "metadata": {},
   "outputs": [],
   "source": []
  }
 ],
 "metadata": {
  "kernelspec": {
   "display_name": "hipython",
   "language": "python",
   "name": "python3"
  },
  "language_info": {
   "codemirror_mode": {
    "name": "ipython",
    "version": 3
   },
   "file_extension": ".py",
   "mimetype": "text/x-python",
   "name": "python",
   "nbconvert_exporter": "python",
   "pygments_lexer": "ipython3",
   "version": "3.12.9"
  }
 },
 "nbformat": 4,
 "nbformat_minor": 4
}
